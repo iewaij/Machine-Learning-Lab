{
 "cells": [
  {
   "cell_type": "code",
   "execution_count": 41,
   "metadata": {
    "collapsed": false,
    "deletable": true,
    "editable": true
   },
   "outputs": [],
   "source": [
    "import jieba\n",
    "from collections import Counter\n",
    "from collections import defaultdict\n",
    "import random"
   ]
  },
  {
   "cell_type": "code",
   "execution_count": 72,
   "metadata": {
    "collapsed": false,
    "deletable": true,
    "editable": true
   },
   "outputs": [],
   "source": [
    "with open(\"myarticles.txt\") as file:\n",
    "    words = []\n",
    "    for line in file:\n",
    "        # strip space\n",
    "        striped_line = line.replace(\" \", \"\")\n",
    "#         striped_line = striped_line.replace(\"，\", \"\")        \n",
    "#         striped_line = striped_line.replace(\"。\", \"\")\n",
    "        # words is word list \n",
    "        words += jieba.lcut(striped_line.strip())        "
   ]
  },
  {
   "cell_type": "code",
   "execution_count": 73,
   "metadata": {
    "collapsed": true,
    "deletable": true,
    "editable": true
   },
   "outputs": [],
   "source": [
    "def combine (input):\n",
    "    # combine 2 words -> list\n",
    "    # TODO: combine n_gram words\n",
    "    combined_list = []\n",
    "    for n in range(len(input)-1):\n",
    "        combined_list.append([input[n], input[n+1]])\n",
    "    return combined_list"
   ]
  },
  {
   "cell_type": "code",
   "execution_count": 74,
   "metadata": {
    "collapsed": false,
    "deletable": true,
    "editable": true
   },
   "outputs": [],
   "source": [
    "# get the keys\n",
    "key_lists = combine(words)\n",
    "\n",
    "# define n_gram\n",
    "n_gram = 2\n",
    "\n",
    "# combine key_lists and words\n",
    "# NOT SURE\n",
    "\n",
    "# define defaultdict -> keys are '[W1, W2... Wn]', value is [Wn+1]\n",
    "words_dict = defaultdict(list)\n",
    "\n",
    "for n in range(0, len(words)-n_gram):\n",
    "    words_dict[str(key_lists[n])].append(words[n+n_gram])"
   ]
  },
  {
   "cell_type": "code",
   "execution_count": 80,
   "metadata": {
    "collapsed": false,
    "deletable": true,
    "editable": true
   },
   "outputs": [
    {
     "name": "stdout",
     "output_type": "stream",
     "text": [
      "Initial words are Homebridge 是\n"
     ]
    }
   ],
   "source": [
    "# initiate sentence\n",
    "r_initial = random.randint(0, len(key_lists))\n",
    "s = key_lists[r_initial]\n",
    "print 'Initial words are', s[0], s[1]"
   ]
  },
  {
   "cell_type": "code",
   "execution_count": 81,
   "metadata": {
    "collapsed": false,
    "deletable": true,
    "editable": true
   },
   "outputs": [
    {
     "name": "stdout",
     "output_type": "stream",
     "text": [
      "Homebridge是一个模糊的概念，二是父亲在杭州与人合开门诊，他在哈佛修的是树莓派3ModelB(同时配了外壳和散热片)RMB2064.预先烧录好NOOBS的MicroSD卡.把下载好的NOOBSforRaspberryPi解压缩然后拷到SD卡上.当然,也可以,凑活用就好,之后可以在Macbook上使用SSH操作),它出的精英掌握了话语权，成为幸存者，才能做到C，必然需要跳出思维框架。>>凌晨5点开车过来\n"
     ]
    }
   ],
   "source": [
    "# let's gamble!\n",
    "for n in range(0,100):\n",
    "    if words_dict[str(s[-2:])]:\n",
    "        gamble_list = words_dict[str(s[-2:])]\n",
    "#         print 'len is', len(gamble_list)\n",
    "        r_gamble = random.randint(0, len(gamble_list)-1)\n",
    "#         print 'r is', r_gamble\n",
    "        gamble_output = gamble_list[r_gamble]\n",
    "#         print 'Gamble done!', n, 'is', gamble_output\n",
    "        s.append(gamble_output)\n",
    "#         print s\n",
    "    else:\n",
    "        r_gamble = random.randint(0, len(words))\n",
    "        gamble_output = words[r_gamble]\n",
    "        s.append(gamble_output)\n",
    "#         print 'dead.'\n",
    "    \n",
    "output = ''\n",
    "for n in range(0, len(s)):\n",
    "    output += s[n]\n",
    "    \n",
    "print output\n",
    "    \n",
    "        "
   ]
  },
  {
   "cell_type": "code",
   "execution_count": null,
   "metadata": {
    "collapsed": false,
    "deletable": true,
    "editable": true
   },
   "outputs": [],
   "source": [
    "# # TEST SPACE\n",
    "# n_gram = 2\n",
    "# words = ['a', 'b','c','d','a', 'b', 'e']\n",
    "# key_lists = combine(words)\n",
    "# test_dict = defaultdict(list)\n",
    "\n",
    "# print 'this is key_lists:', key_lists\n",
    "# for n in range(0, len(words)-n_gram):\n",
    "#     test_dict[str(key_lists[n])].append(words[n+n_gram])\n",
    "#     print 'assign key_lists[%d] as %s, append %s'  %(n, str(key_lists[n]), words[n+n_gram])\n",
    "# print 'the result:', test_dict.items()\n",
    "\n",
    "# test_dict[\"['a', 'b']\"] == None"
   ]
  }
 ],
 "metadata": {
  "kernelspec": {
   "display_name": "Python 2",
   "language": "python",
   "name": "python2"
  },
  "language_info": {
   "codemirror_mode": {
    "name": "ipython",
    "version": 2
   },
   "file_extension": ".py",
   "mimetype": "text/x-python",
   "name": "python",
   "nbconvert_exporter": "python",
   "pygments_lexer": "ipython2",
   "version": "2.7.6"
  }
 },
 "nbformat": 4,
 "nbformat_minor": 2
}
