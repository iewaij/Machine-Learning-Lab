{
 "cells": [
  {
   "cell_type": "markdown",
   "metadata": {
    "deletable": true,
    "editable": true
   },
   "source": [
    "# 使用贝叶斯分类器判断句子的情绪"
   ]
  },
  {
   "cell_type": "code",
   "execution_count": 1,
   "metadata": {
    "collapsed": true,
    "deletable": true,
    "editable": true
   },
   "outputs": [],
   "source": [
    "import jieba\n",
    "from collections import Counter"
   ]
  },
  {
   "cell_type": "code",
   "execution_count": 2,
   "metadata": {
    "collapsed": false,
    "deletable": true,
    "editable": true
   },
   "outputs": [
    {
     "name": "stderr",
     "output_type": "stream",
     "text": [
      "Building prefix dict from the default dictionary ...\n",
      "Loading model from cache /tmp/jieba.cache\n",
      "Loading model cost 0.275 seconds.\n",
      "Prefix dict has been built succesfully.\n"
     ]
    }
   ],
   "source": [
    "with open(\"pos_train.txt\") as file:\n",
    "    content = file.read()\n",
    "pos_words = [i for i in jieba.cut(content)]\n",
    "        \n",
    "cnt_pos = Counter(pos_words)\n",
    "\n",
    "with open(\"neg_train.txt\") as file:\n",
    "    content = file.read()\n",
    "neg_words = [i for i in jieba.cut(content)]\n",
    "        \n",
    "cnt_neg = Counter(neg_words)\n",
    "\n",
    "pos_total = float(sum(cnt_pos.values()))\n",
    "neg_total = float(sum(cnt_neg.values()))"
   ]
  },
  {
   "cell_type": "markdown",
   "metadata": {
    "deletable": true,
    "editable": true
   },
   "source": [
    "得到正面和负面两个条件下，各个词对应的频率。现在开始归一化。"
   ]
  },
  {
   "cell_type": "code",
   "execution_count": 3,
   "metadata": {
    "collapsed": false,
    "deletable": true,
    "editable": true
   },
   "outputs": [],
   "source": [
    "def prob(cnt):\n",
    "    total = float(sum(cnt.values()))\n",
    "    for key, value in cnt.items():\n",
    "        cnt[key] /= total"
   ]
  },
  {
   "cell_type": "code",
   "execution_count": 4,
   "metadata": {
    "collapsed": true,
    "deletable": true,
    "editable": true
   },
   "outputs": [],
   "source": [
    "prob(cnt_pos)\n",
    "prob(cnt_neg)"
   ]
  },
  {
   "cell_type": "code",
   "execution_count": 5,
   "metadata": {
    "collapsed": false,
    "deletable": true,
    "editable": true
   },
   "outputs": [
    {
     "name": "stdout",
     "output_type": "stream",
     "text": [
      "0.5\n",
      "1.0 1.0\n"
     ]
    }
   ],
   "source": [
    "# Check the prob of pos words.\n",
    "pos_prob = sum(cnt_pos.values())/(sum(cnt_pos.values())+sum(cnt_neg.values()))\n",
    "print pos_prob\n",
    "\n",
    "print sum(cnt_pos.values()), sum(cnt_neg.values())\n"
   ]
  },
  {
   "cell_type": "code",
   "execution_count": 6,
   "metadata": {
    "collapsed": true,
    "deletable": true,
    "editable": true
   },
   "outputs": [],
   "source": [
    "def guess(s):\n",
    "    words = [i for i in jieba.cut(s)]\n",
    "    pos = 1\n",
    "    neg = 1\n",
    "    for word in words:\n",
    "        # if the word has no value in cnt, skip it\n",
    "        if cnt_pos[word]!= 0 and cnt_neg[word]!= 0:\n",
    "            pos *= cnt_pos[word]\n",
    "            neg *= cnt_neg[word]\n",
    "    if pos > neg:\n",
    "        # print \"This sentence is positive.\"\n",
    "        return 1\n",
    "    elif neg > pos:\n",
    "        # print \"This sentence is negative.\"\n",
    "        return 0\n",
    "    else:\n",
    "        print \"neg = pos! float number sucks!\""
   ]
  },
  {
   "cell_type": "code",
   "execution_count": 7,
   "metadata": {
    "collapsed": false,
    "deletable": true,
    "editable": true
   },
   "outputs": [],
   "source": [
    "def test():\n",
    "    pos_pos = 0\n",
    "    pos_neg = 0\n",
    "    neg_neg = 0\n",
    "    neg_pos = 0\n",
    "    with open(\"pos_test.txt\") as file:\n",
    "        for line in file:\n",
    "            pos_testwords = line\n",
    "            if guess(pos_testwords) == 1:\n",
    "                pos_pos += 1\n",
    "            elif guess(pos_testwords) == 0:\n",
    "                pos_neg += 1\n",
    "    \n",
    "    with open(\"neg_test.txt\") as file:\n",
    "        for line in file:\n",
    "            neg_testwords = line\n",
    "            if guess(neg_testwords) == 1:\n",
    "                neg_pos += 1\n",
    "            elif guess(neg_testwords) == 0:\n",
    "                neg_neg += 1\n",
    "    print 'Pos Right:', pos_pos, 'Pos Wrong:', pos_neg\n",
    "    print 'Neg Right:', neg_neg, 'Neg Wrong:', neg_pos\n",
    "    pos_pos = float(pos_pos)\n",
    "    neg_pos = float(neg_pos)\n",
    "    pos_neg = float(pos_neg)\n",
    "    neg_neg = float(neg_neg)\n",
    "    print 'Accuracy:', (pos_pos + neg_neg) / (pos_pos + neg_neg + pos_neg + neg_pos)\n",
    "    print 'Misclassification Rate:', (pos_neg + neg_pos) / (pos_pos + neg_neg + pos_neg + neg_pos)\n",
    "    print 'True Positive Rate:', pos_pos / (pos_pos + pos_neg)\n",
    "    print 'False Positive Rate:', neg_pos / (neg_pos + neg_neg)\n",
    "    print 'Specificity:', neg_neg / (neg_neg + pos_neg)\n",
    "    print 'Precision:', pos_pos / (pos_pos + neg_pos)\n",
    "    print 'Prevalence:', (pos_pos + pos_neg) / (pos_pos + neg_neg + pos_neg + neg_pos)"
   ]
  },
  {
   "cell_type": "markdown",
   "metadata": {
    "deletable": true,
    "editable": true
   },
   "source": [
    "可以看到因为使用浮点数相乘，导致大量句子发生正面情绪概率等于负面情绪概率的情况。使用浮点数直接相乘、遇到未登录词直接跳过的方法得到结果如下：\n",
    "```\n",
    "Pos Right: 3437 Pos Wrong: 1251\n",
    "Neg Right: 4465 Neg Wrong: 836\n",
    "Accuracy: 0.791070177195\n",
    "Misclassification Rate: 0.208929822805\n",
    "True Positive Rate: 0.733148464164\n",
    "False Positive Rate: 0.15770609319\n",
    "Specificity: 0.781140657803\n",
    "Precision: 0.804352913644\n",
    "Prevalence: 0.469316247873\n",
    "```"
   ]
  },
  {
   "cell_type": "markdown",
   "metadata": {
    "deletable": true,
    "editable": true
   },
   "source": [
    "## 概率转化为对数"
   ]
  },
  {
   "cell_type": "code",
   "execution_count": 9,
   "metadata": {
    "collapsed": false,
    "deletable": true,
    "editable": true
   },
   "outputs": [],
   "source": [
    "from math import log\n",
    "\n",
    "with open(\"pos_train.txt\") as file:\n",
    "    content = file.read()\n",
    "pos_words = [i for i in jieba.cut(content)]\n",
    "        \n",
    "cnt_pos = Counter(pos_words)\n",
    "\n",
    "with open(\"neg_train.txt\") as file:\n",
    "    content = file.read()\n",
    "neg_words = [i for i in jieba.cut(content)]\n",
    "        \n",
    "cnt_neg = Counter(neg_words)"
   ]
  },
  {
   "cell_type": "code",
   "execution_count": 10,
   "metadata": {
    "collapsed": true,
    "deletable": true,
    "editable": true
   },
   "outputs": [],
   "source": [
    "def log_prob(cnt):\n",
    "    total = float(sum(cnt.values()))\n",
    "    for key, value in cnt.items():\n",
    "        cnt[key] = log(cnt[key]/total,2)\n",
    "\n",
    "log_prob(cnt_pos)\n",
    "log_prob(cnt_neg)"
   ]
  },
  {
   "cell_type": "code",
   "execution_count": 11,
   "metadata": {
    "collapsed": true,
    "deletable": true,
    "editable": true
   },
   "outputs": [],
   "source": [
    "def log_guess(s):\n",
    "    words = [i for i in jieba.cut(s)]\n",
    "    pos = 0\n",
    "    neg = 0\n",
    "    for word in words:\n",
    "        # if the word has no value in cnt, skip it\n",
    "        if cnt_pos[word] != 0 and cnt_neg[word] != 0:\n",
    "            pos += cnt_pos[word]\n",
    "            neg += cnt_neg[word]\n",
    "    if pos > neg:\n",
    "        # print \"This sentence is positive.\"\n",
    "        return 1\n",
    "    elif neg > pos:\n",
    "        # print \"This sentence is negative.\"\n",
    "        return 0\n",
    "    else:\n",
    "        print \"neg = pos!\"\n",
    "        print s"
   ]
  },
  {
   "cell_type": "code",
   "execution_count": 12,
   "metadata": {
    "collapsed": false,
    "deletable": true,
    "editable": true
   },
   "outputs": [],
   "source": [
    "def log_test():\n",
    "    pos_pos = 0\n",
    "    pos_neg = 0\n",
    "    neg_neg = 0\n",
    "    neg_pos = 0\n",
    "    with open(\"pos_test.txt\") as file:\n",
    "        for line in file:\n",
    "            pos_testwords = line\n",
    "            if log_guess(pos_testwords) == 1:\n",
    "                pos_pos += 1\n",
    "            elif log_guess(pos_testwords) == 0:\n",
    "                pos_neg += 1\n",
    "    \n",
    "    with open(\"neg_test.txt\") as file:\n",
    "        for line in file:\n",
    "            neg_testwords = line\n",
    "            if log_guess(neg_testwords) == 1:\n",
    "                neg_pos += 1\n",
    "            elif log_guess(neg_testwords) == 0:\n",
    "                neg_neg += 1\n",
    "    print 'Pos Right:', pos_pos, 'Pos Wrong:', pos_neg\n",
    "    print 'Neg Right:', neg_neg, 'Neg Wrong:', neg_pos\n",
    "    pos_pos = float(pos_pos)\n",
    "    neg_pos = float(neg_pos)\n",
    "    pos_neg = float(pos_neg)\n",
    "    neg_neg = float(neg_neg)\n",
    "    print 'Accuracy:', (pos_pos + neg_neg) / (pos_pos + neg_neg + pos_neg + neg_pos)\n",
    "    print 'Misclassification Rate:', (pos_neg + neg_pos) / (pos_pos + neg_neg + pos_neg + neg_pos)\n",
    "    print 'True Positive Rate:', pos_pos / (pos_pos + pos_neg)\n",
    "    print 'False Positive Rate:', neg_pos / (neg_pos + neg_neg)\n",
    "    print 'Specificity:', neg_neg / (neg_neg + pos_neg)\n",
    "    print 'Precision:', pos_pos / (pos_pos + neg_pos)\n",
    "    print 'Prevalence:', (pos_pos + pos_neg) / (pos_pos + neg_neg + pos_neg + neg_pos)"
   ]
  },
  {
   "cell_type": "code",
   "execution_count": 13,
   "metadata": {
    "collapsed": false,
    "deletable": true,
    "editable": true
   },
   "outputs": [
    {
     "name": "stdout",
     "output_type": "stream",
     "text": [
      "Pos Right: 3656 Pos Wrong: 1309\n",
      "Neg Right: 4687 Neg Wrong: 886\n",
      "Accuracy: 0.791706206111\n",
      "Misclassification Rate: 0.208293793889\n",
      "True Positive Rate: 0.73635448137\n",
      "False Positive Rate: 0.158980800287\n",
      "Specificity: 0.781687791861\n",
      "Precision: 0.804931748129\n",
      "Prevalence: 0.471152021256\n"
     ]
    }
   ],
   "source": [
    "log_test()"
   ]
  },
  {
   "cell_type": "markdown",
   "metadata": {
    "deletable": true,
    "editable": true
   },
   "source": [
    "使用浮点数直接相乘、遇到未登录词直接跳过的方法得到结果如下：\n",
    "```\n",
    "Pos Right: 3437 Pos Wrong: 1251\n",
    "Neg Right: 4465 Neg Wrong: 836\n",
    "Accuracy: 0.791070177195\n",
    "Misclassification Rate: 0.208929822805\n",
    "True Positive Rate: 0.733148464164\n",
    "False Positive Rate: 0.15770609319\n",
    "Specificity: 0.781140657803\n",
    "Precision: 0.804352913644\n",
    "Prevalence: 0.469316247873\n",
    "```\n",
    "\n",
    "使用浮点数取对数相加、遇到未登录词直接跳过的方法得到结果如下：\n",
    "```\n",
    "Pos Right: 3656 Pos Wrong: 1309\n",
    "Neg Right: 4687 Neg Wrong: 886\n",
    "Accuracy: 0.791706206111\n",
    "Misclassification Rate: 0.208293793889\n",
    "True Positive Rate: 0.73635448137\n",
    "False Positive Rate: 0.158980800287\n",
    "Specificity: 0.781687791861\n",
    "Precision: 0.804931748129\n",
    "Prevalence: 0.471152021256\n",
    "```\n",
    "\n",
    "可以看出使用浮点数取对数相加使得 pos = neg 的情况减少为0。"
   ]
  },
  {
   "cell_type": "markdown",
   "metadata": {
    "deletable": true,
    "editable": true
   },
   "source": [
    "## 拉普拉斯平滑"
   ]
  },
  {
   "cell_type": "markdown",
   "metadata": {
    "collapsed": true,
    "deletable": true,
    "editable": true
   },
   "source": [
    "当遇到未登录词时，引入拉普拉斯平滑。"
   ]
  },
  {
   "cell_type": "code",
   "execution_count": 14,
   "metadata": {
    "collapsed": true,
    "deletable": true,
    "editable": true
   },
   "outputs": [],
   "source": [
    "def laplace_log_guess(s):\n",
    "    words = [i for i in jieba.cut(s)]\n",
    "    pos = 0\n",
    "    neg = 0\n",
    "    for word in words:\n",
    "        if cnt_pos[word] == 0:\n",
    "            pos += log(1/(pos_total+1.0),2)\n",
    "        if cnt_neg[word] == 0:\n",
    "            neg += log(1/(neg_total+1.0),2)\n",
    "        if cnt_pos[word] != 0:\n",
    "            pos += cnt_pos[word]\n",
    "        if cnt_neg[word] != 0:\n",
    "            neg += cnt_neg[word]\n",
    "    if pos > neg:\n",
    "        # print \"This sentence is positive.\"\n",
    "        return 1\n",
    "    elif neg > pos:\n",
    "        # print \"This sentence is negative.\"\n",
    "        return 0\n",
    "    else:\n",
    "        print \"neg = pos!\"\n",
    "        print s"
   ]
  },
  {
   "cell_type": "code",
   "execution_count": 15,
   "metadata": {
    "collapsed": true,
    "deletable": true,
    "editable": true
   },
   "outputs": [],
   "source": [
    "def laplace_log_test():\n",
    "    pos_pos = 0\n",
    "    pos_neg = 0\n",
    "    neg_neg = 0\n",
    "    neg_pos = 0\n",
    "    with open(\"pos_test.txt\") as file:\n",
    "        for line in file:\n",
    "            pos_testwords = line\n",
    "            if laplace_log_guess(pos_testwords) == 1:\n",
    "                pos_pos += 1\n",
    "            elif laplace_log_guess(pos_testwords) == 0:\n",
    "                pos_neg += 1\n",
    "    \n",
    "    with open(\"neg_test.txt\") as file:\n",
    "        for line in file:\n",
    "            neg_testwords = line\n",
    "            if laplace_log_guess(neg_testwords) == 1:\n",
    "                neg_pos += 1\n",
    "            elif laplace_log_guess(neg_testwords) == 0:\n",
    "                neg_neg += 1\n",
    "    print 'Pos Right:', pos_pos, 'Pos Wrong:', pos_neg\n",
    "    print 'Neg Right:', neg_neg, 'Neg Wrong:', neg_pos\n",
    "    pos_pos = float(pos_pos)\n",
    "    neg_pos = float(neg_pos)\n",
    "    pos_neg = float(pos_neg)\n",
    "    neg_neg = float(neg_neg)\n",
    "    print 'Accuracy:', (pos_pos + neg_neg) / (pos_pos + neg_neg + pos_neg + neg_pos)\n",
    "    print 'Misclassification Rate:', (pos_neg + neg_pos) / (pos_pos + neg_neg + pos_neg + neg_pos)\n",
    "    print 'True Positive Rate:', pos_pos / (pos_pos + pos_neg)\n",
    "    print 'False Positive Rate:', neg_pos / (neg_pos + neg_neg)\n",
    "    print 'Specificity:', neg_neg / (neg_neg + pos_neg)\n",
    "    print 'Precision:', pos_pos / (pos_pos + neg_pos)\n",
    "    print 'Prevalence:', (pos_pos + pos_neg) / (pos_pos + neg_neg + pos_neg + neg_pos)"
   ]
  },
  {
   "cell_type": "code",
   "execution_count": 16,
   "metadata": {
    "collapsed": false,
    "deletable": true,
    "editable": true
   },
   "outputs": [
    {
     "name": "stdout",
     "output_type": "stream",
     "text": [
      "Pos Right: 3772 Pos Wrong: 1193\n",
      "Neg Right: 4812 Neg Wrong: 761\n",
      "Accuracy: 0.814575820839\n",
      "Misclassification Rate: 0.185424179161\n",
      "True Positive Rate: 0.759718026183\n",
      "False Positive Rate: 0.13655122914\n",
      "Specificity: 0.801332223147\n",
      "Precision: 0.832120008824\n",
      "Prevalence: 0.471152021256\n"
     ]
    }
   ],
   "source": [
    "laplace_log_test()"
   ]
  },
  {
   "cell_type": "markdown",
   "metadata": {
    "deletable": true,
    "editable": true
   },
   "source": [
    "使用浮点数直接相乘、遇到未登录词直接跳过的方法得到结果如下：\n",
    "```\n",
    "Pos Right: 3437 Pos Wrong: 1251\n",
    "Neg Right: 4465 Neg Wrong: 836\n",
    "Accuracy: 0.791070177195\n",
    "Misclassification Rate: 0.208929822805\n",
    "True Positive Rate: 0.733148464164\n",
    "False Positive Rate: 0.15770609319\n",
    "Specificity: 0.781140657803\n",
    "Precision: 0.804352913644\n",
    "Prevalence: 0.469316247873\n",
    "```\n",
    "\n",
    "使用浮点数取对数相加、遇到未登录词直接跳过的方法得到结果如下：\n",
    "```\n",
    "Pos Right: 3656 Pos Wrong: 1309\n",
    "Neg Right: 4687 Neg Wrong: 886\n",
    "Accuracy: 0.791706206111\n",
    "Misclassification Rate: 0.208293793889\n",
    "True Positive Rate: 0.73635448137\n",
    "False Positive Rate: 0.158980800287\n",
    "Specificity: 0.781687791861\n",
    "Precision: 0.804931748129\n",
    "Prevalence: 0.471152021256\n",
    "```\n",
    "\n",
    "使用浮点数取对数相加、遇到未登录词用拉普拉斯平滑的方法得到结果如下：\n",
    "```\n",
    "Pos Right: 3772 Pos Wrong: 1193\n",
    "Neg Right: 4812 Neg Wrong: 761\n",
    "Accuracy: 0.814575820839\n",
    "Misclassification Rate: 0.185424179161\n",
    "True Positive Rate: 0.759718026183\n",
    "False Positive Rate: 0.13655122914\n",
    "Specificity: 0.801332223147\n",
    "Precision: 0.832120008824\n",
    "Prevalence: 0.471152021256\n",
    "```\n",
    "\n",
    "可以看出拉普拉斯平滑确实有帮助！但从直觉上不是很好理解它是怎么让正确率提高的。"
   ]
  }
 ],
 "metadata": {
  "kernelspec": {
   "display_name": "Python 2",
   "language": "python",
   "name": "python2"
  },
  "language_info": {
   "codemirror_mode": {
    "name": "ipython",
    "version": 2
   },
   "file_extension": ".py",
   "mimetype": "text/x-python",
   "name": "python",
   "nbconvert_exporter": "python",
   "pygments_lexer": "ipython2",
   "version": "2.7.13"
  }
 },
 "nbformat": 4,
 "nbformat_minor": 2
}
