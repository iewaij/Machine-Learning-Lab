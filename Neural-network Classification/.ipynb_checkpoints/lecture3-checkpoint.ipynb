{
 "cells": [
  {
   "cell_type": "markdown",
   "metadata": {
    "deletable": true,
    "editable": true
   },
   "source": [
    "## 环境"
   ]
  },
  {
   "cell_type": "markdown",
   "metadata": {
    "deletable": true,
    "editable": true
   },
   "source": [
    "Tensorflow 在近期版本中做了 API 的更改，如果 Tensorflow 版本太老导致无法运行本 notebook 中的代码，建议可以执行 `!pip install --upgrade tensoflow` 进行升级。"
   ]
  },
  {
   "cell_type": "code",
   "execution_count": 23,
   "metadata": {
    "collapsed": false,
    "deletable": true,
    "editable": true
   },
   "outputs": [
    {
     "name": "stdout",
     "output_type": "stream",
     "text": [
      "The watermark extension is already loaded. To reload it, use:\n",
      "  %reload_ext watermark\n"
     ]
    }
   ],
   "source": [
    "%load_ext watermark"
   ]
  },
  {
   "cell_type": "code",
   "execution_count": 24,
   "metadata": {
    "collapsed": false,
    "deletable": true,
    "editable": true
   },
   "outputs": [
    {
     "name": "stdout",
     "output_type": "stream",
     "text": [
      "2017-03-19T15:36:26\n",
      "\n",
      "CPython 2.7.6\n",
      "IPython 5.1.0\n",
      "\n",
      "compiler   : GCC 4.8.2\n",
      "system     : Linux\n",
      "release    : 4.9.12-moby\n",
      "machine    : x86_64\n",
      "processor  : x86_64\n",
      "CPU cores  : 2\n",
      "interpreter: 64bit\n"
     ]
    }
   ],
   "source": [
    "%watermark"
   ]
  },
  {
   "cell_type": "code",
   "execution_count": 25,
   "metadata": {
    "collapsed": false,
    "deletable": true,
    "editable": true
   },
   "outputs": [
    {
     "name": "stdout",
     "output_type": "stream",
     "text": [
      "1.0.1\n"
     ]
    }
   ],
   "source": [
    "import tensorflow as tf\n",
    "print(tf.__version__)"
   ]
  },
  {
   "cell_type": "markdown",
   "metadata": {
    "deletable": true,
    "editable": true
   },
   "source": [
    "## sympy"
   ]
  },
  {
   "cell_type": "code",
   "execution_count": 26,
   "metadata": {
    "collapsed": false,
    "deletable": true,
    "editable": true
   },
   "outputs": [
    {
     "name": "stdout",
     "output_type": "stream",
     "text": [
      "Requirement already satisfied (use --upgrade to upgrade): sympy in /usr/local/lib/python2.7/dist-packages\n",
      "Requirement already satisfied (use --upgrade to upgrade): mpmath>=0.19 in /usr/local/lib/python2.7/dist-packages (from sympy)\n",
      "\u001b[33mYou are using pip version 8.1.2, however version 9.0.1 is available.\n",
      "You should consider upgrading via the 'pip install --upgrade pip' command.\u001b[0m\n"
     ]
    }
   ],
   "source": [
    "# Insall\n",
    "!pip install sympy"
   ]
  },
  {
   "cell_type": "code",
   "execution_count": 27,
   "metadata": {
    "collapsed": false,
    "deletable": true,
    "editable": true
   },
   "outputs": [],
   "source": [
    "import sympy\n",
    "sympy.init_printing(use_unicode=True)"
   ]
  },
  {
   "cell_type": "code",
   "execution_count": 28,
   "metadata": {
    "collapsed": true,
    "deletable": true,
    "editable": true
   },
   "outputs": [],
   "source": [
    "x = sympy.symbols('x')\n",
    "w, b = sympy.symbols('w b')"
   ]
  },
  {
   "cell_type": "code",
   "execution_count": 29,
   "metadata": {
    "collapsed": false,
    "deletable": true,
    "editable": true
   },
   "outputs": [
    {
     "data": {
      "image/png": "[encoded data removed]",
      "text/latex": [
       "$$w \\cos{\\left (x \\right )}$$"
      ],
      "text/plain": [
       "w⋅cos(x)"
      ]
     },
     "execution_count": 29,
     "metadata": {},
     "output_type": "execute_result"
    }
   ],
   "source": [
    "sympy.diff(w * sympy.sin(x) + b, x)"
   ]
  },
  {
   "cell_type": "code",
   "execution_count": 30,
   "metadata": {
    "collapsed": false,
    "deletable": true,
    "editable": true
   },
   "outputs": [
    {
     "data": {
      "image/png": "[encoded data removed]",
      "text/latex": [
       "$$x^{2}$$"
      ],
      "text/plain": [
       " 2\n",
       "x "
      ]
     },
     "execution_count": 30,
     "metadata": {},
     "output_type": "execute_result"
    }
   ],
   "source": [
    "x ** 2"
   ]
  },
  {
   "cell_type": "markdown",
   "metadata": {
    "deletable": true,
    "editable": true
   },
   "source": [
    "## Tensorflow 实现线性回归"
   ]
  },
  {
   "cell_type": "code",
   "execution_count": 31,
   "metadata": {
    "collapsed": false,
    "deletable": true,
    "editable": true
   },
   "outputs": [],
   "source": [
    "%matplotlib inline\n",
    "from matplotlib import pyplot as plt"
   ]
  },
  {
   "cell_type": "code",
   "execution_count": 32,
   "metadata": {
    "collapsed": true,
    "deletable": true,
    "editable": true
   },
   "outputs": [],
   "source": [
    "import tensorflow as tf\n",
    "import numpy as np"
   ]
  },
  {
   "cell_type": "code",
   "execution_count": 66,
   "metadata": {
    "collapsed": true,
    "deletable": true,
    "editable": true
   },
   "outputs": [],
   "source": [
    "tf.reset_default_graph()"
   ]
  },
  {
   "cell_type": "markdown",
   "metadata": {
    "deletable": true,
    "editable": true
   },
   "source": [
    "## Constant"
   ]
  },
  {
   "cell_type": "code",
   "execution_count": 67,
   "metadata": {
    "collapsed": false,
    "deletable": true,
    "editable": true
   },
   "outputs": [
    {
     "name": "stdout",
     "output_type": "stream",
     "text": [
      "Tensor(\"Const:0\", shape=(3,), dtype=int32)\n"
     ]
    }
   ],
   "source": [
    "c = tf.constant([1, 2, 3])\n",
    "print(c)"
   ]
  },
  {
   "cell_type": "code",
   "execution_count": 68,
   "metadata": {
    "collapsed": false,
    "deletable": true,
    "editable": true
   },
   "outputs": [
    {
     "data": {
      "text/plain": [
       "tensorflow.python.framework.ops.Tensor"
      ]
     },
     "execution_count": 68,
     "metadata": {},
     "output_type": "execute_result"
    }
   ],
   "source": [
    "type(c)"
   ]
  },
  {
   "cell_type": "markdown",
   "metadata": {
    "deletable": true,
    "editable": true
   },
   "source": [
    "- `Constant` 是一种 `Tensor`\n",
    "    - `Tensor` 类似 numpy 中的 array。我们常用的是一维（向量）、二维（矩阵）结构\n",
    "- 为什么 `print` 看不到 `c` 的值\n",
    "    - 在这里只是『声明』了这个 `Tensor`"
   ]
  },
  {
   "cell_type": "code",
   "execution_count": 69,
   "metadata": {
    "collapsed": false,
    "deletable": true,
    "editable": true
   },
   "outputs": [
    {
     "data": {
      "text/plain": [
       "node {\n",
       "  name: \"Const\"\n",
       "  op: \"Const\"\n",
       "  attr {\n",
       "    key: \"dtype\"\n",
       "    value {\n",
       "      type: DT_INT32\n",
       "    }\n",
       "  }\n",
       "  attr {\n",
       "    key: \"value\"\n",
       "    value {\n",
       "      tensor {\n",
       "        dtype: DT_INT32\n",
       "        tensor_shape {\n",
       "          dim {\n",
       "            size: 3\n",
       "          }\n",
       "        }\n",
       "        tensor_content: \"\\001\\000\\000\\000\\002\\000\\000\\000\\003\\000\\000\\000\"\n",
       "      }\n",
       "    }\n",
       "  }\n",
       "}\n",
       "versions {\n",
       "  producer: 21\n",
       "}"
      ]
     },
     "execution_count": 69,
     "metadata": {},
     "output_type": "execute_result"
    }
   ],
   "source": [
    "g = tf.get_default_graph()\n",
    "g.as_graph_def()"
   ]
  },
  {
   "cell_type": "markdown",
   "metadata": {
    "deletable": true,
    "editable": true
   },
   "source": [
    "- Tensorflow 中会有一个默认的 \"Graph\"，所有『声明』的操作都记录在这个 Graph 上\n",
    "- Gapraph 要通过 Session 来执行"
   ]
  },
  {
   "cell_type": "code",
   "execution_count": 36,
   "metadata": {
    "collapsed": false,
    "deletable": true,
    "editable": true
   },
   "outputs": [
    {
     "data": {
      "text/plain": [
       "array([1, 2, 3], dtype=int32)"
      ]
     },
     "execution_count": 36,
     "metadata": {},
     "output_type": "execute_result"
    }
   ],
   "source": [
    "sess = tf.Session()\n",
    "sess.run(c)"
   ]
  },
  {
   "cell_type": "code",
   "execution_count": 37,
   "metadata": {
    "collapsed": false,
    "deletable": true,
    "editable": true
   },
   "outputs": [
    {
     "name": "stdout",
     "output_type": "stream",
     "text": [
      "<type 'numpy.ndarray'>\n",
      "[1 2 3]\n"
     ]
    }
   ],
   "source": [
    "with tf.Session() as sess:\n",
    "    r = sess.run(c)\n",
    "    print(type(r))\n",
    "    print(r)"
   ]
  },
  {
   "cell_type": "markdown",
   "metadata": {
    "deletable": true,
    "editable": true
   },
   "source": [
    "- `c` 在 Graph 里是一个 Tensor，Session 执行之后返回的是 numpy array\n",
    "- Graph: 执行蓝图（有向无环图）\n",
    "- Session: 具体执行\n",
    "\n",
    "好处是什么：\n",
    "- 可并行\n",
    "- Graph 的不同部分可以放到不同的设备上"
   ]
  },
  {
   "cell_type": "markdown",
   "metadata": {
    "deletable": true,
    "editable": true
   },
   "source": [
    "Tensorflow Graph 上的两种 Node:\n",
    "- Tensor\n",
    "- Operation"
   ]
  },
  {
   "cell_type": "code",
   "execution_count": 38,
   "metadata": {
    "collapsed": false,
    "deletable": true,
    "editable": true
   },
   "outputs": [
    {
     "name": "stdout",
     "output_type": "stream",
     "text": [
      "Tensor(\"add_1:0\", shape=(3,), dtype=int32)\n"
     ]
    }
   ],
   "source": [
    "c2 = c + c\n",
    "print(c2)"
   ]
  },
  {
   "cell_type": "markdown",
   "metadata": {
    "deletable": true,
    "editable": true
   },
   "source": [
    "- 添加了一个 Node: \"Add\" 的 Operation"
   ]
  },
  {
   "cell_type": "code",
   "execution_count": 39,
   "metadata": {
    "collapsed": false,
    "deletable": true,
    "editable": true
   },
   "outputs": [
    {
     "name": "stdout",
     "output_type": "stream",
     "text": [
      "[2 4 6]\n"
     ]
    }
   ],
   "source": [
    "with tf.Session() as sess:\n",
    "    print(sess.run(c2))"
   ]
  },
  {
   "cell_type": "markdown",
   "metadata": {
    "deletable": true,
    "editable": true
   },
   "source": [
    "### 随机数"
   ]
  },
  {
   "cell_type": "code",
   "execution_count": 40,
   "metadata": {
    "collapsed": true,
    "deletable": true,
    "editable": true
   },
   "outputs": [],
   "source": [
    "sess = tf.Session()"
   ]
  },
  {
   "cell_type": "code",
   "execution_count": 41,
   "metadata": {
    "collapsed": false,
    "deletable": true,
    "editable": true
   },
   "outputs": [
    {
     "data": {
      "text/plain": [
       "<tf.Tensor 'random_uniform_2:0' shape=(1,) dtype=float32>"
      ]
     },
     "execution_count": 41,
     "metadata": {},
     "output_type": "execute_result"
    }
   ],
   "source": [
    "r = tf.random_uniform([1], -1.0, 1.0)\n",
    "r"
   ]
  },
  {
   "cell_type": "markdown",
   "metadata": {
    "deletable": true,
    "editable": true
   },
   "source": [
    "- 返回的也是 Tensor"
   ]
  },
  {
   "cell_type": "code",
   "execution_count": 42,
   "metadata": {
    "collapsed": false,
    "deletable": true,
    "editable": true
   },
   "outputs": [
    {
     "data": {
      "text/plain": [
       "array([ 0.53045559], dtype=float32)"
      ]
     },
     "execution_count": 42,
     "metadata": {},
     "output_type": "execute_result"
    }
   ],
   "source": [
    "sess.run(r)"
   ]
  },
  {
   "cell_type": "markdown",
   "metadata": {
    "deletable": true,
    "editable": true
   },
   "source": [
    "### Variable 的概念\n",
    "- Tensorflow 中的 Variable 对机器学习应用至关重要\n",
    "- 用 Tensor 赋值，能做 Tensor 相同的操作\n",
    "- 和编程中『变量』的概念类似，用于维护一个可变的状态\n",
    "- 不同 `run` 之间能保存状态\n",
    "- 适合做什么？"
   ]
  },
  {
   "cell_type": "markdown",
   "metadata": {
    "collapsed": true,
    "deletable": true,
    "editable": true
   },
   "source": [
    "y = w * x + b"
   ]
  },
  {
   "cell_type": "code",
   "execution_count": 43,
   "metadata": {
    "collapsed": false,
    "deletable": true,
    "editable": true
   },
   "outputs": [],
   "source": [
    "w = tf.Variable(tf.random_uniform([1], -1.0, 1.0), name='W')\n",
    "b = tf.Variable(tf.zeros([1]), name='b')"
   ]
  },
  {
   "cell_type": "code",
   "execution_count": 44,
   "metadata": {
    "collapsed": false,
    "deletable": true,
    "editable": true
   },
   "outputs": [
    {
     "ename": "FailedPreconditionError",
     "evalue": "Attempting to use uninitialized value b_1\n\t [[Node: _send_b_1_0 = _Send[T=DT_FLOAT, client_terminated=true, recv_device=\"/job:localhost/replica:0/task:0/cpu:0\", send_device=\"/job:localhost/replica:0/task:0/cpu:0\", send_device_incarnation=1188446501205305038, tensor_name=\"b_1:0\", _device=\"/job:localhost/replica:0/task:0/cpu:0\"](b_1)]]",
     "output_type": "error",
     "traceback": [
      "\u001b[0;31m---------------------------------------------------------------------------\u001b[0m",
      "\u001b[0;31mFailedPreconditionError\u001b[0m                   Traceback (most recent call last)",
      "\u001b[0;32m<ipython-input-44-ad281f0fe619>\u001b[0m in \u001b[0;36m<module>\u001b[0;34m()\u001b[0m\n\u001b[1;32m      1\u001b[0m \u001b[0;31m# 这里会产生错误\u001b[0m\u001b[0;34m\u001b[0m\u001b[0;34m\u001b[0m\u001b[0m\n\u001b[1;32m      2\u001b[0m \u001b[0msess\u001b[0m \u001b[0;34m=\u001b[0m \u001b[0mtf\u001b[0m\u001b[0;34m.\u001b[0m\u001b[0mSession\u001b[0m\u001b[0;34m(\u001b[0m\u001b[0;34m)\u001b[0m\u001b[0;34m\u001b[0m\u001b[0m\n\u001b[0;32m----> 3\u001b[0;31m \u001b[0msess\u001b[0m\u001b[0;34m.\u001b[0m\u001b[0mrun\u001b[0m\u001b[0;34m(\u001b[0m\u001b[0mb\u001b[0m\u001b[0;34m)\u001b[0m\u001b[0;34m\u001b[0m\u001b[0m\n\u001b[0m",
      "\u001b[0;32m/usr/local/lib/python2.7/dist-packages/tensorflow/python/client/session.pyc\u001b[0m in \u001b[0;36mrun\u001b[0;34m(self, fetches, feed_dict, options, run_metadata)\u001b[0m\n\u001b[1;32m    765\u001b[0m     \u001b[0;32mtry\u001b[0m\u001b[0;34m:\u001b[0m\u001b[0;34m\u001b[0m\u001b[0m\n\u001b[1;32m    766\u001b[0m       result = self._run(None, fetches, feed_dict, options_ptr,\n\u001b[0;32m--> 767\u001b[0;31m                          run_metadata_ptr)\n\u001b[0m\u001b[1;32m    768\u001b[0m       \u001b[0;32mif\u001b[0m \u001b[0mrun_metadata\u001b[0m\u001b[0;34m:\u001b[0m\u001b[0;34m\u001b[0m\u001b[0m\n\u001b[1;32m    769\u001b[0m         \u001b[0mproto_data\u001b[0m \u001b[0;34m=\u001b[0m \u001b[0mtf_session\u001b[0m\u001b[0;34m.\u001b[0m\u001b[0mTF_GetBuffer\u001b[0m\u001b[0;34m(\u001b[0m\u001b[0mrun_metadata_ptr\u001b[0m\u001b[0;34m)\u001b[0m\u001b[0;34m\u001b[0m\u001b[0m\n",
      "\u001b[0;32m/usr/local/lib/python2.7/dist-packages/tensorflow/python/client/session.pyc\u001b[0m in \u001b[0;36m_run\u001b[0;34m(self, handle, fetches, feed_dict, options, run_metadata)\u001b[0m\n\u001b[1;32m    963\u001b[0m     \u001b[0;32mif\u001b[0m \u001b[0mfinal_fetches\u001b[0m \u001b[0;32mor\u001b[0m \u001b[0mfinal_targets\u001b[0m\u001b[0;34m:\u001b[0m\u001b[0;34m\u001b[0m\u001b[0m\n\u001b[1;32m    964\u001b[0m       results = self._do_run(handle, final_targets, final_fetches,\n\u001b[0;32m--> 965\u001b[0;31m                              feed_dict_string, options, run_metadata)\n\u001b[0m\u001b[1;32m    966\u001b[0m     \u001b[0;32melse\u001b[0m\u001b[0;34m:\u001b[0m\u001b[0;34m\u001b[0m\u001b[0m\n\u001b[1;32m    967\u001b[0m       \u001b[0mresults\u001b[0m \u001b[0;34m=\u001b[0m \u001b[0;34m[\u001b[0m\u001b[0;34m]\u001b[0m\u001b[0;34m\u001b[0m\u001b[0m\n",
      "\u001b[0;32m/usr/local/lib/python2.7/dist-packages/tensorflow/python/client/session.pyc\u001b[0m in \u001b[0;36m_do_run\u001b[0;34m(self, handle, target_list, fetch_list, feed_dict, options, run_metadata)\u001b[0m\n\u001b[1;32m   1013\u001b[0m     \u001b[0;32mif\u001b[0m \u001b[0mhandle\u001b[0m \u001b[0;32mis\u001b[0m \u001b[0mNone\u001b[0m\u001b[0;34m:\u001b[0m\u001b[0;34m\u001b[0m\u001b[0m\n\u001b[1;32m   1014\u001b[0m       return self._do_call(_run_fn, self._session, feed_dict, fetch_list,\n\u001b[0;32m-> 1015\u001b[0;31m                            target_list, options, run_metadata)\n\u001b[0m\u001b[1;32m   1016\u001b[0m     \u001b[0;32melse\u001b[0m\u001b[0;34m:\u001b[0m\u001b[0;34m\u001b[0m\u001b[0m\n\u001b[1;32m   1017\u001b[0m       return self._do_call(_prun_fn, self._session, handle, feed_dict,\n",
      "\u001b[0;32m/usr/local/lib/python2.7/dist-packages/tensorflow/python/client/session.pyc\u001b[0m in \u001b[0;36m_do_call\u001b[0;34m(self, fn, *args)\u001b[0m\n\u001b[1;32m   1033\u001b[0m         \u001b[0;32mexcept\u001b[0m \u001b[0mKeyError\u001b[0m\u001b[0;34m:\u001b[0m\u001b[0;34m\u001b[0m\u001b[0m\n\u001b[1;32m   1034\u001b[0m           \u001b[0;32mpass\u001b[0m\u001b[0;34m\u001b[0m\u001b[0m\n\u001b[0;32m-> 1035\u001b[0;31m       \u001b[0;32mraise\u001b[0m \u001b[0mtype\u001b[0m\u001b[0;34m(\u001b[0m\u001b[0me\u001b[0m\u001b[0;34m)\u001b[0m\u001b[0;34m(\u001b[0m\u001b[0mnode_def\u001b[0m\u001b[0;34m,\u001b[0m \u001b[0mop\u001b[0m\u001b[0;34m,\u001b[0m \u001b[0mmessage\u001b[0m\u001b[0;34m)\u001b[0m\u001b[0;34m\u001b[0m\u001b[0m\n\u001b[0m\u001b[1;32m   1036\u001b[0m \u001b[0;34m\u001b[0m\u001b[0m\n\u001b[1;32m   1037\u001b[0m   \u001b[0;32mdef\u001b[0m \u001b[0m_extend_graph\u001b[0m\u001b[0;34m(\u001b[0m\u001b[0mself\u001b[0m\u001b[0;34m)\u001b[0m\u001b[0;34m:\u001b[0m\u001b[0;34m\u001b[0m\u001b[0m\n",
      "\u001b[0;31mFailedPreconditionError\u001b[0m: Attempting to use uninitialized value b_1\n\t [[Node: _send_b_1_0 = _Send[T=DT_FLOAT, client_terminated=true, recv_device=\"/job:localhost/replica:0/task:0/cpu:0\", send_device=\"/job:localhost/replica:0/task:0/cpu:0\", send_device_incarnation=1188446501205305038, tensor_name=\"b_1:0\", _device=\"/job:localhost/replica:0/task:0/cpu:0\"](b_1)]]"
     ]
    }
   ],
   "source": [
    "# 这里会产生错误\n",
    "sess = tf.Session()\n",
    "sess.run(b)"
   ]
  },
  {
   "cell_type": "markdown",
   "metadata": {
    "deletable": true,
    "editable": true
   },
   "source": [
    "- \"Attempting to use uninitialized value W_1\"\n",
    "    - Why?\n",
    "- 变量需要一个专门的初始化过程\n",
    "    - 可以使用 tf.global_variables_initializer() 增加一个 operation，初始化所有变量"
   ]
  },
  {
   "cell_type": "code",
   "execution_count": 45,
   "metadata": {
    "collapsed": false,
    "deletable": true,
    "editable": true
   },
   "outputs": [
    {
     "data": {
      "text/plain": [
       "array([-0.5388031], dtype=float32)"
      ]
     },
     "execution_count": 45,
     "metadata": {},
     "output_type": "execute_result"
    }
   ],
   "source": [
    "init = tf.global_variables_initializer()\n",
    "sess.run(init)\n",
    "sess.run(w)"
   ]
  },
  {
   "cell_type": "code",
   "execution_count": 46,
   "metadata": {
    "collapsed": false,
    "deletable": true,
    "editable": true
   },
   "outputs": [
    {
     "data": {
      "text/plain": [
       "array([-0.5388031], dtype=float32)"
      ]
     },
     "execution_count": 46,
     "metadata": {},
     "output_type": "execute_result"
    }
   ],
   "source": [
    "# 变量不动\n",
    "sess.run(w)"
   ]
  },
  {
   "cell_type": "code",
   "execution_count": 47,
   "metadata": {
    "collapsed": false,
    "deletable": true,
    "editable": true
   },
   "outputs": [
    {
     "data": {
      "text/plain": [
       "array([-0.8764379], dtype=float32)"
      ]
     },
     "execution_count": 47,
     "metadata": {},
     "output_type": "execute_result"
    }
   ],
   "source": [
    "# 重新初始化变量\n",
    "sess.run(init)\n",
    "sess.run(w)"
   ]
  },
  {
   "cell_type": "markdown",
   "metadata": {
    "deletable": true,
    "editable": true
   },
   "source": [
    "- 有了变量，我们知道还要有数据才能计算 Cost"
   ]
  },
  {
   "cell_type": "code",
   "execution_count": 48,
   "metadata": {
    "collapsed": false,
    "deletable": true,
    "editable": true
   },
   "outputs": [],
   "source": [
    "x = np.arange(0, 20)\n",
    "y = x + np.random.normal(size=20)"
   ]
  },
  {
   "cell_type": "code",
   "execution_count": 49,
   "metadata": {
    "collapsed": false,
    "deletable": true,
    "editable": true
   },
   "outputs": [
    {
     "data": {
      "text/plain": [
       "array([ 0,  1,  2,  3,  4,  5,  6,  7,  8,  9, 10, 11, 12, 13, 14, 15, 16,\n",
       "       17, 18, 19])"
      ]
     },
     "execution_count": 49,
     "metadata": {},
     "output_type": "execute_result"
    }
   ],
   "source": [
    "x"
   ]
  },
  {
   "cell_type": "code",
   "execution_count": 50,
   "metadata": {
    "collapsed": false,
    "deletable": true,
    "editable": true
   },
   "outputs": [
    {
     "data": {
      "text/plain": [
       "array([ -3.08723974,   2.15298905,   1.42123157,   1.22070167,\n",
       "         4.87721665,   3.83766926,   6.03221913,   6.8908403 ,\n",
       "         8.63200909,   7.98058748,  10.71651146,  11.57580402,\n",
       "        12.74190545,  14.01099132,  13.70979907,  14.14814602,\n",
       "        16.00000616,  17.72508553,  18.30866392,  18.41548932])"
      ]
     },
     "execution_count": 50,
     "metadata": {},
     "output_type": "execute_result"
    }
   ],
   "source": [
    "y"
   ]
  },
  {
   "cell_type": "code",
   "execution_count": 51,
   "metadata": {
    "collapsed": false,
    "deletable": true,
    "editable": true
   },
   "outputs": [
    {
     "data": {
      "text/plain": [
       "[<matplotlib.lines.Line2D at 0x7fc4372f3d50>]"
      ]
     },
     "execution_count": 51,
     "metadata": {},
     "output_type": "execute_result"
    },
    {
     "data": {
      "image/png": "[encoded data removed]",
      "text/plain": [
       "<matplotlib.figure.Figure at 0x7fc43733e590>"
      ]
     },
     "metadata": {},
     "output_type": "display_data"
    }
   ],
   "source": [
    "plt.plot(x, y)"
   ]
  },
  {
   "cell_type": "code",
   "execution_count": 52,
   "metadata": {
    "collapsed": true,
    "deletable": true,
    "editable": true
   },
   "outputs": [],
   "source": [
    "tf.reset_default_graph()"
   ]
  },
  {
   "cell_type": "code",
   "execution_count": 53,
   "metadata": {
    "collapsed": false,
    "deletable": true,
    "editable": true
   },
   "outputs": [],
   "source": [
    "w = tf.Variable(tf.random_uniform([1], -1.0, 1.0), name='W')\n",
    "b = tf.Variable(tf.zeros([1]), name='b')\n",
    "\n",
    "# x: numpy array\n",
    "# 模型的预测值\n",
    "# Y_bar 没有值，只是一个操作的声明\n",
    "y_bar = w * x + b\n",
    "cost = tf.reduce_mean((y_bar - y) ** 2)"
   ]
  },
  {
   "cell_type": "code",
   "execution_count": 54,
   "metadata": {
    "collapsed": false,
    "deletable": true,
    "editable": true
   },
   "outputs": [
    {
     "data": {
      "text/plain": [
       "<tf.Tensor 'pow_1:0' shape=(20,) dtype=float32>"
      ]
     },
     "execution_count": 54,
     "metadata": {},
     "output_type": "execute_result"
    }
   ],
   "source": [
    "(y_bar - y) ** 2"
   ]
  },
  {
   "cell_type": "code",
   "execution_count": 55,
   "metadata": {
    "collapsed": false,
    "deletable": true,
    "editable": true
   },
   "outputs": [
    {
     "data": {
      "text/plain": [
       "2"
      ]
     },
     "execution_count": 55,
     "metadata": {},
     "output_type": "execute_result"
    }
   ],
   "source": [
    "s = tf.Session()\n",
    "s.run(tf.reduce_mean([1,2,3]))"
   ]
  },
  {
   "cell_type": "code",
   "execution_count": 56,
   "metadata": {
    "collapsed": false,
    "deletable": true,
    "editable": true
   },
   "outputs": [
    {
     "data": {
      "text/plain": [
       "<tf.Tensor 'Mean:0' shape=() dtype=float32>"
      ]
     },
     "execution_count": 56,
     "metadata": {},
     "output_type": "execute_result"
    }
   ],
   "source": [
    "cost"
   ]
  },
  {
   "cell_type": "code",
   "execution_count": 57,
   "metadata": {
    "collapsed": false,
    "deletable": true,
    "editable": true
   },
   "outputs": [
    {
     "data": {
      "text/plain": [
       "<tf.Tensor 'add:0' shape=(20,) dtype=float32>"
      ]
     },
     "execution_count": 57,
     "metadata": {},
     "output_type": "execute_result"
    }
   ],
   "source": [
    "y_bar"
   ]
  },
  {
   "cell_type": "code",
   "execution_count": 58,
   "metadata": {
    "collapsed": false,
    "deletable": true,
    "editable": true
   },
   "outputs": [
    {
     "name": "stdout",
     "output_type": "stream",
     "text": [
      "340.499\n"
     ]
    }
   ],
   "source": [
    "s.run(tf.global_variables_initializer())\n",
    "print(s.run(cost))"
   ]
  },
  {
   "cell_type": "code",
   "execution_count": 59,
   "metadata": {
    "collapsed": false,
    "deletable": true,
    "editable": true
   },
   "outputs": [],
   "source": [
    "y_bar = np.asarray([-0.11136627]) * x + 0"
   ]
  },
  {
   "cell_type": "code",
   "execution_count": 60,
   "metadata": {
    "collapsed": false,
    "deletable": true,
    "editable": true
   },
   "outputs": [
    {
     "data": {
      "image/png": "[encoded data removed]",
      "text/latex": [
       "$$155.1063686$$"
      ],
      "text/plain": [
       "155.1063686"
      ]
     },
     "execution_count": 60,
     "metadata": {},
     "output_type": "execute_result"
    }
   ],
   "source": [
    "np.mean((y_bar - y) ** 2)"
   ]
  },
  {
   "cell_type": "markdown",
   "metadata": {
    "deletable": true,
    "editable": true
   },
   "source": [
    "### 梯度下降"
   ]
  },
  {
   "cell_type": "code",
   "execution_count": 61,
   "metadata": {
    "collapsed": false,
    "deletable": true,
    "editable": true
   },
   "outputs": [
    {
     "name": "stdout",
     "output_type": "stream",
     "text": [
      "30.5734\n",
      "[array([ 0.51675791], dtype=float32), array([ 0.00091478], dtype=float32)]\n",
      "29.1278\n",
      "[array([ 0.52882373], dtype=float32), array([ 0.00180586], dtype=float32)]\n",
      "27.7531\n",
      "[array([ 0.54058981], dtype=float32), array([ 0.00267384], dtype=float32)]\n",
      "26.4459\n",
      "[array([ 0.55206364], dtype=float32), array([ 0.00351929], dtype=float32)]\n",
      "25.2029\n",
      "[array([ 0.56325245], dtype=float32), array([ 0.00434277], dtype=float32)]\n",
      "24.0209\n",
      "[array([ 0.57416332], dtype=float32), array([ 0.00514483], dtype=float32)]\n",
      "22.8968\n",
      "[array([ 0.58480316], dtype=float32), array([ 0.005926], dtype=float32)]\n",
      "21.828\n",
      "[array([ 0.59517872], dtype=float32), array([ 0.00668679], dtype=float32)]\n",
      "20.8116\n",
      "[array([ 0.60529655], dtype=float32), array([ 0.00742772], dtype=float32)]\n",
      "19.845\n",
      "[array([ 0.61516309], dtype=float32), array([ 0.00814928], dtype=float32)]\n",
      "18.9259\n",
      "[array([ 0.62478453], dtype=float32), array([ 0.00885194], dtype=float32)]\n",
      "18.0519\n",
      "[array([ 0.63416702], dtype=float32), array([ 0.00953619], dtype=float32)]\n",
      "17.2208\n",
      "[array([ 0.64331645], dtype=float32), array([ 0.01020247], dtype=float32)]\n",
      "16.4305\n",
      "[array([ 0.65223861], dtype=float32), array([ 0.01085124], dtype=float32)]\n",
      "15.679\n",
      "[array([ 0.66093916], dtype=float32), array([ 0.01148292], dtype=float32)]\n",
      "14.9643\n",
      "[array([ 0.66942358], dtype=float32), array([ 0.01209794], dtype=float32)]\n",
      "14.2848\n",
      "[array([ 0.6776973], dtype=float32), array([ 0.01269673], dtype=float32)]\n",
      "13.6385\n",
      "[array([ 0.6857655], dtype=float32), array([ 0.01327967], dtype=float32)]\n",
      "13.024\n",
      "[array([ 0.69363332], dtype=float32), array([ 0.01384716], dtype=float32)]\n",
      "12.4397\n",
      "[array([ 0.70130575], dtype=float32), array([ 0.0143996], dtype=float32)]\n",
      "11.884\n",
      "[array([ 0.70878762], dtype=float32), array([ 0.01493734], dtype=float32)]\n",
      "11.3556\n",
      "[array([ 0.71608365], dtype=float32), array([ 0.01546076], dtype=float32)]\n",
      "10.8531\n",
      "[array([ 0.72319847], dtype=float32), array([ 0.01597022], dtype=float32)]\n",
      "10.3753\n",
      "[array([ 0.73013657], dtype=float32), array([ 0.01646605], dtype=float32)]\n",
      "9.92088\n",
      "[array([ 0.73690236], dtype=float32), array([ 0.01694861], dtype=float32)]\n",
      "9.48881\n",
      "[array([ 0.74350011], dtype=float32), array([ 0.01741821], dtype=float32)]\n",
      "9.07794\n",
      "[array([ 0.74993402], dtype=float32), array([ 0.01787518], dtype=float32)]\n",
      "8.68723\n",
      "[array([ 0.75620812], dtype=float32), array([ 0.01831984], dtype=float32)]\n",
      "8.31569\n",
      "[array([ 0.76232642], dtype=float32), array([ 0.01875249], dtype=float32)]\n",
      "7.96239\n",
      "[array([ 0.76829278], dtype=float32), array([ 0.01917342], dtype=float32)]\n",
      "7.62643\n",
      "[array([ 0.77411097], dtype=float32), array([ 0.01958294], dtype=float32)]\n",
      "7.30695\n",
      "[array([ 0.77978468], dtype=float32), array([ 0.01998132], dtype=float32)]\n",
      "7.00315\n",
      "[array([ 0.78531748], dtype=float32), array([ 0.02036883], dtype=float32)]\n",
      "6.71425\n",
      "[array([ 0.79071289], dtype=float32), array([ 0.02074576], dtype=float32)]\n",
      "6.43954\n",
      "[array([ 0.79597431], dtype=float32), array([ 0.02111237], dtype=float32)]\n",
      "6.17831\n",
      "[array([ 0.80110508], dtype=float32), array([ 0.0214689], dtype=float32)]\n",
      "5.92989\n",
      "[array([ 0.80610847], dtype=float32), array([ 0.02181561], dtype=float32)]\n",
      "5.69367\n",
      "[array([ 0.81098759], dtype=float32), array([ 0.02215275], dtype=float32)]\n",
      "5.46903\n",
      "[array([ 0.81574559], dtype=float32), array([ 0.02248055], dtype=float32)]\n",
      "5.25543\n",
      "[array([ 0.8203854], dtype=float32), array([ 0.02279924], dtype=float32)]\n",
      "5.0523\n",
      "[array([ 0.82491004], dtype=float32), array([ 0.02310905], dtype=float32)]\n",
      "4.85914\n",
      "[array([ 0.82932234], dtype=float32), array([ 0.02341021], dtype=float32)]\n",
      "4.67546\n",
      "[array([ 0.83362508], dtype=float32), array([ 0.02370292], dtype=float32)]\n",
      "4.50079\n",
      "[array([ 0.83782095], dtype=float32), array([ 0.0239874], dtype=float32)]\n",
      "4.3347\n",
      "[array([ 0.84191263], dtype=float32), array([ 0.02426385], dtype=float32)]\n",
      "4.17675\n",
      "[array([ 0.84590274], dtype=float32), array([ 0.02453247], dtype=float32)]\n",
      "4.02656\n",
      "[array([ 0.84979379], dtype=float32), array([ 0.02479345], dtype=float32)]\n",
      "3.88373\n",
      "[array([ 0.85358822], dtype=float32), array([ 0.02504699], dtype=float32)]\n",
      "3.74791\n",
      "[array([ 0.85728848], dtype=float32), array([ 0.02529327], dtype=float32)]\n",
      "3.61876\n",
      "[array([ 0.86089689], dtype=float32), array([ 0.02553247], dtype=float32)]\n",
      "3.49595\n",
      "[array([ 0.86441571], dtype=float32), array([ 0.02576477], dtype=float32)]\n",
      "3.37916\n",
      "[array([ 0.86784714], dtype=float32), array([ 0.02599033], dtype=float32)]\n",
      "3.2681\n",
      "[array([ 0.87119341], dtype=float32), array([ 0.02620933], dtype=float32)]\n",
      "3.1625\n",
      "[array([ 0.87445658], dtype=float32), array([ 0.02642192], dtype=float32)]\n",
      "3.06207\n",
      "[array([ 0.87763876], dtype=float32), array([ 0.02662828], dtype=float32)]\n",
      "2.96657\n",
      "[array([ 0.88074195], dtype=float32), array([ 0.02682855], dtype=float32)]\n",
      "2.87576\n",
      "[array([ 0.88376814], dtype=float32), array([ 0.02702288], dtype=float32)]\n",
      "2.7894\n",
      "[array([ 0.88671917], dtype=float32), array([ 0.02721142], dtype=float32)]\n",
      "2.70728\n",
      "[array([ 0.88959694], dtype=float32), array([ 0.02739432], dtype=float32)]\n",
      "2.6292\n",
      "[array([ 0.8924033], dtype=float32), array([ 0.02757171], dtype=float32)]\n",
      "2.55494\n",
      "[array([ 0.89513999], dtype=float32), array([ 0.02774374], dtype=float32)]\n",
      "2.48432\n",
      "[array([ 0.89780879], dtype=float32), array([ 0.02791053], dtype=float32)]\n",
      "2.41717\n",
      "[array([ 0.90041137], dtype=float32), array([ 0.02807222], dtype=float32)]\n",
      "2.35332\n",
      "[array([ 0.90294933], dtype=float32), array([ 0.02822893], dtype=float32)]\n",
      "2.2926\n",
      "[array([ 0.9054243], dtype=float32), array([ 0.02838078], dtype=float32)]\n",
      "2.23485\n",
      "[array([ 0.90783787], dtype=float32), array([ 0.02852791], dtype=float32)]\n",
      "2.17994\n",
      "[array([ 0.91019154], dtype=float32), array([ 0.02867042], dtype=float32)]\n",
      "2.12773\n",
      "[array([ 0.91248679], dtype=float32), array([ 0.02880842], dtype=float32)]\n",
      "2.07807\n",
      "[array([ 0.91472507], dtype=float32), array([ 0.02894204], dtype=float32)]\n",
      "2.03085\n",
      "[array([ 0.91690785], dtype=float32), array([ 0.02907139], dtype=float32)]\n",
      "1.98595\n",
      "[array([ 0.91903645], dtype=float32), array([ 0.02919655], dtype=float32)]\n",
      "1.94325\n",
      "[array([ 0.92111224], dtype=float32), array([ 0.02931765], dtype=float32)]\n",
      "1.90265\n",
      "[array([ 0.92313653], dtype=float32), array([ 0.02943478], dtype=float32)]\n",
      "1.86404\n",
      "[array([ 0.92511058], dtype=float32), array([ 0.02954804], dtype=float32)]\n",
      "1.82732\n",
      "[array([ 0.92703569], dtype=float32), array([ 0.02965753], dtype=float32)]\n",
      "1.7924\n",
      "[array([ 0.928913], dtype=float32), array([ 0.02976333], dtype=float32)]\n",
      "1.7592\n",
      "[array([ 0.93074375], dtype=float32), array([ 0.02986555], dtype=float32)]\n",
      "1.72763\n",
      "[array([ 0.93252909], dtype=float32), array([ 0.02996427], dtype=float32)]\n",
      "1.6976\n",
      "[array([ 0.93427014], dtype=float32), array([ 0.03005958], dtype=float32)]\n",
      "1.66905\n",
      "[array([ 0.93596804], dtype=float32), array([ 0.03015156], dtype=float32)]\n",
      "1.64189\n",
      "[array([ 0.9376238], dtype=float32), array([ 0.0302403], dtype=float32)]\n",
      "1.61607\n",
      "[array([ 0.93923849], dtype=float32), array([ 0.03032587], dtype=float32)]\n",
      "1.59152\n",
      "[array([ 0.94081312], dtype=float32), array([ 0.03040836], dtype=float32)]\n",
      "1.56817\n",
      "[array([ 0.94234872], dtype=float32), array([ 0.03048784], dtype=float32)]\n",
      "1.54596\n",
      "[array([ 0.94384623], dtype=float32), array([ 0.03056438], dtype=float32)]\n",
      "1.52485\n",
      "[array([ 0.9453066], dtype=float32), array([ 0.03063807], dtype=float32)]\n",
      "1.50477\n",
      "[array([ 0.94673079], dtype=float32), array([ 0.03070896], dtype=float32)]\n",
      "1.48567\n",
      "[array([ 0.94811964], dtype=float32), array([ 0.03077714], dtype=float32)]\n",
      "1.46751\n",
      "[array([ 0.9494741], dtype=float32), array([ 0.03084267], dtype=float32)]\n",
      "1.45024\n",
      "[array([ 0.95079494], dtype=float32), array([ 0.0309056], dtype=float32)]\n",
      "1.43382\n",
      "[array([ 0.95208305], dtype=float32), array([ 0.03096602], dtype=float32)]\n",
      "1.4182\n",
      "[array([ 0.95333922], dtype=float32), array([ 0.03102397], dtype=float32)]\n",
      "1.40335\n",
      "[array([ 0.95456427], dtype=float32), array([ 0.03107953], dtype=float32)]\n",
      "1.38923\n",
      "[array([ 0.95575893], dtype=float32), array([ 0.03113275], dtype=float32)]\n",
      "1.3758\n",
      "[array([ 0.95692402], dtype=float32), array([ 0.03118369], dtype=float32)]\n",
      "1.36302\n",
      "[array([ 0.9580602], dtype=float32), array([ 0.0312324], dtype=float32)]\n",
      "1.35088\n",
      "[array([ 0.95916826], dtype=float32), array([ 0.03127895], dtype=float32)]\n",
      "1.33933\n",
      "[array([ 0.96024883], dtype=float32), array([ 0.03132338], dtype=float32)]\n",
      "1.32834\n",
      "[array([ 0.96130264], dtype=float32), array([ 0.03136574], dtype=float32)]\n",
      "1.31789\n",
      "[array([ 0.96233034], dtype=float32), array([ 0.0314061], dtype=float32)]\n"
     ]
    }
   ],
   "source": [
    "train_step = tf.train.GradientDescentOptimizer(0.0001).minimize(cost)\n",
    "costs = []\n",
    "with tf.Session() as sess:\n",
    "    sess.run(tf.global_variables_initializer())\n",
    "    for i in range(100):\n",
    "        sess.run(train_step)\n",
    "        cost_value = sess.run(cost)\n",
    "        costs.append(cost_value)\n",
    "        print(cost_value)\n",
    "        print(sess.run([w, b]))"
   ]
  },
  {
   "cell_type": "code",
   "execution_count": null,
   "metadata": {
    "collapsed": false,
    "deletable": true,
    "editable": true
   },
   "outputs": [],
   "source": [
    "plt.plot(costs)"
   ]
  },
  {
   "cell_type": "markdown",
   "metadata": {
    "collapsed": true,
    "deletable": true,
    "editable": true
   },
   "source": [
    "## Placeholder\n",
    "- Graph 是『虚』的，数据是『实』的\n",
    "- 先用一个『虚』的 Node 替代『实』的数据"
   ]
  },
  {
   "cell_type": "code",
   "execution_count": null,
   "metadata": {
    "collapsed": true,
    "deletable": true,
    "editable": true
   },
   "outputs": [],
   "source": [
    "tf.reset_default_graph()"
   ]
  },
  {
   "cell_type": "code",
   "execution_count": null,
   "metadata": {
    "collapsed": true,
    "deletable": true,
    "editable": true
   },
   "outputs": [],
   "source": [
    "x_placeholder = tf.placeholder('float')\n",
    "y_placeholder = tf.placeholder('float')\n",
    "\n",
    "w = tf.Variable(tf.random_uniform([1], -1.0, 1.0), name='W')\n",
    "b = tf.Variable(tf.zeros([1]), name='b')\n",
    "\n",
    "y_bar = w * x_placeholder + b\n",
    "cost = tf.reduce_mean(tf.square(y_bar - y_placeholder))"
   ]
  },
  {
   "cell_type": "code",
   "execution_count": null,
   "metadata": {
    "collapsed": false,
    "deletable": true,
    "editable": true
   },
   "outputs": [],
   "source": [
    "train_step = tf.train.GradientDescentOptimizer(0.0001).minimize(cost)\n",
    "with tf.Session() as sess:\n",
    "    sess.run(tf.global_variables_initializer())\n",
    "    for i in range(100):\n",
    "        feed_dict = {x_placeholder:x.astype(float), y_placeholder:y}\n",
    "        sess.run(train_step, feed_dict=feed_dict)\n",
    "        print(sess.run(cost, feed_dict=feed_dict))\n",
    "        print(sess.run([w, b]))"
   ]
  },
  {
   "cell_type": "markdown",
   "metadata": {
    "deletable": true,
    "editable": true
   },
   "source": [
    "## write data"
   ]
  },
  {
   "cell_type": "code",
   "execution_count": null,
   "metadata": {
    "collapsed": false,
    "deletable": true,
    "editable": true
   },
   "outputs": [],
   "source": [
    "writer = tf.summary.FileWriter(\"/tensorflow/tf\", graph=tf.get_default_graph())"
   ]
  },
  {
   "cell_type": "markdown",
   "metadata": {
    "collapsed": true,
    "deletable": true,
    "editable": true
   },
   "source": [
    "如果在 Docker 环境中进行可视化，可以多暴露一个端口，如\n",
    "`docker run -it -p 1234:1234 -p 8888:8888`\n",
    "\n",
    "如果想在已有环境的基础上添加端口，可以参考 ch1 答疑中 Docker 环境使用的 commit + run大法。\n",
    "\n",
    "在导出的目录处运行 `tensorboard --port 1234 --logdir=tf`，本机即可访问 Tensorboard 服务了。"
   ]
  }
 ],
 "metadata": {
  "kernelspec": {
   "display_name": "Python 2",
   "language": "python",
   "name": "python2"
  },
  "language_info": {
   "codemirror_mode": {
    "name": "ipython",
    "version": 2
   },
   "file_extension": ".py",
   "mimetype": "text/x-python",
   "name": "python",
   "nbconvert_exporter": "python",
   "pygments_lexer": "ipython2",
   "version": "2.7.6"
  }
 },
 "nbformat": 4,
 "nbformat_minor": 0
}
