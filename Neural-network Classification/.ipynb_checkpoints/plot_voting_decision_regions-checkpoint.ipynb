{
 "cells": [
  {
   "cell_type": "code",
   "execution_count": null,
   "metadata": {
    "collapsed": false,
    "deletable": true,
    "editable": true
   },
   "outputs": [],
   "source": [
    "%matplotlib inline"
   ]
  },
  {
   "cell_type": "markdown",
   "metadata": {
    "deletable": true,
    "editable": true
   },
   "source": [
    "\n",
    "# Plot the decision boundaries of a VotingClassifier\n",
    "\n",
    "\n",
    "Plot the decision boundaries of a `VotingClassifier` for\n",
    "two features of the Iris dataset.\n",
    "\n",
    "Plot the class probabilities of the first sample in a toy dataset\n",
    "predicted by three different classifiers and averaged by the\n",
    "`VotingClassifier`.\n",
    "\n",
    "First, three exemplary classifiers are initialized (`DecisionTreeClassifier`,\n",
    "`KNeighborsClassifier`, and `SVC`) and used to initialize a\n",
    "soft-voting `VotingClassifier` with weights `[2, 1, 2]`, which means that\n",
    "the predicted probabilities of the `DecisionTreeClassifier` and `SVC`\n",
    "count 5 times as much as the weights of the `KNeighborsClassifier` classifier\n",
    "when the averaged probability is calculated.\n",
    "\n"
   ]
  },
  {
   "cell_type": "code",
   "execution_count": 1,
   "metadata": {
    "collapsed": false,
    "deletable": true,
    "editable": true
   },
   "outputs": [
    {
     "name": "stdout",
     "output_type": "stream",
     "text": [
      "Automatically created module for IPython interactive environment\n",
      "Populating the interactive namespace from numpy and matplotlib\n"
     ]
    },
    {
     "name": "stderr",
     "output_type": "stream",
     "text": [
      "/usr/local/lib/python2.7/dist-packages/IPython/core/magics/pylab.py:161: UserWarning: pylab import has clobbered these variables: ['product']\n",
      "`%matplotlib` prevents importing * from pylab and numpy\n",
      "  \"\\n`%matplotlib` prevents importing * from pylab and numpy\"\n"
     ]
    }
   ],
   "source": [
    "print(__doc__)\n",
    "\n",
    "from itertools import product\n",
    "\n",
    "import numpy as np\n",
    "import matplotlib.pyplot as plt\n",
    "\n",
    "from sklearn import datasets\n",
    "from sklearn.tree import DecisionTreeClassifier\n",
    "from sklearn.neighbors import KNeighborsClassifier\n",
    "from sklearn.svm import SVC\n",
    "from sklearn.ensemble import VotingClassifier\n",
    "%pylab inline"
   ]
  },
  {
   "cell_type": "code",
   "execution_count": 3,
   "metadata": {
    "collapsed": false
   },
   "outputs": [
    {
     "name": "stdout",
     "output_type": "stream",
     "text": [
      "[[ 5.1  1.4]\n",
      " [ 4.9  1.4]\n",
      " [ 4.7  1.3]\n",
      " [ 4.6  1.5]\n",
      " [ 5.   1.4]\n",
      " [ 5.4  1.7]\n",
      " [ 4.6  1.4]\n",
      " [ 5.   1.5]\n",
      " [ 4.4  1.4]\n",
      " [ 4.9  1.5]\n",
      " [ 5.4  1.5]\n",
      " [ 4.8  1.6]\n",
      " [ 4.8  1.4]\n",
      " [ 4.3  1.1]\n",
      " [ 5.8  1.2]\n",
      " [ 5.7  1.5]\n",
      " [ 5.4  1.3]\n",
      " [ 5.1  1.4]\n",
      " [ 5.7  1.7]\n",
      " [ 5.1  1.5]\n",
      " [ 5.4  1.7]\n",
      " [ 5.1  1.5]\n",
      " [ 4.6  1. ]\n",
      " [ 5.1  1.7]\n",
      " [ 4.8  1.9]\n",
      " [ 5.   1.6]\n",
      " [ 5.   1.6]\n",
      " [ 5.2  1.5]\n",
      " [ 5.2  1.4]\n",
      " [ 4.7  1.6]\n",
      " [ 4.8  1.6]\n",
      " [ 5.4  1.5]\n",
      " [ 5.2  1.5]\n",
      " [ 5.5  1.4]\n",
      " [ 4.9  1.5]\n",
      " [ 5.   1.2]\n",
      " [ 5.5  1.3]\n",
      " [ 4.9  1.5]\n",
      " [ 4.4  1.3]\n",
      " [ 5.1  1.5]\n",
      " [ 5.   1.3]\n",
      " [ 4.5  1.3]\n",
      " [ 4.4  1.3]\n",
      " [ 5.   1.6]\n",
      " [ 5.1  1.9]\n",
      " [ 4.8  1.4]\n",
      " [ 5.1  1.6]\n",
      " [ 4.6  1.4]\n",
      " [ 5.3  1.5]\n",
      " [ 5.   1.4]\n",
      " [ 7.   4.7]\n",
      " [ 6.4  4.5]\n",
      " [ 6.9  4.9]\n",
      " [ 5.5  4. ]\n",
      " [ 6.5  4.6]\n",
      " [ 5.7  4.5]\n",
      " [ 6.3  4.7]\n",
      " [ 4.9  3.3]\n",
      " [ 6.6  4.6]\n",
      " [ 5.2  3.9]\n",
      " [ 5.   3.5]\n",
      " [ 5.9  4.2]\n",
      " [ 6.   4. ]\n",
      " [ 6.1  4.7]\n",
      " [ 5.6  3.6]\n",
      " [ 6.7  4.4]\n",
      " [ 5.6  4.5]\n",
      " [ 5.8  4.1]\n",
      " [ 6.2  4.5]\n",
      " [ 5.6  3.9]\n",
      " [ 5.9  4.8]\n",
      " [ 6.1  4. ]\n",
      " [ 6.3  4.9]\n",
      " [ 6.1  4.7]\n",
      " [ 6.4  4.3]\n",
      " [ 6.6  4.4]\n",
      " [ 6.8  4.8]\n",
      " [ 6.7  5. ]\n",
      " [ 6.   4.5]\n",
      " [ 5.7  3.5]\n",
      " [ 5.5  3.8]\n",
      " [ 5.5  3.7]\n",
      " [ 5.8  3.9]\n",
      " [ 6.   5.1]\n",
      " [ 5.4  4.5]\n",
      " [ 6.   4.5]\n",
      " [ 6.7  4.7]\n",
      " [ 6.3  4.4]\n",
      " [ 5.6  4.1]\n",
      " [ 5.5  4. ]\n",
      " [ 5.5  4.4]\n",
      " [ 6.1  4.6]\n",
      " [ 5.8  4. ]\n",
      " [ 5.   3.3]\n",
      " [ 5.6  4.2]\n",
      " [ 5.7  4.2]\n",
      " [ 5.7  4.2]\n",
      " [ 6.2  4.3]\n",
      " [ 5.1  3. ]\n",
      " [ 5.7  4.1]\n",
      " [ 6.3  6. ]\n",
      " [ 5.8  5.1]\n",
      " [ 7.1  5.9]\n",
      " [ 6.3  5.6]\n",
      " [ 6.5  5.8]\n",
      " [ 7.6  6.6]\n",
      " [ 4.9  4.5]\n",
      " [ 7.3  6.3]\n",
      " [ 6.7  5.8]\n",
      " [ 7.2  6.1]\n",
      " [ 6.5  5.1]\n",
      " [ 6.4  5.3]\n",
      " [ 6.8  5.5]\n",
      " [ 5.7  5. ]\n",
      " [ 5.8  5.1]\n",
      " [ 6.4  5.3]\n",
      " [ 6.5  5.5]\n",
      " [ 7.7  6.7]\n",
      " [ 7.7  6.9]\n",
      " [ 6.   5. ]\n",
      " [ 6.9  5.7]\n",
      " [ 5.6  4.9]\n",
      " [ 7.7  6.7]\n",
      " [ 6.3  4.9]\n",
      " [ 6.7  5.7]\n",
      " [ 7.2  6. ]\n",
      " [ 6.2  4.8]\n",
      " [ 6.1  4.9]\n",
      " [ 6.4  5.6]\n",
      " [ 7.2  5.8]\n",
      " [ 7.4  6.1]\n",
      " [ 7.9  6.4]\n",
      " [ 6.4  5.6]\n",
      " [ 6.3  5.1]\n",
      " [ 6.1  5.6]\n",
      " [ 7.7  6.1]\n",
      " [ 6.3  5.6]\n",
      " [ 6.4  5.5]\n",
      " [ 6.   4.8]\n",
      " [ 6.9  5.4]\n",
      " [ 6.7  5.6]\n",
      " [ 6.9  5.1]\n",
      " [ 5.8  5.1]\n",
      " [ 6.8  5.9]\n",
      " [ 6.7  5.7]\n",
      " [ 6.7  5.2]\n",
      " [ 6.3  5. ]\n",
      " [ 6.5  5.2]\n",
      " [ 6.2  5.4]\n",
      " [ 5.9  5.1]]\n"
     ]
    },
    {
     "data": {
      "image/png": "[encoded data removed]",
      "text/plain": [
       "<matplotlib.figure.Figure at 0x7fdfa4d33dd0>"
      ]
     },
     "metadata": {},
     "output_type": "display_data"
    }
   ],
   "source": [
    "# Loading some example data\n",
    "iris = datasets.load_iris()\n",
    "X = iris.data[:, [0, 2]]\n",
    "y = iris.target\n",
    "\n",
    "for n in range(150):\n",
    "    if y[n] == 0:\n",
    "        plt.plot(X[n][0], X[n][1], '.', c='#1E88A8')\n",
    "    elif y[n] == 1:\n",
    "        plt.plot(X[n][0], X[n][1], '.', c='#D0104C')\n",
    "    elif y[n] == 2:\n",
    "        plt.plot(X[n][0], X[n][1],'.', c='y')\n",
    "\n",
    "print X"
   ]
  },
  {
   "cell_type": "code",
   "execution_count": 4,
   "metadata": {
    "collapsed": false
   },
   "outputs": [
    {
     "data": {
      "text/plain": [
       "DecisionTreeClassifier(class_weight=None, criterion='gini', max_depth=4,\n",
       "            max_features=None, max_leaf_nodes=None,\n",
       "            min_impurity_split=1e-07, min_samples_leaf=1,\n",
       "            min_samples_split=2, min_weight_fraction_leaf=0.0,\n",
       "            presort=False, random_state=None, splitter='best')"
      ]
     },
     "execution_count": 4,
     "metadata": {},
     "output_type": "execute_result"
    }
   ],
   "source": [
    "# Training classifiers\n",
    "clf1 = DecisionTreeClassifier(max_depth=4)\n",
    "clf1.fit(X, y)"
   ]
  },
  {
   "cell_type": "code",
   "execution_count": 26,
   "metadata": {
    "collapsed": false
   },
   "outputs": [
    {
     "name": "stdout",
     "output_type": "stream",
     "text": [
      "(79, 56) (79, 56) (79, 56)\n"
     ]
    }
   ],
   "source": [
    "# Plotting decision regions\n",
    "x_min, x_max = X[:, 0].min() - 1, X[:, 0].max() + 1\n",
    "y_min, y_max = X[:, 1].min() - 1, X[:, 1].max() + 1\n",
    "xx, yy = np.meshgrid(np.arange(x_min, x_max, 0.1),\n",
    "                     np.arange(y_min, y_max, 0.1))\n",
    "pdt = np.c_[xx.ravel(), yy.ravel()]\n",
    "Z = clf1.predict(pdt)\n",
    "Z = Z.reshape(xx.shape)\n",
    "\n",
    "print xx.shape, yy.shape, Z.shape"
   ]
  },
  {
   "cell_type": "code",
   "execution_count": 25,
   "metadata": {
    "collapsed": false
   },
   "outputs": [
    {
     "data": {
      "text/plain": [
       "<matplotlib.contour.QuadContourSet at 0x7fdf6f80ee90>"
      ]
     },
     "execution_count": 25,
     "metadata": {},
     "output_type": "execute_result"
    },
    {
     "data": {
      "image/png": "[encoded data removed]",
      "text/plain": [
       "<matplotlib.figure.Figure at 0x7fdf6f52c510>"
      ]
     },
     "metadata": {},
     "output_type": "display_data"
    }
   ],
   "source": [
    "f, axarr = plt.subplots(sharex='col', sharey='row', figsize=(10, 8))\n",
    "axarr.contourf(xx, yy, Z, alpha=0.4)\n",
    "# axarr.plot(X[:, 0], X[:, 1], '.', alpha=0.8)\n",
    "# axarr.set_title('Decision Tree (depth=4)')"
   ]
  }
 ],
 "metadata": {
  "kernelspec": {
   "display_name": "Python 2",
   "language": "python",
   "name": "python2"
  },
  "language_info": {
   "codemirror_mode": {
    "name": "ipython",
    "version": 2
   },
   "file_extension": ".py",
   "mimetype": "text/x-python",
   "name": "python",
   "nbconvert_exporter": "python",
   "pygments_lexer": "ipython2",
   "version": "2.7.6"
  }
 },
 "nbformat": 4,
 "nbformat_minor": 0
}
