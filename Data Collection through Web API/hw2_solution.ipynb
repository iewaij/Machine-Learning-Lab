{
 "cells": [
  {
   "cell_type": "markdown",
   "metadata": {},
   "source": [
    "# Homework 2: Language in the 2016 Presidential Election\n",
    "Popular figures often have help managing their media presence.  In the 2016 election, Twitter was an important communication medium for every major candidate.  Many Twitter posts posted by the top two candidates were actually written by their aides.  You might wonder how this affected the content or language of the tweets.\n",
    "\n",
    "In this assignment, we'll look at some of the patterns in tweets by the top two candidates, Clinton and Trump.  We'll start with Clinton.\n",
    "\n",
    "Along the way, you'll get a first look at Pandas.  Pandas is a Python package that provides a `DataFrame` data structure similar to the `datascience` package's `Table`, which you might remember from Data 8.  `DataFrame`s are a bit harder to use than `Table`s, but they provide more advanced functionality and are a standard tool for data analysis in Python."
   ]
  },
  {
   "cell_type": "markdown",
   "metadata": {},
   "source": [
    "Some of the analysis in this assignment is based on a [post by David Robinson](http://varianceexplained.org/r/trump-tweets/).  Feel free to read the post, but do not copy from it!  David's post is written in the `R` programming language, which is a favorite of many data analysts, especially academic statisticians.  Once you're done with your analysis, you may find it interesting to see whether `R` is easier to use for this task."
   ]
  },
  {
   "cell_type": "markdown",
   "metadata": {},
   "source": [
    "To start the assignment, run the cell below to set up some imports and the automatic tests."
   ]
  },
  {
   "cell_type": "code",
   "execution_count": 1,
   "metadata": {
    "scrolled": true
   },
   "outputs": [
    {
     "name": "stdout",
     "output_type": "stream",
     "text": [
      "Requirement already up-to-date: okpy in /Users/Jiawei/.virtualenvs/datascience3.6/lib/python3.6/site-packages\n",
      "Requirement already up-to-date: requests==2.12.4 in /Users/Jiawei/.virtualenvs/datascience3.6/lib/python3.6/site-packages (from okpy)\n",
      "=====================================================================\n",
      "Assignment: Homework 2\n",
      "OK, version v1.12.10\n",
      "=====================================================================\n",
      "\n"
     ]
    }
   ],
   "source": [
    "import math\n",
    "import numpy as np\n",
    "import matplotlib\n",
    "%matplotlib inline\n",
    "import matplotlib.pyplot as plt\n",
    "\n",
    "!pip install -U okpy\n",
    "from client.api.notebook import Notebook\n",
    "ok = Notebook('hw2.ok')"
   ]
  },
  {
   "cell_type": "markdown",
   "metadata": {},
   "source": [
    "## Getting the dataset\n",
    "Since we'll be looking at Twitter data, we need to download the data from Twitter!\n",
    "\n",
    "Twitter provides an API for downloading tweet data in large batches.  The `tweepy` package makes it fairly easy to use."
   ]
  },
  {
   "cell_type": "markdown",
   "metadata": {},
   "source": [
    "#### Question 0\n",
    "Install `tweepy`, if you don't already have it.  (Be sure to activate your Conda environment for the class first.  Then run `pip install tweepy`.)"
   ]
  },
  {
   "cell_type": "markdown",
   "metadata": {},
   "source": [
    "There are instructions on using `tweepy` [here](http://tweepy.readthedocs.io/en/v3.5.0/getting_started.html), but we will give you example code.\n",
    "\n",
    "Twitter requires you to have authentication keys to access their API.  To get your keys, you'll have to sign up as a Twitter developer."
   ]
  },
  {
   "cell_type": "markdown",
   "metadata": {},
   "source": [
    "#### Question 1\n",
    "Follow these instructions to get your keys:\n",
    "\n",
    "1. [Create a Twitter account](https://twitter.com).  You can use an existing account if you have one.\n",
    "2. Under account settings, add your phone number to the account.\n",
    "3. [Create a Twitter developer account](https://dev.twitter.com/resources/signup).  Attach it to your Twitter account.\n",
    "4. Once you're logged into your developer account, [create an application for this assignment](https://apps.twitter.com/app/new).  You can call it whatever you want, and you can write any URL when it asks for a web site.\n",
    "5. On the page for that application, find your Consumer Key and Consumer Secret.\n",
    "6. On the same page, create an Access Token.  Record the resulting Access Token and Access Token Secret.\n",
    "7. Edit the file [keys.json](keys.json) and replace the placeholders with your keys.  Don't turn in that file."
   ]
  },
  {
   "cell_type": "markdown",
   "metadata": {},
   "source": [
    "## I AM AN IMPORTANT NOTE.  DO NOT SKIP ME.\n",
    "If someone has your authentication keys, they can access your Twitter account and post as you!  So don't give them to anyone, and **don't write them down in this notebook**.  The usual way to store sensitive information like this is to put it in a separate file and read it programmatically.  That way, you can share the rest of your code without sharing your keys.  That's why we're asking you to put your keys in `keys.json` for this assignment.\n",
    "\n",
    "## I AM A SECOND IMPORTANT NOTE.\n",
    "Twitter limits developers to a certain rate of requests for data.  If you make too many requests in a short period of time, you'll have to wait awhile (around 15 minutes) before you can make more.  So carefully follow the code examples you see and don't rerun cells without thinking.  Instead, always save the data you've collected to a file.  We've provided templates to help you do that."
   ]
  },
  {
   "cell_type": "markdown",
   "metadata": {},
   "source": [
    "In the example below, we have loaded some tweets by @BerkeleyData.  Run it, inspect the output, and read the code."
   ]
  },
  {
   "cell_type": "code",
   "execution_count": 2,
   "metadata": {
    "collapsed": true
   },
   "outputs": [],
   "source": [
    "ds_tweets_save_path = \"BerkeleyData_recent_tweets.pkl\"\n",
    "from pathlib import Path\n",
    "# Guarding against attempts to download the data multiple\n",
    "# times:\n",
    "if not Path(ds_tweets_save_path).is_file():\n",
    "    import json\n",
    "    # Loading your keys from keys.json (which you should have filled\n",
    "    # in in question 1):\n",
    "    with open(\"keys.json\") as f:\n",
    "        keys = json.load(f)\n",
    "\n",
    "    import tweepy\n",
    "\n",
    "    # Authenticating:\n",
    "    auth = tweepy.OAuthHandler(keys[\"consumer_key\"], keys[\"consumer_secret\"])\n",
    "    auth.set_access_token(keys[\"access_token\"], keys[\"access_token_secret\"])\n",
    "    api = tweepy.API(auth)\n",
    "\n",
    "    # Getting as many recent tweets by @BerkeleyData as Twitter will let us have:\n",
    "    example_tweets = list(tweepy.Cursor(api.user_timeline, id=\"BerkeleyData\").items())\n",
    "\n",
    "    # Saving the tweets to a file as \"pickled\" objects:\n",
    "    with open(ds_tweets_save_path, \"wb\") as f:\n",
    "        import pickle\n",
    "        pickle.dump(example_tweets, f)\n",
    "\n",
    "# Re-loading the results:\n",
    "with open(ds_tweets_save_path, \"rb\") as f:\n",
    "    import pickle\n",
    "    example_tweets = pickle.load(f)"
   ]
  },
  {
   "cell_type": "code",
   "execution_count": 3,
   "metadata": {},
   "outputs": [
    {
     "data": {
      "text/plain": [
       "Status(_json={'created_at': 'Thu Aug 17 19:10:05 +0000 2017', 'id': 898260660915535872, 'id_str': '898260660915535872', 'text': 'Why organizations need a data ethics strategy--and how to create one \\nMore: https://t.co/bVS0PYjIEW #datascience', 'truncated': False, 'entities': {'hashtags': [{'text': 'datascience', 'indices': [100, 112]}], 'symbols': [], 'user_mentions': [], 'urls': [{'url': 'https://t.co/bVS0PYjIEW', 'expanded_url': 'http://bit.ly/2x4sZYt', 'display_url': 'bit.ly/2x4sZYt', 'indices': [76, 99]}]}, 'source': '<a href=\"http://twitter.com\" rel=\"nofollow\">Twitter Web Client</a>', 'in_reply_to_status_id': None, 'in_reply_to_status_id_str': None, 'in_reply_to_user_id': None, 'in_reply_to_user_id_str': None, 'in_reply_to_screen_name': None, 'user': {'id': 1227698863, 'id_str': '1227698863', 'name': 'datascience@berkeley', 'screen_name': 'BerkeleyData', 'location': 'Berkeley, CA', 'description': 'An online Master of Information and Data Science (MIDS) degree from the UC Berkeley School of Information. Learn more at: http://t.co/zf6gfBWovQ', 'url': 'http://t.co/S79Ul3oCaa', 'entities': {'url': {'urls': [{'url': 'http://t.co/S79Ul3oCaa', 'expanded_url': 'http://datascience.berkeley.edu', 'display_url': 'datascience.berkeley.edu', 'indices': [0, 22]}]}, 'description': {'urls': [{'url': 'http://t.co/zf6gfBWovQ', 'expanded_url': 'http://bit.ly/tBerkeleyData', 'display_url': 'bit.ly/tBerkeleyData', 'indices': [122, 144]}]}}, 'protected': False, 'followers_count': 9915, 'friends_count': 403, 'listed_count': 455, 'created_at': 'Thu Feb 28 14:37:26 +0000 2013', 'favourites_count': 44, 'utc_offset': -14400, 'time_zone': 'Eastern Time (US & Canada)', 'geo_enabled': False, 'verified': False, 'statuses_count': 2180, 'lang': 'en', 'contributors_enabled': False, 'is_translator': False, 'is_translation_enabled': False, 'profile_background_color': 'CCCCCC', 'profile_background_image_url': 'http://pbs.twimg.com/profile_background_images/378800000096571211/5f9ba86a5d2b87c2c48544133c25b092.jpeg', 'profile_background_image_url_https': 'https://pbs.twimg.com/profile_background_images/378800000096571211/5f9ba86a5d2b87c2c48544133c25b092.jpeg', 'profile_background_tile': False, 'profile_image_url': 'http://pbs.twimg.com/profile_images/894968224973897728/lI8iiF3J_normal.jpg', 'profile_image_url_https': 'https://pbs.twimg.com/profile_images/894968224973897728/lI8iiF3J_normal.jpg', 'profile_banner_url': 'https://pbs.twimg.com/profile_banners/1227698863/1502212054', 'profile_link_color': '5173B6', 'profile_sidebar_border_color': 'FFFFFF', 'profile_sidebar_fill_color': 'DDEEF6', 'profile_text_color': '333333', 'profile_use_background_image': True, 'has_extended_profile': False, 'default_profile': False, 'default_profile_image': False, 'following': False, 'follow_request_sent': False, 'notifications': False, 'translator_type': 'none'}, 'geo': None, 'coordinates': None, 'place': None, 'contributors': None, 'is_quote_status': False, 'retweet_count': 5, 'favorite_count': 6, 'favorited': False, 'retweeted': False, 'possibly_sensitive': False, 'lang': 'en'}, created_at=datetime.datetime(2017, 8, 17, 19, 10, 5), id=898260660915535872, id_str='898260660915535872', text='Why organizations need a data ethics strategy--and how to create one \\nMore: https://t.co/bVS0PYjIEW #datascience', truncated=False, entities={'hashtags': [{'text': 'datascience', 'indices': [100, 112]}], 'symbols': [], 'user_mentions': [], 'urls': [{'url': 'https://t.co/bVS0PYjIEW', 'expanded_url': 'http://bit.ly/2x4sZYt', 'display_url': 'bit.ly/2x4sZYt', 'indices': [76, 99]}]}, source='Twitter Web Client', source_url='http://twitter.com', in_reply_to_status_id=None, in_reply_to_status_id_str=None, in_reply_to_user_id=None, in_reply_to_user_id_str=None, in_reply_to_screen_name=None, author=User(_json={'id': 1227698863, 'id_str': '1227698863', 'name': 'datascience@berkeley', 'screen_name': 'BerkeleyData', 'location': 'Berkeley, CA', 'description': 'An online Master of Information and Data Science (MIDS) degree from the UC Berkeley School of Information. Learn more at: http://t.co/zf6gfBWovQ', 'url': 'http://t.co/S79Ul3oCaa', 'entities': {'url': {'urls': [{'url': 'http://t.co/S79Ul3oCaa', 'expanded_url': 'http://datascience.berkeley.edu', 'display_url': 'datascience.berkeley.edu', 'indices': [0, 22]}]}, 'description': {'urls': [{'url': 'http://t.co/zf6gfBWovQ', 'expanded_url': 'http://bit.ly/tBerkeleyData', 'display_url': 'bit.ly/tBerkeleyData', 'indices': [122, 144]}]}}, 'protected': False, 'followers_count': 9915, 'friends_count': 403, 'listed_count': 455, 'created_at': 'Thu Feb 28 14:37:26 +0000 2013', 'favourites_count': 44, 'utc_offset': -14400, 'time_zone': 'Eastern Time (US & Canada)', 'geo_enabled': False, 'verified': False, 'statuses_count': 2180, 'lang': 'en', 'contributors_enabled': False, 'is_translator': False, 'is_translation_enabled': False, 'profile_background_color': 'CCCCCC', 'profile_background_image_url': 'http://pbs.twimg.com/profile_background_images/378800000096571211/5f9ba86a5d2b87c2c48544133c25b092.jpeg', 'profile_background_image_url_https': 'https://pbs.twimg.com/profile_background_images/378800000096571211/5f9ba86a5d2b87c2c48544133c25b092.jpeg', 'profile_background_tile': False, 'profile_image_url': 'http://pbs.twimg.com/profile_images/894968224973897728/lI8iiF3J_normal.jpg', 'profile_image_url_https': 'https://pbs.twimg.com/profile_images/894968224973897728/lI8iiF3J_normal.jpg', 'profile_banner_url': 'https://pbs.twimg.com/profile_banners/1227698863/1502212054', 'profile_link_color': '5173B6', 'profile_sidebar_border_color': 'FFFFFF', 'profile_sidebar_fill_color': 'DDEEF6', 'profile_text_color': '333333', 'profile_use_background_image': True, 'has_extended_profile': False, 'default_profile': False, 'default_profile_image': False, 'following': False, 'follow_request_sent': False, 'notifications': False, 'translator_type': 'none'}, id=1227698863, id_str='1227698863', name='datascience@berkeley', screen_name='BerkeleyData', location='Berkeley, CA', description='An online Master of Information and Data Science (MIDS) degree from the UC Berkeley School of Information. Learn more at: http://t.co/zf6gfBWovQ', url='http://t.co/S79Ul3oCaa', entities={'url': {'urls': [{'url': 'http://t.co/S79Ul3oCaa', 'expanded_url': 'http://datascience.berkeley.edu', 'display_url': 'datascience.berkeley.edu', 'indices': [0, 22]}]}, 'description': {'urls': [{'url': 'http://t.co/zf6gfBWovQ', 'expanded_url': 'http://bit.ly/tBerkeleyData', 'display_url': 'bit.ly/tBerkeleyData', 'indices': [122, 144]}]}}, protected=False, followers_count=9915, friends_count=403, listed_count=455, created_at=datetime.datetime(2013, 2, 28, 14, 37, 26), favourites_count=44, utc_offset=-14400, time_zone='Eastern Time (US & Canada)', geo_enabled=False, verified=False, statuses_count=2180, lang='en', contributors_enabled=False, is_translator=False, is_translation_enabled=False, profile_background_color='CCCCCC', profile_background_image_url='http://pbs.twimg.com/profile_background_images/378800000096571211/5f9ba86a5d2b87c2c48544133c25b092.jpeg', profile_background_image_url_https='https://pbs.twimg.com/profile_background_images/378800000096571211/5f9ba86a5d2b87c2c48544133c25b092.jpeg', profile_background_tile=False, profile_image_url='http://pbs.twimg.com/profile_images/894968224973897728/lI8iiF3J_normal.jpg', profile_image_url_https='https://pbs.twimg.com/profile_images/894968224973897728/lI8iiF3J_normal.jpg', profile_banner_url='https://pbs.twimg.com/profile_banners/1227698863/1502212054', profile_link_color='5173B6', profile_sidebar_border_color='FFFFFF', profile_sidebar_fill_color='DDEEF6', profile_text_color='333333', profile_use_background_image=True, has_extended_profile=False, default_profile=False, default_profile_image=False, following=False, follow_request_sent=False, notifications=False, translator_type='none'), user=User(_json={'id': 1227698863, 'id_str': '1227698863', 'name': 'datascience@berkeley', 'screen_name': 'BerkeleyData', 'location': 'Berkeley, CA', 'description': 'An online Master of Information and Data Science (MIDS) degree from the UC Berkeley School of Information. Learn more at: http://t.co/zf6gfBWovQ', 'url': 'http://t.co/S79Ul3oCaa', 'entities': {'url': {'urls': [{'url': 'http://t.co/S79Ul3oCaa', 'expanded_url': 'http://datascience.berkeley.edu', 'display_url': 'datascience.berkeley.edu', 'indices': [0, 22]}]}, 'description': {'urls': [{'url': 'http://t.co/zf6gfBWovQ', 'expanded_url': 'http://bit.ly/tBerkeleyData', 'display_url': 'bit.ly/tBerkeleyData', 'indices': [122, 144]}]}}, 'protected': False, 'followers_count': 9915, 'friends_count': 403, 'listed_count': 455, 'created_at': 'Thu Feb 28 14:37:26 +0000 2013', 'favourites_count': 44, 'utc_offset': -14400, 'time_zone': 'Eastern Time (US & Canada)', 'geo_enabled': False, 'verified': False, 'statuses_count': 2180, 'lang': 'en', 'contributors_enabled': False, 'is_translator': False, 'is_translation_enabled': False, 'profile_background_color': 'CCCCCC', 'profile_background_image_url': 'http://pbs.twimg.com/profile_background_images/378800000096571211/5f9ba86a5d2b87c2c48544133c25b092.jpeg', 'profile_background_image_url_https': 'https://pbs.twimg.com/profile_background_images/378800000096571211/5f9ba86a5d2b87c2c48544133c25b092.jpeg', 'profile_background_tile': False, 'profile_image_url': 'http://pbs.twimg.com/profile_images/894968224973897728/lI8iiF3J_normal.jpg', 'profile_image_url_https': 'https://pbs.twimg.com/profile_images/894968224973897728/lI8iiF3J_normal.jpg', 'profile_banner_url': 'https://pbs.twimg.com/profile_banners/1227698863/1502212054', 'profile_link_color': '5173B6', 'profile_sidebar_border_color': 'FFFFFF', 'profile_sidebar_fill_color': 'DDEEF6', 'profile_text_color': '333333', 'profile_use_background_image': True, 'has_extended_profile': False, 'default_profile': False, 'default_profile_image': False, 'following': False, 'follow_request_sent': False, 'notifications': False, 'translator_type': 'none'}, id=1227698863, id_str='1227698863', name='datascience@berkeley', screen_name='BerkeleyData', location='Berkeley, CA', description='An online Master of Information and Data Science (MIDS) degree from the UC Berkeley School of Information. Learn more at: http://t.co/zf6gfBWovQ', url='http://t.co/S79Ul3oCaa', entities={'url': {'urls': [{'url': 'http://t.co/S79Ul3oCaa', 'expanded_url': 'http://datascience.berkeley.edu', 'display_url': 'datascience.berkeley.edu', 'indices': [0, 22]}]}, 'description': {'urls': [{'url': 'http://t.co/zf6gfBWovQ', 'expanded_url': 'http://bit.ly/tBerkeleyData', 'display_url': 'bit.ly/tBerkeleyData', 'indices': [122, 144]}]}}, protected=False, followers_count=9915, friends_count=403, listed_count=455, created_at=datetime.datetime(2013, 2, 28, 14, 37, 26), favourites_count=44, utc_offset=-14400, time_zone='Eastern Time (US & Canada)', geo_enabled=False, verified=False, statuses_count=2180, lang='en', contributors_enabled=False, is_translator=False, is_translation_enabled=False, profile_background_color='CCCCCC', profile_background_image_url='http://pbs.twimg.com/profile_background_images/378800000096571211/5f9ba86a5d2b87c2c48544133c25b092.jpeg', profile_background_image_url_https='https://pbs.twimg.com/profile_background_images/378800000096571211/5f9ba86a5d2b87c2c48544133c25b092.jpeg', profile_background_tile=False, profile_image_url='http://pbs.twimg.com/profile_images/894968224973897728/lI8iiF3J_normal.jpg', profile_image_url_https='https://pbs.twimg.com/profile_images/894968224973897728/lI8iiF3J_normal.jpg', profile_banner_url='https://pbs.twimg.com/profile_banners/1227698863/1502212054', profile_link_color='5173B6', profile_sidebar_border_color='FFFFFF', profile_sidebar_fill_color='DDEEF6', profile_text_color='333333', profile_use_background_image=True, has_extended_profile=False, default_profile=False, default_profile_image=False, following=False, follow_request_sent=False, notifications=False, translator_type='none'), geo=None, coordinates=None, place=None, contributors=None, is_quote_status=False, retweet_count=5, favorite_count=6, favorited=False, retweeted=False, possibly_sensitive=False, lang='en')"
      ]
     },
     "execution_count": 3,
     "metadata": {},
     "output_type": "execute_result"
    }
   ],
   "source": [
    "# Looking at one tweet object, which has type Status:\n",
    "example_tweets[0]\n",
    "# You can try something like this:\n",
    "#   import pprint; pprint.pprint(vars(example_tweets[0]))\n",
    "# ...to get a more easily-readable view."
   ]
  },
  {
   "cell_type": "markdown",
   "metadata": {},
   "source": [
    "#### Question 2\n",
    "Write code to download all the recent tweets by Hillary Clinton (@HillaryClinton).  Follow our example code if you wish.  Write your code in the form of four **functions** matching the documentation provided.  (You may define additional functions as helpers.)  **Once you've written your functions,** you can run the subsequent cell to download the tweets."
   ]
  },
  {
   "cell_type": "code",
   "execution_count": 4,
   "metadata": {
    "collapsed": true,
    "for_assignment_type": "solution"
   },
   "outputs": [],
   "source": [
    "def load_keys(path):\n",
    "    \"\"\"Loads your Twitter authentication keys from a file on disk.\n",
    "    \n",
    "    Args:\n",
    "        path (str): The path to your key file.  The file should\n",
    "          be in JSON format and look like this (but filled in):\n",
    "            {\n",
    "                \"consumer_key\": \"<your Consumer Key here>\",\n",
    "                \"consumer_secret\":  \"<your Consumer Secret here>\",\n",
    "                \"access_token\": \"<your Access Token here>\",\n",
    "                \"access_token_secret\": \"<your Access Token Secret here>\"\n",
    "            }\n",
    "    \n",
    "    Returns:\n",
    "        dict: A dictionary mapping key names (like \"consumer_key\") to\n",
    "          key values.\"\"\"\n",
    "    import json\n",
    "    with open(path) as f:\n",
    "        return json.load(f)\n",
    "\n",
    "def download_recent_tweets_by_user(user_account_name, keys):\n",
    "    \"\"\"Downloads tweets by one Twitter user.\n",
    "\n",
    "    Args:\n",
    "        user_account_name (str): The name of the Twitter account\n",
    "          whose tweets will be downloaded.\n",
    "        keys (dict): A Python dictionary with Twitter authentication\n",
    "          keys (strings), like this (but filled in):\n",
    "            {\n",
    "                \"consumer_key\": \"<your Consumer Key here>\",\n",
    "                \"consumer_secret\":  \"<your Consumer Secret here>\",\n",
    "                \"access_token\": \"<your Access Token here>\",\n",
    "                \"access_token_secret\": \"<your Access Token Secret here>\"\n",
    "            }\n",
    "\n",
    "    Returns:\n",
    "        list: A list of Status objects, each representing one tweet.\"\"\"\n",
    "    import tweepy\n",
    "\n",
    "    # Authenticating:\n",
    "    auth = tweepy.OAuthHandler(keys[\"consumer_key\"], keys[\"consumer_secret\"])\n",
    "    auth.set_access_token(keys[\"access_token\"], keys[\"access_token_secret\"])\n",
    "    api = tweepy.API(auth)\n",
    "\n",
    "    return list(tweepy.Cursor(api.user_timeline, id=user_account_name).items())\n",
    "\n",
    "def save_tweets(tweets, path):\n",
    "    \"\"\"Saves a list of tweets to a file in the local filesystem.\n",
    "    \n",
    "    This function makes no guarantee about the format of the saved\n",
    "    tweets, **except** that calling load_tweets(path) after\n",
    "    save_tweets(tweets, path) will produce the same list of tweets\n",
    "    and that only the file at the given path is used to store the\n",
    "    tweets.  (That means you can implement this function however\n",
    "    you want, as long as saving and loading works!)\n",
    "\n",
    "    Args:\n",
    "        tweets (list): A list of tweet objects (of type Status) to\n",
    "          be saved.\n",
    "        path (str): The place where the tweets will be saved.\n",
    "\n",
    "    Returns:\n",
    "        None\"\"\"\n",
    "    with open(path, \"wb\") as f:\n",
    "        import pickle\n",
    "        pickle.dump(tweets, f)\n",
    "    \n",
    "def load_tweets(path):\n",
    "    \"\"\"Loads tweets that have previously been saved.\n",
    "    \n",
    "    Calling load_tweets(path) after save_tweets(tweets, path)\n",
    "    will produce the same list of tweets.\n",
    "    \n",
    "    Args:\n",
    "        path (str): The place where the tweets were be saved.\n",
    "\n",
    "    Returns:\n",
    "        list: A list of Status objects, each representing one tweet.\"\"\"\n",
    "    with open(path, \"rb\") as f:\n",
    "        import pickle\n",
    "        return pickle.load(f)"
   ]
  },
  {
   "cell_type": "code",
   "execution_count": 5,
   "metadata": {
    "collapsed": true
   },
   "outputs": [],
   "source": [
    "# When you are done, run this cell to load @HillaryClinton's tweets.\n",
    "# Note the function get_tweets_with_cache.  You may find it useful\n",
    "# later.\n",
    "\n",
    "def get_tweets_with_cache(user_account_name, keys_path):\n",
    "    \"\"\"Get recent tweets from one user, loading from a disk cache if available.\n",
    "    \n",
    "    The first time you call this function, it will download tweets by\n",
    "    a user.  Subsequent calls will not re-download the tweets; instead\n",
    "    they'll load the tweets from a save file in your local filesystem.\n",
    "    All this is done using the functions you defined in the previous cell.\n",
    "    This has benefits and drawbacks that often appear when you cache data:\n",
    "    \n",
    "    +: Using this function will prevent extraneous usage of the Twitter API.\n",
    "    +: You will get your data much faster after the first time it's called.\n",
    "    -: If you really want to re-download the tweets (say, to get newer ones,\n",
    "       or because you screwed up something in the previous cell and your\n",
    "       tweets aren't what you wanted), you'll have to find the save file\n",
    "       (which will look like <something>_recent_tweets.pkl) and delete it.\n",
    "    \n",
    "    Args:\n",
    "        user_account_name (str): The Twitter handle of a user, without the @.\n",
    "        keys_path (str): The path to a JSON keys file in your filesystem.\n",
    "    \"\"\"\n",
    "    save_path = \"{}_recent_tweets.pkl\".format(user_account_name)\n",
    "    from pathlib import Path\n",
    "    if not Path(save_path).is_file():\n",
    "        keys = load_keys(keys_path)\n",
    "        tweets = download_recent_tweets_by_user(user_account_name, keys)\n",
    "        save_tweets(tweets, save_path)\n",
    "    return load_tweets(save_path)"
   ]
  },
  {
   "cell_type": "code",
   "execution_count": 6,
   "metadata": {
    "collapsed": true
   },
   "outputs": [],
   "source": [
    "clinton_tweets = get_tweets_with_cache(\"HillaryClinton\", \"keys.json\")"
   ]
  },
  {
   "cell_type": "code",
   "execution_count": 7,
   "metadata": {
    "scrolled": true
   },
   "outputs": [
    {
     "data": {
      "text/plain": [
       "Status(_json={'created_at': 'Sun Aug 27 13:55:40 +0000 2017', 'id': 901805416887275520, 'id_str': '901805416887275520', 'text': 'As we keep everyone affected by Hurricane Harvey in our thoughts, here’s how you can help:\\nhttps://t.co/RVReG1lRAd', 'truncated': False, 'entities': {'hashtags': [], 'symbols': [], 'user_mentions': [], 'urls': [{'url': 'https://t.co/RVReG1lRAd', 'expanded_url': 'http://m.huffpost.com/us/entry/us_59a166dde4b0821444c37515', 'display_url': 'm.huffpost.com/us/entry/us_59…', 'indices': [91, 114]}]}, 'source': '<a href=\"http://twitter.com\" rel=\"nofollow\">Twitter Web Client</a>', 'in_reply_to_status_id': None, 'in_reply_to_status_id_str': None, 'in_reply_to_user_id': None, 'in_reply_to_user_id_str': None, 'in_reply_to_screen_name': None, 'user': {'id': 1339835893, 'id_str': '1339835893', 'name': 'Hillary Clinton', 'screen_name': 'HillaryClinton', 'location': 'New York, NY', 'description': 'Wife, mom, grandma, women+kids advocate, FLOTUS, Senator, SecState, hair icon, pantsuit aficionado, 2016 presidential candidate.', 'url': 'https://t.co/xhPHAcdCwE', 'entities': {'url': {'urls': [{'url': 'https://t.co/xhPHAcdCwE', 'expanded_url': 'http://HillaryClinton.com', 'display_url': 'HillaryClinton.com', 'indices': [0, 23]}]}, 'description': {'urls': []}}, 'protected': False, 'followers_count': 17757256, 'friends_count': 761, 'listed_count': 38077, 'created_at': 'Tue Apr 09 18:04:35 +0000 2013', 'favourites_count': 1168, 'utc_offset': -14400, 'time_zone': 'Eastern Time (US & Canada)', 'geo_enabled': True, 'verified': True, 'statuses_count': 9903, 'lang': 'en', 'contributors_enabled': False, 'is_translator': False, 'is_translation_enabled': False, 'profile_background_color': '0057B8', 'profile_background_image_url': 'http://abs.twimg.com/images/themes/theme1/bg.png', 'profile_background_image_url_https': 'https://abs.twimg.com/images/themes/theme1/bg.png', 'profile_background_tile': False, 'profile_image_url': 'http://pbs.twimg.com/profile_images/839938827837976576/leN1zJJx_normal.jpg', 'profile_image_url_https': 'https://pbs.twimg.com/profile_images/839938827837976576/leN1zJJx_normal.jpg', 'profile_banner_url': 'https://pbs.twimg.com/profile_banners/1339835893/1476893928', 'profile_link_color': '0057B8', 'profile_sidebar_border_color': '000000', 'profile_sidebar_fill_color': '000000', 'profile_text_color': '000000', 'profile_use_background_image': False, 'has_extended_profile': True, 'default_profile': False, 'default_profile_image': False, 'following': False, 'follow_request_sent': False, 'notifications': False, 'translator_type': 'none'}, 'geo': None, 'coordinates': None, 'place': None, 'contributors': None, 'is_quote_status': False, 'retweet_count': 25707, 'favorite_count': 62589, 'favorited': False, 'retweeted': False, 'possibly_sensitive': False, 'lang': 'en'}, created_at=datetime.datetime(2017, 8, 27, 13, 55, 40), id=901805416887275520, id_str='901805416887275520', text='As we keep everyone affected by Hurricane Harvey in our thoughts, here’s how you can help:\\nhttps://t.co/RVReG1lRAd', truncated=False, entities={'hashtags': [], 'symbols': [], 'user_mentions': [], 'urls': [{'url': 'https://t.co/RVReG1lRAd', 'expanded_url': 'http://m.huffpost.com/us/entry/us_59a166dde4b0821444c37515', 'display_url': 'm.huffpost.com/us/entry/us_59…', 'indices': [91, 114]}]}, source='Twitter Web Client', source_url='http://twitter.com', in_reply_to_status_id=None, in_reply_to_status_id_str=None, in_reply_to_user_id=None, in_reply_to_user_id_str=None, in_reply_to_screen_name=None, author=User(_json={'id': 1339835893, 'id_str': '1339835893', 'name': 'Hillary Clinton', 'screen_name': 'HillaryClinton', 'location': 'New York, NY', 'description': 'Wife, mom, grandma, women+kids advocate, FLOTUS, Senator, SecState, hair icon, pantsuit aficionado, 2016 presidential candidate.', 'url': 'https://t.co/xhPHAcdCwE', 'entities': {'url': {'urls': [{'url': 'https://t.co/xhPHAcdCwE', 'expanded_url': 'http://HillaryClinton.com', 'display_url': 'HillaryClinton.com', 'indices': [0, 23]}]}, 'description': {'urls': []}}, 'protected': False, 'followers_count': 17757256, 'friends_count': 761, 'listed_count': 38077, 'created_at': 'Tue Apr 09 18:04:35 +0000 2013', 'favourites_count': 1168, 'utc_offset': -14400, 'time_zone': 'Eastern Time (US & Canada)', 'geo_enabled': True, 'verified': True, 'statuses_count': 9903, 'lang': 'en', 'contributors_enabled': False, 'is_translator': False, 'is_translation_enabled': False, 'profile_background_color': '0057B8', 'profile_background_image_url': 'http://abs.twimg.com/images/themes/theme1/bg.png', 'profile_background_image_url_https': 'https://abs.twimg.com/images/themes/theme1/bg.png', 'profile_background_tile': False, 'profile_image_url': 'http://pbs.twimg.com/profile_images/839938827837976576/leN1zJJx_normal.jpg', 'profile_image_url_https': 'https://pbs.twimg.com/profile_images/839938827837976576/leN1zJJx_normal.jpg', 'profile_banner_url': 'https://pbs.twimg.com/profile_banners/1339835893/1476893928', 'profile_link_color': '0057B8', 'profile_sidebar_border_color': '000000', 'profile_sidebar_fill_color': '000000', 'profile_text_color': '000000', 'profile_use_background_image': False, 'has_extended_profile': True, 'default_profile': False, 'default_profile_image': False, 'following': False, 'follow_request_sent': False, 'notifications': False, 'translator_type': 'none'}, id=1339835893, id_str='1339835893', name='Hillary Clinton', screen_name='HillaryClinton', location='New York, NY', description='Wife, mom, grandma, women+kids advocate, FLOTUS, Senator, SecState, hair icon, pantsuit aficionado, 2016 presidential candidate.', url='https://t.co/xhPHAcdCwE', entities={'url': {'urls': [{'url': 'https://t.co/xhPHAcdCwE', 'expanded_url': 'http://HillaryClinton.com', 'display_url': 'HillaryClinton.com', 'indices': [0, 23]}]}, 'description': {'urls': []}}, protected=False, followers_count=17757256, friends_count=761, listed_count=38077, created_at=datetime.datetime(2013, 4, 9, 18, 4, 35), favourites_count=1168, utc_offset=-14400, time_zone='Eastern Time (US & Canada)', geo_enabled=True, verified=True, statuses_count=9903, lang='en', contributors_enabled=False, is_translator=False, is_translation_enabled=False, profile_background_color='0057B8', profile_background_image_url='http://abs.twimg.com/images/themes/theme1/bg.png', profile_background_image_url_https='https://abs.twimg.com/images/themes/theme1/bg.png', profile_background_tile=False, profile_image_url='http://pbs.twimg.com/profile_images/839938827837976576/leN1zJJx_normal.jpg', profile_image_url_https='https://pbs.twimg.com/profile_images/839938827837976576/leN1zJJx_normal.jpg', profile_banner_url='https://pbs.twimg.com/profile_banners/1339835893/1476893928', profile_link_color='0057B8', profile_sidebar_border_color='000000', profile_sidebar_fill_color='000000', profile_text_color='000000', profile_use_background_image=False, has_extended_profile=True, default_profile=False, default_profile_image=False, following=False, follow_request_sent=False, notifications=False, translator_type='none'), user=User(_json={'id': 1339835893, 'id_str': '1339835893', 'name': 'Hillary Clinton', 'screen_name': 'HillaryClinton', 'location': 'New York, NY', 'description': 'Wife, mom, grandma, women+kids advocate, FLOTUS, Senator, SecState, hair icon, pantsuit aficionado, 2016 presidential candidate.', 'url': 'https://t.co/xhPHAcdCwE', 'entities': {'url': {'urls': [{'url': 'https://t.co/xhPHAcdCwE', 'expanded_url': 'http://HillaryClinton.com', 'display_url': 'HillaryClinton.com', 'indices': [0, 23]}]}, 'description': {'urls': []}}, 'protected': False, 'followers_count': 17757256, 'friends_count': 761, 'listed_count': 38077, 'created_at': 'Tue Apr 09 18:04:35 +0000 2013', 'favourites_count': 1168, 'utc_offset': -14400, 'time_zone': 'Eastern Time (US & Canada)', 'geo_enabled': True, 'verified': True, 'statuses_count': 9903, 'lang': 'en', 'contributors_enabled': False, 'is_translator': False, 'is_translation_enabled': False, 'profile_background_color': '0057B8', 'profile_background_image_url': 'http://abs.twimg.com/images/themes/theme1/bg.png', 'profile_background_image_url_https': 'https://abs.twimg.com/images/themes/theme1/bg.png', 'profile_background_tile': False, 'profile_image_url': 'http://pbs.twimg.com/profile_images/839938827837976576/leN1zJJx_normal.jpg', 'profile_image_url_https': 'https://pbs.twimg.com/profile_images/839938827837976576/leN1zJJx_normal.jpg', 'profile_banner_url': 'https://pbs.twimg.com/profile_banners/1339835893/1476893928', 'profile_link_color': '0057B8', 'profile_sidebar_border_color': '000000', 'profile_sidebar_fill_color': '000000', 'profile_text_color': '000000', 'profile_use_background_image': False, 'has_extended_profile': True, 'default_profile': False, 'default_profile_image': False, 'following': False, 'follow_request_sent': False, 'notifications': False, 'translator_type': 'none'}, id=1339835893, id_str='1339835893', name='Hillary Clinton', screen_name='HillaryClinton', location='New York, NY', description='Wife, mom, grandma, women+kids advocate, FLOTUS, Senator, SecState, hair icon, pantsuit aficionado, 2016 presidential candidate.', url='https://t.co/xhPHAcdCwE', entities={'url': {'urls': [{'url': 'https://t.co/xhPHAcdCwE', 'expanded_url': 'http://HillaryClinton.com', 'display_url': 'HillaryClinton.com', 'indices': [0, 23]}]}, 'description': {'urls': []}}, protected=False, followers_count=17757256, friends_count=761, listed_count=38077, created_at=datetime.datetime(2013, 4, 9, 18, 4, 35), favourites_count=1168, utc_offset=-14400, time_zone='Eastern Time (US & Canada)', geo_enabled=True, verified=True, statuses_count=9903, lang='en', contributors_enabled=False, is_translator=False, is_translation_enabled=False, profile_background_color='0057B8', profile_background_image_url='http://abs.twimg.com/images/themes/theme1/bg.png', profile_background_image_url_https='https://abs.twimg.com/images/themes/theme1/bg.png', profile_background_tile=False, profile_image_url='http://pbs.twimg.com/profile_images/839938827837976576/leN1zJJx_normal.jpg', profile_image_url_https='https://pbs.twimg.com/profile_images/839938827837976576/leN1zJJx_normal.jpg', profile_banner_url='https://pbs.twimg.com/profile_banners/1339835893/1476893928', profile_link_color='0057B8', profile_sidebar_border_color='000000', profile_sidebar_fill_color='000000', profile_text_color='000000', profile_use_background_image=False, has_extended_profile=True, default_profile=False, default_profile_image=False, following=False, follow_request_sent=False, notifications=False, translator_type='none'), geo=None, coordinates=None, place=None, contributors=None, is_quote_status=False, retweet_count=25707, favorite_count=62589, favorited=False, retweeted=False, possibly_sensitive=False, lang='en')"
      ]
     },
     "execution_count": 7,
     "metadata": {},
     "output_type": "execute_result"
    }
   ],
   "source": [
    "# If everything is working properly, this should print out\n",
    "# a Status object (a single tweet).  clinton_tweets should\n",
    "# contain around 3000 tweets.\n",
    "clinton_tweets[0]"
   ]
  },
  {
   "cell_type": "code",
   "execution_count": 8,
   "metadata": {},
   "outputs": [
    {
     "name": "stdout",
     "output_type": "stream",
     "text": [
      "~~~~~~~~~~~~~~~~~~~~~~~~~~~~~~~~~~~~~~~~~~~~~~~~~~~~~~~~~~~~~~~~~~~~~\n",
      "Running tests\n",
      "\n",
      "---------------------------------------------------------------------\n",
      "Test summary\n",
      "    Passed: 2\n",
      "    Failed: 0\n",
      "[ooooooooook] 100.0% passed\n",
      "\n"
     ]
    },
    {
     "data": {
      "application/javascript": [
       "IPython.notebook.save_checkpoint();"
      ],
      "text/plain": [
       "<IPython.core.display.Javascript object>"
      ]
     },
     "metadata": {},
     "output_type": "display_data"
    },
    {
     "data": {
      "application/javascript": [
       "IPython.notebook.save_notebook();"
      ],
      "text/plain": [
       "<IPython.core.display.Javascript object>"
      ]
     },
     "metadata": {},
     "output_type": "display_data"
    },
    {
     "name": "stdout",
     "output_type": "stream",
     "text": [
      "Saving notebook... Could not save your notebook. Make sure your notebook is saved before sending it to OK!\n",
      "Backup... 100% complete\n",
      "Backup successful for user: ljw9612@gmail.com\n",
      "URL: https://okpy.org/cal/data100/sp17/hw2/backups/ERB2YK\n",
      "NOTE: this is only a backup. To submit your assignment, use:\n",
      "\tpython3 ok --submit\n",
      "\n"
     ]
    }
   ],
   "source": [
    "_ = ok.grade('q02')\n",
    "_ = ok.backup()"
   ]
  },
  {
   "cell_type": "markdown",
   "metadata": {},
   "source": [
    "### Exploring the dataset\n",
    "Twitter gives us a lot of information about each tweet, not just its text.  You can read the full documentation [here](https://dev.twitter.com/overview/api/tweets).  Look at one tweet to get a sense of the information we have available."
   ]
  },
  {
   "cell_type": "markdown",
   "metadata": {},
   "source": [
    "#### Question 3\n",
    "Which fields contain:\n",
    "1. the actual text of a tweet,\n",
    "2. the time when the tweet was posted, and\n",
    "3. the source (device and app) from which the tweet was posted?\n",
    "\n",
    "To answer the question, write functions that extract each field from a tweet.  (Each one should take a single Status object as its argument.)"
   ]
  },
  {
   "cell_type": "code",
   "execution_count": 9,
   "metadata": {
    "collapsed": true
   },
   "outputs": [],
   "source": [
    "def extract_text(tweet):\n",
    "    return tweet.text #SOLUTION\n",
    "\n",
    "def extract_time(tweet):\n",
    "    return tweet.created_at #SOLUTION\n",
    "\n",
    "def extract_source(tweet):\n",
    "    return tweet.source #SOLUTION"
   ]
  },
  {
   "cell_type": "code",
   "execution_count": 10,
   "metadata": {},
   "outputs": [
    {
     "name": "stdout",
     "output_type": "stream",
     "text": [
      "~~~~~~~~~~~~~~~~~~~~~~~~~~~~~~~~~~~~~~~~~~~~~~~~~~~~~~~~~~~~~~~~~~~~~\n",
      "Running tests\n",
      "\n",
      "---------------------------------------------------------------------\n",
      "Test summary\n",
      "    Passed: 1\n",
      "    Failed: 0\n",
      "[ooooooooook] 100.0% passed\n",
      "\n"
     ]
    },
    {
     "data": {
      "application/javascript": [
       "IPython.notebook.save_checkpoint();"
      ],
      "text/plain": [
       "<IPython.core.display.Javascript object>"
      ]
     },
     "metadata": {},
     "output_type": "display_data"
    },
    {
     "data": {
      "application/javascript": [
       "IPython.notebook.save_notebook();"
      ],
      "text/plain": [
       "<IPython.core.display.Javascript object>"
      ]
     },
     "metadata": {},
     "output_type": "display_data"
    },
    {
     "name": "stdout",
     "output_type": "stream",
     "text": [
      "Saving notebook... Could not save your notebook. Make sure your notebook is saved before sending it to OK!\n",
      "Backup... 100% complete\n",
      "Backup successful for user: ljw9612@gmail.com\n",
      "URL: https://okpy.org/cal/data100/sp17/hw2/backups/G6E21Q\n",
      "NOTE: this is only a backup. To submit your assignment, use:\n",
      "\tpython3 ok --submit\n",
      "\n"
     ]
    }
   ],
   "source": [
    "_ = ok.grade('q03')\n",
    "_ = ok.backup()"
   ]
  },
  {
   "cell_type": "markdown",
   "metadata": {},
   "source": [
    "#### Question 4\n",
    "Are there any other fields you think might be useful in identifying the true author of an @HillaryClinton tweet?  (If you're reading the documentation, consider whether fields are actually present often enough in the data to be useful.)"
   ]
  },
  {
   "cell_type": "markdown",
   "metadata": {},
   "source": [
    "**SOLUTION:** Some possible answers: `retweet_count` or `favorite_count` might be useful if we think tweets by the candidate herself are retweeted or favorited more often.  `coordinates` might be useful if we can identify some pattern in the aides' or candidate's locations (for example, if the aides always tweet from the same campaign office building, which Hillary rarely visits).  `quoted_status` might be useful if aides are more likely to quote other tweets than the candidate herself."
   ]
  },
  {
   "cell_type": "markdown",
   "metadata": {},
   "source": [
    "## Building a Pandas table\n",
    "JSON (and the Status object, which is just Tweepy's translation of the JSON produced by the Twitter API to a Python object) is nice for transmitting data, but it's not ideal for analysis.  The data will be easier to work with if we put them in a table.\n",
    "\n",
    "To create an empty table in Pandas, write:"
   ]
  },
  {
   "cell_type": "code",
   "execution_count": 11,
   "metadata": {
    "collapsed": true
   },
   "outputs": [],
   "source": [
    "import pandas as pd\n",
    "df = pd.DataFrame()"
   ]
  },
  {
   "cell_type": "markdown",
   "metadata": {},
   "source": [
    "(`pd` is the standard abbrevation for Pandas.)\n",
    "\n",
    "Now let's make a table with useful information in it.  To add a column to a DataFrame called `df`, write:\n",
    "    \n",
    "    df['column_name'] = some_list_or_array\n",
    "\n",
    "([This page](http://pandas.pydata.org/pandas-docs/stable/10min.html) is a useful reference for many of the basic operations in Pandas.  You don't need to read it now, but it might be helpful if you get stuck.)"
   ]
  },
  {
   "cell_type": "markdown",
   "metadata": {},
   "source": [
    "#### Question 5\n",
    "Write a function called `make_dataframe`.  It should take as its argument a list of tweets like `clinton_tweets` and return a Pandas DataFrame.  The DataFrame should contain columns for all the fields in question 3 and any fields you listed in question 4.  **Use the field names as the names of the corresponding columns.**"
   ]
  },
  {
   "cell_type": "code",
   "execution_count": 12,
   "metadata": {
    "collapsed": true
   },
   "outputs": [],
   "source": [
    "def make_dataframe(tweets):\n",
    "    \"\"\"Make a DataFrame from a list of tweets, with a few relevant fields.\n",
    "    \n",
    "    Args:\n",
    "        tweets (list): A list of tweets, each one a Status object.\n",
    "    \n",
    "    Returns:\n",
    "        DataFrame: A Pandas DataFrame containing one row for each element\n",
    "          of tweets and one column for each relevant field.\"\"\"\n",
    "    df = pd.DataFrame() #SOLUTION\n",
    "    df['text'] = [extract_text(t) for t in tweets] #SOLUTION\n",
    "    df['created_at'] = [extract_time(t) for t in tweets] #SOLUTION\n",
    "    df['source'] = [extract_source(t) for t in tweets] #SOLUTION\n",
    "    return df"
   ]
  },
  {
   "cell_type": "markdown",
   "metadata": {},
   "source": [
    "Now you can run the next line to make your DataFrame."
   ]
  },
  {
   "cell_type": "code",
   "execution_count": 13,
   "metadata": {
    "collapsed": true
   },
   "outputs": [],
   "source": [
    "clinton_df = make_dataframe(clinton_tweets)"
   ]
  },
  {
   "cell_type": "code",
   "execution_count": 14,
   "metadata": {},
   "outputs": [
    {
     "data": {
      "text/html": [
       "<div>\n",
       "<style>\n",
       "    .dataframe thead tr:only-child th {\n",
       "        text-align: right;\n",
       "    }\n",
       "\n",
       "    .dataframe thead th {\n",
       "        text-align: left;\n",
       "    }\n",
       "\n",
       "    .dataframe tbody tr th {\n",
       "        vertical-align: top;\n",
       "    }\n",
       "</style>\n",
       "<table border=\"1\" class=\"dataframe\">\n",
       "  <thead>\n",
       "    <tr style=\"text-align: right;\">\n",
       "      <th></th>\n",
       "      <th>text</th>\n",
       "      <th>created_at</th>\n",
       "      <th>source</th>\n",
       "    </tr>\n",
       "  </thead>\n",
       "  <tbody>\n",
       "    <tr>\n",
       "      <th>0</th>\n",
       "      <td>As we keep everyone affected by Hurricane Harvey in our thoughts, here’s how you can help:\\nhttps://t.co/RVReG1lRAd</td>\n",
       "      <td>2017-08-27 13:55:40</td>\n",
       "      <td>Twitter Web Client</td>\n",
       "    </tr>\n",
       "    <tr>\n",
       "      <th>1</th>\n",
       "      <td>Correct. https://t.co/AcOXbigpzi</td>\n",
       "      <td>2017-08-24 15:08:28</td>\n",
       "      <td>Twitter for iPhone</td>\n",
       "    </tr>\n",
       "    <tr>\n",
       "      <th>2</th>\n",
       "      <td>RT @SimonBooks: “Writing ‘What Happened’ was hard, so is what we see every day. I hope this helps.” – @HillaryClinton https://t.co/1WhcMhhF…</td>\n",
       "      <td>2017-08-23 14:44:22</td>\n",
       "      <td>Twitter for iPhone</td>\n",
       "    </tr>\n",
       "    <tr>\n",
       "      <th>3</th>\n",
       "      <td>Thinking of those who put their lives on the line to defend America. Let's keep these missing sailors in our though… https://t.co/37xL10pGfs</td>\n",
       "      <td>2017-08-21 11:42:15</td>\n",
       "      <td>Twitter for iPhone</td>\n",
       "    </tr>\n",
       "    <tr>\n",
       "      <th>4</th>\n",
       "      <td>Barcelona, you have our resolve and support in the face of this cowardly attack. We stand together against terrorism wherever it strikes.</td>\n",
       "      <td>2017-08-17 21:41:17</td>\n",
       "      <td>Twitter for iPhone</td>\n",
       "    </tr>\n",
       "  </tbody>\n",
       "</table>\n",
       "</div>"
      ],
      "text/plain": [
       "                                                                                                                                           text  \\\n",
       "0                           As we keep everyone affected by Hurricane Harvey in our thoughts, here’s how you can help:\\nhttps://t.co/RVReG1lRAd   \n",
       "1                                                                                                              Correct. https://t.co/AcOXbigpzi   \n",
       "2  RT @SimonBooks: “Writing ‘What Happened’ was hard, so is what we see every day. I hope this helps.” – @HillaryClinton https://t.co/1WhcMhhF…   \n",
       "3  Thinking of those who put their lives on the line to defend America. Let's keep these missing sailors in our though… https://t.co/37xL10pGfs   \n",
       "4     Barcelona, you have our resolve and support in the face of this cowardly attack. We stand together against terrorism wherever it strikes.   \n",
       "\n",
       "           created_at              source  \n",
       "0 2017-08-27 13:55:40  Twitter Web Client  \n",
       "1 2017-08-24 15:08:28  Twitter for iPhone  \n",
       "2 2017-08-23 14:44:22  Twitter for iPhone  \n",
       "3 2017-08-21 11:42:15  Twitter for iPhone  \n",
       "4 2017-08-17 21:41:17  Twitter for iPhone  "
      ]
     },
     "execution_count": 14,
     "metadata": {},
     "output_type": "execute_result"
    }
   ],
   "source": [
    "# The next line causes Pandas to display all the characters\n",
    "# from each tweet when the table is printed, for more\n",
    "# convenient reading.  Comment it out if you don't want it.\n",
    "pd.set_option('display.max_colwidth', 150)\n",
    "\n",
    "clinton_df.head()"
   ]
  },
  {
   "cell_type": "code",
   "execution_count": 15,
   "metadata": {},
   "outputs": [
    {
     "name": "stdout",
     "output_type": "stream",
     "text": [
      "~~~~~~~~~~~~~~~~~~~~~~~~~~~~~~~~~~~~~~~~~~~~~~~~~~~~~~~~~~~~~~~~~~~~~\n",
      "Running tests\n",
      "\n",
      "---------------------------------------------------------------------\n",
      "Test summary\n",
      "    Passed: 1\n",
      "    Failed: 0\n",
      "[ooooooooook] 100.0% passed\n",
      "\n"
     ]
    },
    {
     "data": {
      "application/javascript": [
       "IPython.notebook.save_checkpoint();"
      ],
      "text/plain": [
       "<IPython.core.display.Javascript object>"
      ]
     },
     "metadata": {},
     "output_type": "display_data"
    },
    {
     "data": {
      "application/javascript": [
       "IPython.notebook.save_notebook();"
      ],
      "text/plain": [
       "<IPython.core.display.Javascript object>"
      ]
     },
     "metadata": {},
     "output_type": "display_data"
    },
    {
     "name": "stdout",
     "output_type": "stream",
     "text": [
      "Saving notebook... Could not save your notebook. Make sure your notebook is saved before sending it to OK!\n",
      "Backup... 100% complete\n",
      "Backup successful for user: ljw9612@gmail.com\n",
      "URL: https://okpy.org/cal/data100/sp17/hw2/backups/KrR2gz\n",
      "NOTE: this is only a backup. To submit your assignment, use:\n",
      "\tpython3 ok --submit\n",
      "\n"
     ]
    }
   ],
   "source": [
    "_ = ok.grade('q05')\n",
    "_ = ok.backup()"
   ]
  },
  {
   "cell_type": "markdown",
   "metadata": {},
   "source": [
    "## Tweetsourcing\n",
    "Now that the preliminaries are done, we can do what we set out to do: Try to distinguish between Clinton's own tweets and her aides'."
   ]
  },
  {
   "cell_type": "markdown",
   "metadata": {},
   "source": [
    "#### Question 6\n",
    "Create a plot showing how many tweets came from each kind of source.  For a real challenge, try using the Pandas documentation and Google to figure out how to do this.  Otherwise, hints are provided.\n",
    "\n",
    "*Hint:* Start by grouping the data by source.  `df['source'].value_counts()` will create an object called a Series (which is like a table that contains exactly 2 columns, where one column is called the *index*).  You can create a version of that Series that's sorted by source (in this case, in alphabetical order) by calling `sort_index()` on it.\n",
    "\n",
    "*Hint 2:* To generate a bar plot from a Series `s`, call `s.plot.barh()`.  You can also use `matplotlib`'s [`plt.barh`](http://matplotlib.org/api/pyplot_api.html#matplotlib.pyplot.barh), but it's a little bit complicated to use."
   ]
  },
  {
   "cell_type": "code",
   "execution_count": 16,
   "metadata": {},
   "outputs": [
    {
     "data": {
      "image/png": "[encoded data removed]",
      "text/plain": [
       "<matplotlib.figure.Figure at 0x11b02a9e8>"
      ]
     },
     "metadata": {},
     "output_type": "display_data"
    }
   ],
   "source": [
    "clinton_df['source'].value_counts().sort_index().plot.barh(); #SOLUTION"
   ]
  },
  {
   "cell_type": "markdown",
   "metadata": {},
   "source": [
    "You should find that most tweets come from [TweetDeck](https://tweetdeck.twitter.com)."
   ]
  },
  {
   "cell_type": "markdown",
   "metadata": {},
   "source": [
    "#### Question 7\n",
    "Filter `clinton_df` to examine some tweets from TweetDeck and a few from the next-most-used platform.  From examining only a few tweets (say 10 from each category), can you tell whether Clinton's personal tweets are limited to one platform?\n",
    "\n",
    "*Hint:* If `df` is a DataFrame and `filter_array` is an array of booleans of the same length, then `df[filter_array]` is a new DataFrame containing only the rows in `df` corresponding to `True` values in `filter_array`."
   ]
  },
  {
   "cell_type": "code",
   "execution_count": 17,
   "metadata": {
    "for_assignment_type": "solution"
   },
   "outputs": [
    {
     "name": "stdout",
     "output_type": "stream",
     "text": [
      "121      Scripture tells us: Let us not grow weary in doing good, for in due season, we shall reap, if we do not lose heart. https://t.co/snXfdLgZq8\n",
      "476                                                                      A guide to help you make your choice for president. https://t.co/QzK7XZYmJW\n",
      "777     \"When you try to sow the seeds of doubt in people's minds about the legitimacy of our elections—then that undermines our democracy.\" —@POTUS\n",
      "1134                                                      Donald always takes care of Donald and people like Donald. https://t.co/sSYRYr6xrG #debate\n",
      "1489                                           Tune in now to watch Hillary kick off Iowa early voting live from Des Moines: https://t.co/V5IZXIBDDW\n",
      "1837                                          .@FLOTUS is on the trail for Hillary. Tune in to watch her live from Virginia: https://t.co/PhnJJoDmPD\n",
      "2120        When our SEALs took out bin Laden, they brought the terrorists' families to safety first. That's American honor. https://t.co/QV5zDf2iAg\n",
      "2412    RT @meredeetch: Even after the 19th was ratified, women of color battled to get to vote. #RosanellEaton had to take a literacy test. https:…\n",
      "2689     Trump thinks it's too hard to make his products in America, so we went and found 100 US manufacturers he could use. https://t.co/FCUCLJb1nr\n",
      "2954                                                                                       What the world needs now is love. https://t.co/UyDO7J60iy\n",
      "Name: text, dtype: object\n",
      "0                                As we keep everyone affected by Hurricane Harvey in our thoughts, here’s how you can help:\\nhttps://t.co/RVReG1lRAd\n",
      "327                               RT @dougmillsnyt: .@HillaryClinton with JAY Z and Beyonce in Cleveland before the concert. https://t.co/11IkkK8j8n\n",
      "711               \"Hillary Clinton is far better than Trump or anyone else running. She should be president.\" —@PhillyDotCom https://t.co/HCVjLSXW0r\n",
      "1019                               RT @omerizer: Doors opened at 8! Cleveland is voting early for Hillary! #OHHillYes #HRCle https://t.co/NVzdwvKIza\n",
      "1246                  RT @HuffingtonPost: Tim Kaine schooled Mike Pence on abortion at the #VPDebate https://t.co/AoaZ9L6e9W https://t.co/Ht84kr2nDx\n",
      "1550    RT @shondarhimes: So. Everything you're feeling after #Debates2016? It's #NationalVoterRegistrationDay. PLEASE: https://t.co/8cVIWvmWdf. Co…\n",
      "1769                         We can build a cleaner, more resilient electrical grid with enough renewable energy to power every home in the country.\n",
      "2043                                         If you've ever wondered what Hillary's like as a friend, you could ask Janelle. https://t.co/t6egqFasOK\n",
      "2371                                     One wrong move can be the difference between life and death when you're president.\\nhttps://t.co/Tpo3Spps9z\n",
      "2712                                   Trump wants to be our Commander-in-Chief. Here's how he's treated veterans thus far:\\nhttps://t.co/iquFJ676Rj\n",
      "Name: text, dtype: object\n"
     ]
    }
   ],
   "source": [
    "# Do your analysis, then write your conclusions in a brief comment.\n",
    "tweetdeck = clinton_df[clinton_df['source'] == 'TweetDeck']\n",
    "twc = clinton_df[clinton_df['source'] == 'Twitter Web Client']\n",
    "import numpy as np\n",
    "def rounded_linspace(start, stop, count):\n",
    "    import numpy as np\n",
    "    return np.linspace(start, stop, count, endpoint=False).astype(int)\n",
    "print(tweetdeck.iloc[rounded_linspace(0, tweetdeck.shape[0], 10)]['text'])\n",
    "print(twc.iloc[rounded_linspace(0, twc.shape[0], 10)]['text'])\n",
    "\n",
    "# It does look like Twitter Web Client is used more for retweeting,\n",
    "# but it's not obvious which tweets are by Hillary."
   ]
  },
  {
   "cell_type": "markdown",
   "metadata": {},
   "source": [
    "## When in doubt, read...\n",
    "Check Hillary Clinton's [Twitter page](http://twitter.com/HillaryClinton).  It mentions an easy way to identify tweets by the candidate herself.  All other tweets are by her aides."
   ]
  },
  {
   "cell_type": "markdown",
   "metadata": {},
   "source": [
    "#### Question 8\n",
    "Write a function called `is_clinton` that takes a tweet (in JSON) as its argument and returns `True` for personal tweets by Clinton and `False` for tweets by her aides.  Use your function to create a column called `is_personal` in `clinton_df`.\n",
    "\n",
    "*Hint:* You might find the string method `endswith` helpful."
   ]
  },
  {
   "cell_type": "code",
   "execution_count": 23,
   "metadata": {},
   "outputs": [],
   "source": [
    "def is_clinton(tweet):\n",
    "    \"\"\"Distinguishes between tweets by Clinton and tweets by her aides.\n",
    "    \n",
    "    Args:\n",
    "        tweet (Status): One tweet.\n",
    "    \n",
    "    Returns:\n",
    "        bool: True if the tweet is written by Clinton herself.\"\"\"\n",
    "    return extract_text(tweet).endswith(\"-H\") #SOLUTION\n",
    "\n",
    "clinton_df['is_personal'] = [is_clinton(t) for t in clinton_tweets] #SOLUTION"
   ]
  },
  {
   "cell_type": "markdown",
   "metadata": {},
   "source": [
    "Now we have identified Clinton's personal tweets.  Let us return to our analysis of sources and see if there was any pattern we could have found.\n",
    "\n",
    "You may recall that Tables from Data 8 have a method called `pivot`, which is useful for cross-classifying a dataset on two categorical attrbiutes.  DataFrames support a more complicated version of pivoting.  The cell below pivots `clinton_df` for you."
   ]
  },
  {
   "cell_type": "code",
   "execution_count": 19,
   "metadata": {},
   "outputs": [
    {
     "data": {
      "text/html": [
       "<div>\n",
       "<style>\n",
       "    .dataframe thead tr:only-child th {\n",
       "        text-align: right;\n",
       "    }\n",
       "\n",
       "    .dataframe thead th {\n",
       "        text-align: left;\n",
       "    }\n",
       "\n",
       "    .dataframe tbody tr th {\n",
       "        vertical-align: top;\n",
       "    }\n",
       "</style>\n",
       "<table border=\"1\" class=\"dataframe\">\n",
       "  <thead>\n",
       "    <tr style=\"text-align: right;\">\n",
       "      <th>is_personal</th>\n",
       "      <th>False</th>\n",
       "      <th>True</th>\n",
       "    </tr>\n",
       "    <tr>\n",
       "      <th>source</th>\n",
       "      <th></th>\n",
       "      <th></th>\n",
       "    </tr>\n",
       "  </thead>\n",
       "  <tbody>\n",
       "    <tr>\n",
       "      <th>Media Studio</th>\n",
       "      <td>207</td>\n",
       "      <td>0</td>\n",
       "    </tr>\n",
       "    <tr>\n",
       "      <th>TweetDeck</th>\n",
       "      <td>2330</td>\n",
       "      <td>29</td>\n",
       "    </tr>\n",
       "    <tr>\n",
       "      <th>Twitter Lite</th>\n",
       "      <td>5</td>\n",
       "      <td>0</td>\n",
       "    </tr>\n",
       "    <tr>\n",
       "      <th>Twitter Web Client</th>\n",
       "      <td>462</td>\n",
       "      <td>14</td>\n",
       "    </tr>\n",
       "    <tr>\n",
       "      <th>Twitter for iPhone</th>\n",
       "      <td>167</td>\n",
       "      <td>6</td>\n",
       "    </tr>\n",
       "  </tbody>\n",
       "</table>\n",
       "</div>"
      ],
      "text/plain": [
       "is_personal         False  True\n",
       "source                         \n",
       "Media Studio          207     0\n",
       "TweetDeck            2330    29\n",
       "Twitter Lite            5     0\n",
       "Twitter Web Client    462    14\n",
       "Twitter for iPhone    167     6"
      ]
     },
     "execution_count": 19,
     "metadata": {},
     "output_type": "execute_result"
    }
   ],
   "source": [
    "# This cell is filled in for you; just run it and examine the output.\n",
    "def pivot_count(df, vertical_column, horizontal_column):\n",
    "    \"\"\"Cross-classifies df on two columns.\"\"\"\n",
    "    pivoted = pd.pivot_table(df[[vertical_column, horizontal_column]], index=[vertical_column], columns=[horizontal_column], aggfunc=len, fill_value=0)\n",
    "    return pivoted.rename(columns={False: \"False\", True: \"True\"})\n",
    "\n",
    "clinton_pivoted = pivot_count(clinton_df, 'source', 'is_personal')\n",
    "clinton_pivoted"
   ]
  },
  {
   "cell_type": "markdown",
   "metadata": {},
   "source": [
    "Do Clinton and her aides have different \"signatures\" of tweet sources?  That is, for each tweet they send, does Clinton send tweets from each source with roughly the same frequency as her aides?  It's a little hard to tell from the pivoted table alone."
   ]
  },
  {
   "cell_type": "markdown",
   "metadata": {},
   "source": [
    "#### Question 9\n",
    "Create a visualization to facilitate that comparison.\n",
    "\n",
    "*Hint:* `df.plot.barh` works for DataFrames, too.  But think about what data you want to plot."
   ]
  },
  {
   "cell_type": "code",
   "execution_count": 20,
   "metadata": {
    "for_assignment_type": "solution"
   },
   "outputs": [
    {
     "data": {
      "image/png": "[encoded data removed]",
      "text/plain": [
       "<matplotlib.figure.Figure at 0x11b106e80>"
      ]
     },
     "metadata": {},
     "output_type": "display_data"
    }
   ],
   "source": [
    "clinton_pivoted[\"aides proportion\"] = clinton_pivoted['False'] / sum(clinton_pivoted['False'])\n",
    "clinton_pivoted[\"clinton proportion\"] = clinton_pivoted['True'] / sum(clinton_pivoted['True'])\n",
    "clinton_pivoted[[\"aides proportion\", \"clinton proportion\"]].plot.barh();"
   ]
  },
  {
   "cell_type": "markdown",
   "metadata": {},
   "source": [
    "You should see that there are some differences, but they aren't large.  Do we need to worry that the differences (or lack thereof) are just \"due to chance\"?\n",
    "\n",
    "Statistician Ani argues as follows:\n",
    "\n",
    "> \"The tweets we see are not a random sample from anything.  We have simply gathered every tweet by @HillaryClinton from the last several months.  It is therefore meaningless to compute, for example, a confidence interval for the rate at which Clinton used TweetDeck.  We have calculated exactly that rate from the data we have.\"\n",
    "\n",
    "Statistician Belinda responds:\n",
    "\n",
    "> \"We are interested in whether Clinton and her aides *behave differently in general* with respect to Twitter client usage in a way that we could use to identify their tweets.  It's plausible to imagine that the tweets we see are a random sample from a huge unobserved population of all the tweets Clinton and her aides *might send*.  We must worry about error due to random chance when we draw conclusions about this population using only the data we have available.\""
   ]
  },
  {
   "cell_type": "markdown",
   "metadata": {},
   "source": [
    "#### Question 10\n",
    "What position would you take on this question?  Choose a side and give one (brief) argument for it, or argue for some third position."
   ]
  },
  {
   "cell_type": "markdown",
   "metadata": {},
   "source": [
    "**SOLUTION:** Here is an argument for Belinda's position.  Imagine that Clinton had tweeted only 5 times.  Then we would probably not think we could come to a valid conclusion about her behavior patterns.  So there is a distinction between the data and an underlying parameter that we're trying to learn about.  *However*, this does not mean it's reasonable to use methods (like the simple bootstrap) that assume the data are a *simple* random sample from the population we're interested in."
   ]
  },
  {
   "cell_type": "markdown",
   "metadata": {},
   "source": [
    "#### Question 11\n",
    "Assume you are convinced by Belinda's argument.  Perform a statistical test of the null hypothesis that the Clinton and aide tweets' sources are all independent samples from the same distribution (that is, that the differences we observe are \"due to chance\").  Briefly describe the test methodology and report your results.\n",
    "\n",
    "*Hint:* If you need a refresher, [this section](https://www.inferentialthinking.com/chapters/16/1/two-categorical-distributions.html) of the Data 8 textbook from Fall 2016 covered this kind of hypothesis test.\n",
    "\n",
    "*Hint 2:* Feel free to use `datascience.Table` to answer this question.  However, it will be advantageous to learn how to do it with `numpy` alone.  In our solution, we used some `numpy` functions you might not be aware of: `np.append`, `np.random.permutation`, `np.bincount`, and `np.count_nonzero`.  We have provided the function `expand_counts`, which should help you solve a tricky problem that will arise."
   ]
  },
  {
   "cell_type": "code",
   "execution_count": 21,
   "metadata": {
    "for_assignment_type": "solution"
   },
   "outputs": [
    {
     "name": "stdout",
     "output_type": "stream",
     "text": [
      "P-value: 0.001530\n"
     ]
    }
   ],
   "source": [
    "# Use this cell to perform your hypothesis test.\n",
    "\n",
    "def expand_counts(source_counts):\n",
    "    \"\"\"Blow up a list/array of counts of categories into an array of\n",
    "    individuals matching the counts.  For example, we can generate\n",
    "    a list of 2 individuals of type 0, 4 of type 1, and 1 of type 3\n",
    "    as follows:\n",
    "    \n",
    "    >>> expand_counts([2, 4, 0, 1])\n",
    "    array([0, 0, 1, 1, 1, 1, 3])\"\"\"\n",
    "    return np.repeat(np.arange(len(source_counts)), source_counts)\n",
    "\n",
    "def tvd(a, b):\n",
    "    return .5*sum(np.abs(a/sum(a) - b/sum(b)))\n",
    "\n",
    "def test_difference_in_distributions(sample0, sample1, num_trials):\n",
    "    num_sources = len(sample0)\n",
    "    individuals0 = expand_counts(sample0)\n",
    "    individuals1 = expand_counts(sample1)\n",
    "    count0 = len(individuals0)\n",
    "    count1 = len(individuals1)\n",
    "    all_individuals = np.append(individuals0, individuals1)\n",
    "    def simulate_under_null():\n",
    "        permuted_pool = np.random.permutation(all_individuals)\n",
    "        simulated_sample0 = np.bincount(permuted_pool[:count0], minlength=num_sources)\n",
    "        simulated_sample1 = np.bincount(permuted_pool[count0:], minlength=num_sources)\n",
    "        return tvd(simulated_sample0, simulated_sample1)\n",
    "        \n",
    "    actual_tvd = tvd(sample0, sample1)\n",
    "    simulated_tvds = np.array([simulate_under_null() for _ in range(num_trials)])\n",
    "    return np.count_nonzero(simulated_tvds > actual_tvd) / num_trials\n",
    "\n",
    "p_value = test_difference_in_distributions(clinton_pivoted['True'], clinton_pivoted['False'], 100000)\n",
    "print(\"P-value: {:.6f}\".format(p_value))"
   ]
  },
  {
   "cell_type": "markdown",
   "metadata": {},
   "source": [
    "**SOLUTION:** We simulated many times under the null hypothesis by pooling the data and permuting the sources.  We found a P-value around .04%, so we have very strong evidence against the null hypothesis that Clinton and her aides tweet from the same distribution of sources.  It's important to note that strong evidence that the difference *is not zero* (which we have found) is very different from evidence that the difference is *large* (which we have not found).  The next question demonstrates this."
   ]
  },
  {
   "cell_type": "markdown",
   "metadata": {},
   "source": [
    "#### Question 12\n",
    "Suppose you sample a random @HillaryClinton tweet and find that it is from the Twitter Web Client.  Your visualization in question 9 should show you that Clinton tweets from this source about twice as frequently as her aides do, so you might imagine it's reasonable to predict that the tweet is by Clinton.  But what is the probability that the tweet is by Clinton?  (You should find a relatively small number.  Clinton's aides tweet much more than she does.  So even though there is a difference in their tweet source usage, it would be difficult to classify tweets this way.)\n",
    "\n",
    "*Hint:* Bayes' rule is covered in [this section](https://www.inferentialthinking.com/chapters/17/1/more-likely-than-not-binary-classifier.html) of the Data 8 textbook."
   ]
  },
  {
   "cell_type": "code",
   "execution_count": null,
   "metadata": {
    "collapsed": true
   },
   "outputs": [],
   "source": [
    "probability_clinton = clinton_pivoted.loc['Twitter Web Client']['True'] / sum(clinton_pivoted.loc['Twitter Web Client']) #SOLUTION\n",
    "probability_clinton"
   ]
  },
  {
   "cell_type": "code",
   "execution_count": null,
   "metadata": {
    "collapsed": true
   },
   "outputs": [],
   "source": [
    "_ = ok.grade('q12')\n",
    "_ = ok.backup()"
   ]
  },
  {
   "cell_type": "markdown",
   "metadata": {},
   "source": [
    "# Another candidate\n",
    "Our results so far aren't Earth-shattering.  Clinton uses different Twitter clients at slightly different rates than her aides.\n",
    "\n",
    "Now that we've categorized the tweets, we could of course investigate their contents.  A manual analysis (also known as \"reading\") might be interesting, but it is beyond the scope of this course.  And we'll have to wait a few more weeks before we can use a computer to help with such an analysis.\n",
    "\n",
    "Instead, let's repeat our analysis for Donald Trump."
   ]
  },
  {
   "cell_type": "markdown",
   "metadata": {},
   "source": [
    "#### Question 13\n",
    "Download the tweet data for Trump (@realDonaldTrump), and repeat the steps through question 6 to create a table called `trump_df`."
   ]
  },
  {
   "cell_type": "code",
   "execution_count": null,
   "metadata": {
    "collapsed": true
   },
   "outputs": [],
   "source": [
    "trump_tweets = get_tweets_with_cache(\"realDonaldTrump\", \"keys.json\") #SOLUTION\n",
    "trump_df = make_dataframe(trump_tweets) #SOLUTION"
   ]
  },
  {
   "cell_type": "code",
   "execution_count": null,
   "metadata": {
    "collapsed": true
   },
   "outputs": [],
   "source": [
    "trump_df.head()"
   ]
  },
  {
   "cell_type": "markdown",
   "metadata": {},
   "source": [
    "#### Question 14\n",
    "Make a bar chart of the sources of Trump tweets."
   ]
  },
  {
   "cell_type": "code",
   "execution_count": null,
   "metadata": {
    "collapsed": true
   },
   "outputs": [],
   "source": [
    "trump_df['source'].value_counts().sort_index().plot.barh(); #SOLUTION"
   ]
  },
  {
   "cell_type": "markdown",
   "metadata": {},
   "source": [
    "You should find two major sources of tweets.\n",
    "\n",
    "It is reported (for example, in [this Gawker article](http://gawker.com/our-trump-twitter-bot-filters-out-donald-trumps-new-han-1783906386)) that Trump himself uses an Android phone (a Samsung Galaxy), while his aides use iPhones.  But Trump has not confirmed this.  Also, he has reportedly [switched phones](http://indiatoday.intoday.in/technology/story/which-phone-will-president-donald-trump-use-a-blackberry-that-cant-even-click-pics/1/862350.html) since his inauguration!  How might we verify whether this is a way to identify his tweets?\n",
    "\n",
    "A retweet is a tweet that replies to (or simply repeats) a tweet by another user.  Twitter provides several mechanisms for this, as explained in [this article](https://blog.hubspot.com/blog/tabid/6307/bid/27675/How-to-Retweet-the-Right-Way-in-4-Easy-Steps.aspx#sm.00001bz3cbt3sqe1kyf4eavc4lj9a).  However, Trump has an unusual way of retweeting: He simply adds the original sender's name to the original message, puts everything in quotes, and then adds his own comments at the end.\n",
    "\n",
    "For example, this is a tweet by user @melissa7889:\n",
    "\n",
    "        @realDonaldTrump @JRACKER33 you should run for president!\n",
    "\n",
    "Here is Trump's retweet of this, from 2013:\n",
    "\n",
    "        \"@melissa7889: @realDonaldTrump @JRACKER33 you should run for president!\" Thanks,very nice!\n",
    "\n",
    "Since 2015, the usual way of retweeting this message, and the method used by Trump's aides (but not Trump himself), would have been:\n",
    "\n",
    "        Thanks,very nice! RT @melissa7889: @realDonaldTrump @JRACKER33 you should run for president!"
   ]
  },
  {
   "cell_type": "markdown",
   "metadata": {},
   "source": [
    "#### Question 15\n",
    "Write a function to identify Trump-style retweets, and another function to identify the aide-style retweets.  Then, use them to create a function called `tweet_type` that takes a tweet as its argument and returns values `\"Trump retweet\"`, `\"Aide retweet\"`, and `\"Not a retweet\"` as appropriate.  Use your function to add a `'tweet_type'` column to `trump_df`.\n",
    "\n",
    "*Hint:* Try the string method `startswith` and the Python keyword `in`."
   ]
  },
  {
   "cell_type": "code",
   "execution_count": null,
   "metadata": {
    "collapsed": true,
    "for_assignment_type": "solution"
   },
   "outputs": [],
   "source": [
    "def is_trump_style_retweet(tweet_text):\n",
    "    \"\"\"Returns True if tweet_text looks like a Trump-style retweet.\"\"\"\n",
    "    return tweet_text.startswith('\"@')\n",
    "    \n",
    "def is_aide_style_retweet(tweet_text):\n",
    "    \"\"\"Returns True if tweet_text looks like an aide-style retweet.\"\"\"\n",
    "    return \"RT @\" in tweet_text\n",
    "\n",
    "def tweet_type(tweet_text):\n",
    "    \"\"\"Returns \"Trump retweet\", \"Aide retweet\", or \"Not a retweet\"\n",
    "    as appropriate.\"\"\"\n",
    "    if is_trump_style_retweet(tweet_text):\n",
    "        return \"Trump retweet\"\n",
    "    elif is_aide_style_retweet(tweet_text):\n",
    "        return \"Aide retweet\"\n",
    "    return \"Not a retweet\"\n",
    "\n",
    "trump_df['tweet_type'] = [tweet_type(t) for t in trump_df['text']]"
   ]
  },
  {
   "cell_type": "code",
   "execution_count": null,
   "metadata": {
    "collapsed": true
   },
   "outputs": [],
   "source": [
    "trump_df"
   ]
  },
  {
   "cell_type": "code",
   "execution_count": null,
   "metadata": {
    "collapsed": true
   },
   "outputs": [],
   "source": [
    "_ = ok.grade('q15')\n",
    "_ = ok.backup()"
   ]
  },
  {
   "cell_type": "markdown",
   "metadata": {},
   "source": [
    "#### Question 16\n",
    "Cross-classify @realDonaldTrump tweets by `source` and by `tweet_type` into a table called `trump_pivoted`.\n",
    "\n",
    "*Hint:* We did something very similar after question 7.  You don't need to write much new code for this."
   ]
  },
  {
   "cell_type": "code",
   "execution_count": null,
   "metadata": {
    "collapsed": true
   },
   "outputs": [],
   "source": [
    "trump_pivoted = pivot_count(trump_df, 'source', 'tweet_type') #SOLUTION\n",
    "trump_pivoted"
   ]
  },
  {
   "cell_type": "code",
   "execution_count": null,
   "metadata": {
    "collapsed": true
   },
   "outputs": [],
   "source": [
    "_ = ok.grade('q16')\n",
    "_ = ok.backup()"
   ]
  },
  {
   "cell_type": "markdown",
   "metadata": {},
   "source": [
    "#### Question 17\n",
    "Does the cross-classified table show evidence against the hypothesis that Trump and his advisors tweet from roughly the same sources?  Again assuming you agree with Statistician Belinda, run an hypothesis test in the next cell to verify that there is a difference in the relevant distributions.  Then use the subsequent cell to describe your methodology and results.  Are there any important caveats?"
   ]
  },
  {
   "cell_type": "code",
   "execution_count": null,
   "metadata": {
    "collapsed": true
   },
   "outputs": [],
   "source": [
    "test_difference_in_distributions(trump_pivoted['Aide retweet'], trump_pivoted['Trump retweet'], 100000) #SOLUTION"
   ]
  },
  {
   "cell_type": "markdown",
   "metadata": {},
   "source": [
    "**SOLUTION:** We eliminated the non-retweets and performed a test for a difference in categorical distributions as we did for Clinton.  As should obvious from the table, there is a difference!  (We find a P-value of 0, though this is approximate, and the true P-value is merely extremely close to 0.)  One small caveat is that we are looking only at retweets.  It's plausible that people behave differently when retweeting - maybe they find one device or app more convenient for retweets.  A bigger caveat is that we don't just care about there being *any* difference, but that the difference is *large*.  This is obvious from looking at the table - Trump almost never retweets from an iPhone and his aides never retweet from an Android phone.  (Since we care about magnitudes, it would be useful to create confidence intervals for the chances of Trump and his aides tweeting from various devices.  With a dataset this large, they would be narrow.)"
   ]
  },
  {
   "cell_type": "markdown",
   "metadata": {},
   "source": [
    "We are really interested in knowing whether we can classify @realDonaldTrump tweets on the basis of the source.  Just knowing that there is a difference in source distributions isn't nearly enough.  Instead, we would like to claim something like this: \"@realDonaldTrump tweets from Twitter for Android are generally authored by Trump himself.  Other tweets are generally authored by his aides.\"\n",
    "\n",
    "#### Question 18\n",
    "If you use bootstrap methods to compute a confidence interval for the proportion of Trump aide retweets from Android phones in \"the population of all @realDonaldTrump retweets,\" you will find that the interval is [0, 0].  That's because there are no retweets from Android phones by Trump aides in our dataset.  Is it reasonable to conclude from this that Trump aides definitely never tweet from Android phones?"
   ]
  },
  {
   "cell_type": "markdown",
   "metadata": {},
   "source": [
    "**SOLUTION:** No, the bootstrap is misleading in this case.  If we'd seen 1 million retweets by Trump aides, it might be okay to make this conclusion.  But we have seen only 177, so the conclusion seems a bit premature."
   ]
  },
  {
   "cell_type": "markdown",
   "metadata": {},
   "source": [
    "# Submitting your assignment\n",
    "First, run the next cell to run all the tests at once."
   ]
  },
  {
   "cell_type": "code",
   "execution_count": null,
   "metadata": {
    "collapsed": true
   },
   "outputs": [],
   "source": [
    "_ = ok.grade_all()"
   ]
  },
  {
   "cell_type": "markdown",
   "metadata": {},
   "source": [
    "Now, run this code in your terminal to make a\n",
    "[git commit](https://www.atlassian.com/git/tutorials/saving-changes/git-commit)\n",
    "that saves a snapshot of your changes in `git`. The last line of the cell\n",
    "runs [git push](http://stackoverflow.com/questions/2745076/what-are-the-differences-between-git-commit-and-git-push), which will send your work to your personal Github repo.\n",
    "\n",
    "**Note:** Don't add and commit your `keys.json` file!  `git add -A` will do that, but the code we've written below won't.\n",
    "\n",
    "    # Tell git to commit your changes to this notebook\n",
    "    git add sp17/hw/hw2/hw2.ipynb\n",
    "    \n",
    "    # Tell git to make the commit\n",
    "    git commit -m \"hw2 finished\"\n",
    "    \n",
    "    # Send your updates to your personal private repo\n",
    "    git push origin master\n",
    "\n",
    "Finally, we'll submit the assignment to OkPy so that the staff will know to grade it. You can submit as many times as you want, and you can choose which submission you want us to grade by going to https://okpy.org/cal/data100/sp17/."
   ]
  },
  {
   "cell_type": "code",
   "execution_count": null,
   "metadata": {
    "collapsed": true
   },
   "outputs": [],
   "source": [
    "# Now, we'll submit to okpy\n",
    "_ = ok.submit()"
   ]
  },
  {
   "cell_type": "markdown",
   "metadata": {},
   "source": [
    "Congratulations, you're done!\n",
    "\n",
    "We've only scratched the surface of this dataset.  Twitter is a rich source of data about language and social interaction, and not only for political figures.  Now you know how to access it!"
   ]
  }
 ],
 "metadata": {
  "anaconda-cloud": {},
  "kernelspec": {
   "display_name": "Python 3",
   "language": "python",
   "name": "python3"
  },
  "language_info": {
   "codemirror_mode": {
    "name": "ipython",
    "version": 3
   },
   "file_extension": ".py",
   "mimetype": "text/x-python",
   "name": "python",
   "nbconvert_exporter": "python",
   "pygments_lexer": "ipython3",
   "version": "3.6.1"
  }
 },
 "nbformat": 4,
 "nbformat_minor": 1
}
