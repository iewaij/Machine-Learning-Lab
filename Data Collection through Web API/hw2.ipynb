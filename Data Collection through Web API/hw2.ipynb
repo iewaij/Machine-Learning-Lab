{
 "cells": [
  {
   "cell_type": "markdown",
   "metadata": {},
   "source": [
    "# Homework 2: Language in the 2016 Presidential Election\n",
    "Popular figures often have help managing their media presence.  In the 2016 election, Twitter was an important communication medium for every major candidate.  Many Twitter posts posted by the top two candidates were actually written by their aides.  You might wonder how this affected the content or language of the tweets.\n",
    "\n",
    "In this assignment, we'll look at some of the patterns in tweets by the top two candidates, Clinton and Trump.  We'll start with Clinton.\n",
    "\n",
    "Along the way, you'll get a first look at Pandas.  Pandas is a Python package that provides a `DataFrame` data structure similar to the `datascience` package's `Table`, which you might remember from Data 8.  `DataFrame`s are a bit harder to use than `Table`s, but they provide more advanced functionality and are a standard tool for data analysis in Python.\n",
    "\n",
    "Some of the analysis in this assignment is based on a [post by David Robinson](http://varianceexplained.org/r/trump-tweets/).  Feel free to read the post, but do not copy from it!  David's post is written in the `R` programming language, which is a favorite of many data analysts, especially academic statisticians.  Once you're done with your analysis, you may find it interesting to see whether `R` is easier to use for this task.\n",
    "\n",
    "To start the assignment, run the cell below to set up some imports and the automatic tests."
   ]
  },
  {
   "cell_type": "code",
   "execution_count": 375,
   "metadata": {
    "collapsed": true,
    "scrolled": true
   },
   "outputs": [],
   "source": [
    "import math\n",
    "import numpy as np\n",
    "import matplotlib\n",
    "import json\n",
    "%matplotlib inline\n",
    "import matplotlib.pyplot as plt\n",
    "import seaborn as sns"
   ]
  },
  {
   "cell_type": "markdown",
   "metadata": {},
   "source": [
    "## Getting the dataset\n",
    "Since we'll be looking at Twitter data, we need to download the data from Twitter!\n",
    "\n",
    "Twitter provides an API for downloading tweet data in large batches.  The `tweepy` package makes it fairly easy to use."
   ]
  },
  {
   "cell_type": "markdown",
   "metadata": {},
   "source": [
    "#### Question 0\n",
    "Install `tweepy`, if you don't already have it.  (Be sure to activate your Conda environment for the class first.  Then run `pip install tweepy`.)"
   ]
  },
  {
   "cell_type": "markdown",
   "metadata": {},
   "source": [
    "There are instructions on using `tweepy` [here](http://tweepy.readthedocs.io/en/v3.5.0/getting_started.html), but we will give you example code.\n",
    "\n",
    "Twitter requires you to have authentication keys to access their API.  To get your keys, you'll have to sign up as a Twitter developer."
   ]
  },
  {
   "cell_type": "markdown",
   "metadata": {},
   "source": [
    "#### Question 1\n",
    "Follow these instructions to get your keys:\n",
    "\n",
    "1. [Create a Twitter account](https://twitter.com).  You can use an existing account if you have one.\n",
    "2. Under account settings, add your phone number to the account.\n",
    "3. [Create a Twitter developer account](https://dev.twitter.com/resources/signup).  Attach it to your Twitter account.\n",
    "4. Once you're logged into your developer account, [create an application for this assignment](https://apps.twitter.com/app/new).  You can call it whatever you want, and you can write any URL when it asks for a web site.\n",
    "5. On the page for that application, find your Consumer Key and Consumer Secret.\n",
    "6. On the same page, create an Access Token.  Record the resulting Access Token and Access Token Secret.\n",
    "7. Edit the file [keys.json](keys.json) and replace the placeholders with your keys.  Don't turn in that file."
   ]
  },
  {
   "cell_type": "markdown",
   "metadata": {},
   "source": [
    "### I AM AN IMPORTANT NOTE.  DO NOT SKIP ME.\n",
    "If someone has your authentication keys, they can access your Twitter account and post as you!  So don't give them to anyone, and **don't write them down in this notebook**.  The usual way to store sensitive information like this is to put it in a separate file and read it programmatically.  That way, you can share the rest of your code without sharing your keys.  That's why we're asking you to put your keys in `keys.json` for this assignment.\n",
    "\n",
    "### I AM A SECOND IMPORTANT NOTE.\n",
    "Twitter limits developers to a certain rate of requests for data.  If you make too many requests in a short period of time, you'll have to wait awhile (around 15 minutes) before you can make more.  So carefully follow the code examples you see and don't rerun cells without thinking.  Instead, always save the data you've collected to a file.  We've provided templates to help you do that."
   ]
  },
  {
   "cell_type": "markdown",
   "metadata": {},
   "source": [
    "In the example below, we have loaded some tweets by @BerkeleyData.  Run it, inspect the output, and read the code.\n"
   ]
  },
  {
   "cell_type": "code",
   "execution_count": 376,
   "metadata": {
    "collapsed": true
   },
   "outputs": [],
   "source": [
    "ds_tweets_save_path = \"BerkeleyData_recent_tweets.pkl\"\n",
    "from pathlib import Path\n",
    "# Guarding against attempts to download the data multiple times:\n",
    "if not Path(ds_tweets_save_path).is_file():\n",
    "    # Loading your keys from keys.json (which you should have filled\n",
    "    # in in question 1):\n",
    "    with open(\"keys.json\") as f:\n",
    "        keys = json.load(f)\n",
    "\n",
    "    import tweepy\n",
    "\n",
    "    # Authenticating:\n",
    "    auth = tweepy.OAuthHandler(keys[\"consumer_key\"], keys[\"consumer_secret\"])\n",
    "    auth.set_access_token(keys[\"access_token\"], keys[\"access_token_secret\"])\n",
    "    api = tweepy.API(auth)\n",
    "\n",
    "    # Getting as many recent tweets by @BerkeleyData as Twitter will let us have:\n",
    "    example_tweets = list(tweepy.Cursor(api.user_timeline, id=\"BerkeleyData\").items())\n",
    "\n",
    "    # Saving the tweets to a file as \"pickled\" objects:\n",
    "    with open(ds_tweets_save_path, \"wb\") as f:\n",
    "        import pickle\n",
    "        pickle.dump(example_tweets, f)\n",
    "\n",
    "# Re-loading the results:\n",
    "with open(ds_tweets_save_path, \"rb\") as f:\n",
    "    import pickle\n",
    "    example_tweets = pickle.load(f)"
   ]
  },
  {
   "cell_type": "code",
   "execution_count": 377,
   "metadata": {},
   "outputs": [
    {
     "name": "stdout",
     "output_type": "stream",
     "text": [
      "{'_json': {'contributors': None,\n",
      "           'coordinates': None,\n",
      "           'created_at': 'Thu Aug 17 19:10:05 +0000 2017',\n",
      "           'entities': {'hashtags': [{'indices': [100, 112],\n",
      "                                      'text': 'datascience'}],\n",
      "                        'symbols': [],\n",
      "                        'urls': [{'display_url': 'bit.ly/2x4sZYt',\n",
      "                                  'expanded_url': 'http://bit.ly/2x4sZYt',\n",
      "                                  'indices': [76, 99],\n",
      "                                  'url': 'https://t.co/bVS0PYjIEW'}],\n",
      "                        'user_mentions': []},\n",
      "           'favorite_count': 6,\n",
      "           'favorited': False,\n",
      "           'geo': None,\n",
      "           'id': 898260660915535872,\n",
      "           'id_str': '898260660915535872',\n",
      "           'in_reply_to_screen_name': None,\n",
      "           'in_reply_to_status_id': None,\n",
      "           'in_reply_to_status_id_str': None,\n",
      "           'in_reply_to_user_id': None,\n",
      "           'in_reply_to_user_id_str': None,\n",
      "           'is_quote_status': False,\n",
      "           'lang': 'en',\n",
      "           'place': None,\n",
      "           'possibly_sensitive': False,\n",
      "           'retweet_count': 5,\n",
      "           'retweeted': False,\n",
      "           'source': '<a href=\"http://twitter.com\" rel=\"nofollow\">Twitter Web '\n",
      "                     'Client</a>',\n",
      "           'text': 'Why organizations need a data ethics strategy--and how to '\n",
      "                   'create one \\n'\n",
      "                   'More: https://t.co/bVS0PYjIEW #datascience',\n",
      "           'truncated': False,\n",
      "           'user': {'contributors_enabled': False,\n",
      "                    'created_at': 'Thu Feb 28 14:37:26 +0000 2013',\n",
      "                    'default_profile': False,\n",
      "                    'default_profile_image': False,\n",
      "                    'description': 'An online Master of Information and Data '\n",
      "                                   'Science (MIDS) degree from the UC Berkeley '\n",
      "                                   'School of Information. Learn more at: '\n",
      "                                   'http://t.co/zf6gfBWovQ',\n",
      "                    'entities': {'description': {'urls': [{'display_url': 'bit.ly/tBerkeleyData',\n",
      "                                                           'expanded_url': 'http://bit.ly/tBerkeleyData',\n",
      "                                                           'indices': [122,\n",
      "                                                                       144],\n",
      "                                                           'url': 'http://t.co/zf6gfBWovQ'}]},\n",
      "                                 'url': {'urls': [{'display_url': 'datascience.berkeley.edu',\n",
      "                                                   'expanded_url': 'http://datascience.berkeley.edu',\n",
      "                                                   'indices': [0, 22],\n",
      "                                                   'url': 'http://t.co/S79Ul3oCaa'}]}},\n",
      "                    'favourites_count': 44,\n",
      "                    'follow_request_sent': False,\n",
      "                    'followers_count': 9915,\n",
      "                    'following': False,\n",
      "                    'friends_count': 403,\n",
      "                    'geo_enabled': False,\n",
      "                    'has_extended_profile': False,\n",
      "                    'id': 1227698863,\n",
      "                    'id_str': '1227698863',\n",
      "                    'is_translation_enabled': False,\n",
      "                    'is_translator': False,\n",
      "                    'lang': 'en',\n",
      "                    'listed_count': 455,\n",
      "                    'location': 'Berkeley, CA',\n",
      "                    'name': 'datascience@berkeley',\n",
      "                    'notifications': False,\n",
      "                    'profile_background_color': 'CCCCCC',\n",
      "                    'profile_background_image_url': 'http://pbs.twimg.com/profile_background_images/378800000096571211/5f9ba86a5d2b87c2c48544133c25b092.jpeg',\n",
      "                    'profile_background_image_url_https': 'https://pbs.twimg.com/profile_background_images/378800000096571211/5f9ba86a5d2b87c2c48544133c25b092.jpeg',\n",
      "                    'profile_background_tile': False,\n",
      "                    'profile_banner_url': 'https://pbs.twimg.com/profile_banners/1227698863/1502212054',\n",
      "                    'profile_image_url': 'http://pbs.twimg.com/profile_images/894968224973897728/lI8iiF3J_normal.jpg',\n",
      "                    'profile_image_url_https': 'https://pbs.twimg.com/profile_images/894968224973897728/lI8iiF3J_normal.jpg',\n",
      "                    'profile_link_color': '5173B6',\n",
      "                    'profile_sidebar_border_color': 'FFFFFF',\n",
      "                    'profile_sidebar_fill_color': 'DDEEF6',\n",
      "                    'profile_text_color': '333333',\n",
      "                    'profile_use_background_image': True,\n",
      "                    'protected': False,\n",
      "                    'screen_name': 'BerkeleyData',\n",
      "                    'statuses_count': 2180,\n",
      "                    'time_zone': 'Eastern Time (US & Canada)',\n",
      "                    'translator_type': 'none',\n",
      "                    'url': 'http://t.co/S79Ul3oCaa',\n",
      "                    'utc_offset': -14400,\n",
      "                    'verified': False}},\n",
      " 'author': User(_json={'id': 1227698863, 'id_str': '1227698863', 'name': 'datascience@berkeley', 'screen_name': 'BerkeleyData', 'location': 'Berkeley, CA', 'description': 'An online Master of Information and Data Science (MIDS) degree from the UC Berkeley School of Information. Learn more at: http://t.co/zf6gfBWovQ', 'url': 'http://t.co/S79Ul3oCaa', 'entities': {'url': {'urls': [{'url': 'http://t.co/S79Ul3oCaa', 'expanded_url': 'http://datascience.berkeley.edu', 'display_url': 'datascience.berkeley.edu', 'indices': [0, 22]}]}, 'description': {'urls': [{'url': 'http://t.co/zf6gfBWovQ', 'expanded_url': 'http://bit.ly/tBerkeleyData', 'display_url': 'bit.ly/tBerkeleyData', 'indices': [122, 144]}]}}, 'protected': False, 'followers_count': 9915, 'friends_count': 403, 'listed_count': 455, 'created_at': 'Thu Feb 28 14:37:26 +0000 2013', 'favourites_count': 44, 'utc_offset': -14400, 'time_zone': 'Eastern Time (US & Canada)', 'geo_enabled': False, 'verified': False, 'statuses_count': 2180, 'lang': 'en', 'contributors_enabled': False, 'is_translator': False, 'is_translation_enabled': False, 'profile_background_color': 'CCCCCC', 'profile_background_image_url': 'http://pbs.twimg.com/profile_background_images/378800000096571211/5f9ba86a5d2b87c2c48544133c25b092.jpeg', 'profile_background_image_url_https': 'https://pbs.twimg.com/profile_background_images/378800000096571211/5f9ba86a5d2b87c2c48544133c25b092.jpeg', 'profile_background_tile': False, 'profile_image_url': 'http://pbs.twimg.com/profile_images/894968224973897728/lI8iiF3J_normal.jpg', 'profile_image_url_https': 'https://pbs.twimg.com/profile_images/894968224973897728/lI8iiF3J_normal.jpg', 'profile_banner_url': 'https://pbs.twimg.com/profile_banners/1227698863/1502212054', 'profile_link_color': '5173B6', 'profile_sidebar_border_color': 'FFFFFF', 'profile_sidebar_fill_color': 'DDEEF6', 'profile_text_color': '333333', 'profile_use_background_image': True, 'has_extended_profile': False, 'default_profile': False, 'default_profile_image': False, 'following': False, 'follow_request_sent': False, 'notifications': False, 'translator_type': 'none'}, id=1227698863, id_str='1227698863', name='datascience@berkeley', screen_name='BerkeleyData', location='Berkeley, CA', description='An online Master of Information and Data Science (MIDS) degree from the UC Berkeley School of Information. Learn more at: http://t.co/zf6gfBWovQ', url='http://t.co/S79Ul3oCaa', entities={'url': {'urls': [{'url': 'http://t.co/S79Ul3oCaa', 'expanded_url': 'http://datascience.berkeley.edu', 'display_url': 'datascience.berkeley.edu', 'indices': [0, 22]}]}, 'description': {'urls': [{'url': 'http://t.co/zf6gfBWovQ', 'expanded_url': 'http://bit.ly/tBerkeleyData', 'display_url': 'bit.ly/tBerkeleyData', 'indices': [122, 144]}]}}, protected=False, followers_count=9915, friends_count=403, listed_count=455, created_at=datetime.datetime(2013, 2, 28, 14, 37, 26), favourites_count=44, utc_offset=-14400, time_zone='Eastern Time (US & Canada)', geo_enabled=False, verified=False, statuses_count=2180, lang='en', contributors_enabled=False, is_translator=False, is_translation_enabled=False, profile_background_color='CCCCCC', profile_background_image_url='http://pbs.twimg.com/profile_background_images/378800000096571211/5f9ba86a5d2b87c2c48544133c25b092.jpeg', profile_background_image_url_https='https://pbs.twimg.com/profile_background_images/378800000096571211/5f9ba86a5d2b87c2c48544133c25b092.jpeg', profile_background_tile=False, profile_image_url='http://pbs.twimg.com/profile_images/894968224973897728/lI8iiF3J_normal.jpg', profile_image_url_https='https://pbs.twimg.com/profile_images/894968224973897728/lI8iiF3J_normal.jpg', profile_banner_url='https://pbs.twimg.com/profile_banners/1227698863/1502212054', profile_link_color='5173B6', profile_sidebar_border_color='FFFFFF', profile_sidebar_fill_color='DDEEF6', profile_text_color='333333', profile_use_background_image=True, has_extended_profile=False, default_profile=False, default_profile_image=False, following=False, follow_request_sent=False, notifications=False, translator_type='none'),\n",
      " 'contributors': None,\n",
      " 'coordinates': None,\n",
      " 'created_at': datetime.datetime(2017, 8, 17, 19, 10, 5),\n",
      " 'entities': {'hashtags': [{'indices': [100, 112], 'text': 'datascience'}],\n",
      "              'symbols': [],\n",
      "              'urls': [{'display_url': 'bit.ly/2x4sZYt',\n",
      "                        'expanded_url': 'http://bit.ly/2x4sZYt',\n",
      "                        'indices': [76, 99],\n",
      "                        'url': 'https://t.co/bVS0PYjIEW'}],\n",
      "              'user_mentions': []},\n",
      " 'favorite_count': 6,\n",
      " 'favorited': False,\n",
      " 'geo': None,\n",
      " 'id': 898260660915535872,\n",
      " 'id_str': '898260660915535872',\n",
      " 'in_reply_to_screen_name': None,\n",
      " 'in_reply_to_status_id': None,\n",
      " 'in_reply_to_status_id_str': None,\n",
      " 'in_reply_to_user_id': None,\n",
      " 'in_reply_to_user_id_str': None,\n",
      " 'is_quote_status': False,\n",
      " 'lang': 'en',\n",
      " 'place': None,\n",
      " 'possibly_sensitive': False,\n",
      " 'retweet_count': 5,\n",
      " 'retweeted': False,\n",
      " 'source': 'Twitter Web Client',\n",
      " 'source_url': 'http://twitter.com',\n",
      " 'text': 'Why organizations need a data ethics strategy--and how to create '\n",
      "         'one \\n'\n",
      "         'More: https://t.co/bVS0PYjIEW #datascience',\n",
      " 'truncated': False,\n",
      " 'user': User(_json={'id': 1227698863, 'id_str': '1227698863', 'name': 'datascience@berkeley', 'screen_name': 'BerkeleyData', 'location': 'Berkeley, CA', 'description': 'An online Master of Information and Data Science (MIDS) degree from the UC Berkeley School of Information. Learn more at: http://t.co/zf6gfBWovQ', 'url': 'http://t.co/S79Ul3oCaa', 'entities': {'url': {'urls': [{'url': 'http://t.co/S79Ul3oCaa', 'expanded_url': 'http://datascience.berkeley.edu', 'display_url': 'datascience.berkeley.edu', 'indices': [0, 22]}]}, 'description': {'urls': [{'url': 'http://t.co/zf6gfBWovQ', 'expanded_url': 'http://bit.ly/tBerkeleyData', 'display_url': 'bit.ly/tBerkeleyData', 'indices': [122, 144]}]}}, 'protected': False, 'followers_count': 9915, 'friends_count': 403, 'listed_count': 455, 'created_at': 'Thu Feb 28 14:37:26 +0000 2013', 'favourites_count': 44, 'utc_offset': -14400, 'time_zone': 'Eastern Time (US & Canada)', 'geo_enabled': False, 'verified': False, 'statuses_count': 2180, 'lang': 'en', 'contributors_enabled': False, 'is_translator': False, 'is_translation_enabled': False, 'profile_background_color': 'CCCCCC', 'profile_background_image_url': 'http://pbs.twimg.com/profile_background_images/378800000096571211/5f9ba86a5d2b87c2c48544133c25b092.jpeg', 'profile_background_image_url_https': 'https://pbs.twimg.com/profile_background_images/378800000096571211/5f9ba86a5d2b87c2c48544133c25b092.jpeg', 'profile_background_tile': False, 'profile_image_url': 'http://pbs.twimg.com/profile_images/894968224973897728/lI8iiF3J_normal.jpg', 'profile_image_url_https': 'https://pbs.twimg.com/profile_images/894968224973897728/lI8iiF3J_normal.jpg', 'profile_banner_url': 'https://pbs.twimg.com/profile_banners/1227698863/1502212054', 'profile_link_color': '5173B6', 'profile_sidebar_border_color': 'FFFFFF', 'profile_sidebar_fill_color': 'DDEEF6', 'profile_text_color': '333333', 'profile_use_background_image': True, 'has_extended_profile': False, 'default_profile': False, 'default_profile_image': False, 'following': False, 'follow_request_sent': False, 'notifications': False, 'translator_type': 'none'}, id=1227698863, id_str='1227698863', name='datascience@berkeley', screen_name='BerkeleyData', location='Berkeley, CA', description='An online Master of Information and Data Science (MIDS) degree from the UC Berkeley School of Information. Learn more at: http://t.co/zf6gfBWovQ', url='http://t.co/S79Ul3oCaa', entities={'url': {'urls': [{'url': 'http://t.co/S79Ul3oCaa', 'expanded_url': 'http://datascience.berkeley.edu', 'display_url': 'datascience.berkeley.edu', 'indices': [0, 22]}]}, 'description': {'urls': [{'url': 'http://t.co/zf6gfBWovQ', 'expanded_url': 'http://bit.ly/tBerkeleyData', 'display_url': 'bit.ly/tBerkeleyData', 'indices': [122, 144]}]}}, protected=False, followers_count=9915, friends_count=403, listed_count=455, created_at=datetime.datetime(2013, 2, 28, 14, 37, 26), favourites_count=44, utc_offset=-14400, time_zone='Eastern Time (US & Canada)', geo_enabled=False, verified=False, statuses_count=2180, lang='en', contributors_enabled=False, is_translator=False, is_translation_enabled=False, profile_background_color='CCCCCC', profile_background_image_url='http://pbs.twimg.com/profile_background_images/378800000096571211/5f9ba86a5d2b87c2c48544133c25b092.jpeg', profile_background_image_url_https='https://pbs.twimg.com/profile_background_images/378800000096571211/5f9ba86a5d2b87c2c48544133c25b092.jpeg', profile_background_tile=False, profile_image_url='http://pbs.twimg.com/profile_images/894968224973897728/lI8iiF3J_normal.jpg', profile_image_url_https='https://pbs.twimg.com/profile_images/894968224973897728/lI8iiF3J_normal.jpg', profile_banner_url='https://pbs.twimg.com/profile_banners/1227698863/1502212054', profile_link_color='5173B6', profile_sidebar_border_color='FFFFFF', profile_sidebar_fill_color='DDEEF6', profile_text_color='333333', profile_use_background_image=True, has_extended_profile=False, default_profile=False, default_profile_image=False, following=False, follow_request_sent=False, notifications=False, translator_type='none')}\n"
     ]
    }
   ],
   "source": [
    "# Looking at one tweet object, which has type Status:\n",
    "# example_tweets[0]\n",
    "# ...to get a more easily-readable view.\n",
    "import pprint\n",
    "pprint.pprint(vars(example_tweets[0]))"
   ]
  },
  {
   "cell_type": "markdown",
   "metadata": {},
   "source": [
    "#### Question 2\n",
    "Write code to download all the recent tweets by Hillary Clinton (@HillaryClinton).  Follow our example code if you wish.  Write your code in the form of four **functions** matching the documentation provided.  (You may define additional functions as helpers.)  **Once you've written your functions,** you can run the subsequent cell to download the tweets."
   ]
  },
  {
   "cell_type": "code",
   "execution_count": 378,
   "metadata": {
    "collapsed": true,
    "for_assignment_type": "student"
   },
   "outputs": [],
   "source": [
    "def load_keys(path):\n",
    "    \"\"\"Loads your Twitter authentication keys from a file on disk.\n",
    "    \n",
    "    Args:\n",
    "        path (str): The path to your key file.  The file should\n",
    "          be in JSON format and look like this (but filled in):\n",
    "            {\n",
    "                \"consumer_key\": \"<your Consumer Key here>\",\n",
    "                \"consumer_secret\":  \"<your Consumer Secret here>\",\n",
    "                \"access_token\": \"<your Access Token here>\",\n",
    "                \"access_token_secret\": \"<your Access Token Secret here>\"\n",
    "            }\n",
    "    \n",
    "    Returns:\n",
    "        dict: A dictionary mapping key names (like \"consumer_key\") to\n",
    "          key values.\"\"\"\n",
    "    ...\n",
    "    with open(path) as f:\n",
    "        keys = json.load(f)\n",
    "    return keys\n",
    "\n",
    "def download_recent_tweets_by_user(user_account_name, keys):\n",
    "    \"\"\"Downloads tweets by one Twitter user.\n",
    "\n",
    "    Args:\n",
    "        user_account_name (str): The name of the Twitter account\n",
    "          whose tweets will be downloaded.\n",
    "        keys (dict): A Python dictionary with Twitter authentication\n",
    "          keys (strings), like this (but filled in):\n",
    "            {\n",
    "                \"consumer_key\": \"<your Consumer Key here>\",\n",
    "                \"consumer_secret\":  \"<your Consumer Secret here>\",\n",
    "                \"access_token\": \"<your Access Token here>\",\n",
    "                \"access_token_secret\": \"<your Access Token Secret here>\"\n",
    "            }\n",
    "\n",
    "    Returns:\n",
    "        list: A list of Status objects, each representing one tweet.\"\"\"\n",
    "    import tweepy\n",
    "    # Authenticating:\n",
    "    auth = tweepy.OAuthHandler(keys[\"consumer_key\"], keys[\"consumer_secret\"])\n",
    "    auth.set_access_token(keys[\"access_token\"], keys[\"access_token_secret\"])\n",
    "    api = tweepy.API(auth)\n",
    "    # Get tweets from user_account_name\n",
    "    tweets = list(tweepy.Cursor(api.user_timeline, id=user_account_name).items())\n",
    "    return tweets\n",
    "\n",
    "def save_tweets(tweets, path):\n",
    "    \"\"\"Saves a list of tweets to a file in the local filesystem.\n",
    "\n",
    "    This function makes no guarantee about the format of the saved\n",
    "    tweets, **except** that calling load_tweets(path) after\n",
    "    save_tweets(tweets, path) will produce the same list of tweets\n",
    "    and that only the file at the given path is used to store the\n",
    "    tweets.  (That means you can implement this function however\n",
    "    you want, as long as saving and loading works!)\n",
    "\n",
    "    Args:\n",
    "        tweets (list): A list of tweet objects (of type Status) to\n",
    "          be saved.\n",
    "        path (str): The place where the tweets will be saved.\n",
    "\n",
    "    Returns:\n",
    "        None\"\"\"\n",
    "    ...\n",
    "    with open(path, \"wb\") as f:\n",
    "        import pickle\n",
    "        pickle.dump(tweets, f)\n",
    "\n",
    "\n",
    "def load_tweets(path):\n",
    "    \"\"\"Loads tweets that have previously been saved.\n",
    "\n",
    "    Calling load_tweets(path) after save_tweets(tweets, path)\n",
    "    will produce the same list of tweets.\n",
    "\n",
    "    Args:\n",
    "        path (str): The place where the tweets were be saved.\n",
    "\n",
    "    Returns:\n",
    "        list: A list of Status objects, each representing one tweet.\"\"\"\n",
    "    ...\n",
    "    with open(path, \"rb\") as f:\n",
    "        import pickle\n",
    "        tweets = pickle.load(f)\n",
    "        return tweets"
   ]
  },
  {
   "cell_type": "code",
   "execution_count": 379,
   "metadata": {
    "collapsed": true
   },
   "outputs": [],
   "source": [
    "# When you are done, run this cell to load @HillaryClinton's tweets.\n",
    "# Note the function get_tweets_with_cache.  You may find it useful\n",
    "# later.\n",
    "\n",
    "def get_tweets_with_cache(user_account_name, keys_path):\n",
    "    \"\"\"Get recent tweets from one user, loading from a disk cache if available.\n",
    "    \n",
    "    The first time you call this function, it will download tweets by\n",
    "    a user.  Subsequent calls will not re-download the tweets; instead\n",
    "    they'll load the tweets from a save file in your local filesystem.\n",
    "    All this is done using the functions you defined in the previous cell.\n",
    "    This has benefits and drawbacks that often appear when you cache data:\n",
    "    \n",
    "    +: Using this function will prevent extraneous usage of the Twitter API.\n",
    "    +: You will get your data much faster after the first time it's called.\n",
    "    -: If you really want to re-download the tweets (say, to get newer ones,\n",
    "       or because you screwed up something in the previous cell and your\n",
    "       tweets aren't what you wanted), you'll have to find the save file\n",
    "       (which will look like <something>_recent_tweets.pkl) and delete it.\n",
    "    \n",
    "    Args:\n",
    "        user_account_name (str): The Twitter handle of a user, without the @.\n",
    "        keys_path (str): The path to a JSON keys file in your filesystem.\n",
    "    \"\"\"\n",
    "    save_path = \"{}_recent_tweets.pkl\".format(user_account_name)\n",
    "    from pathlib import Path\n",
    "    if not Path(save_path).is_file():\n",
    "        keys = load_keys(keys_path)\n",
    "        tweets = download_recent_tweets_by_user(user_account_name, keys)\n",
    "        save_tweets(tweets, save_path)\n",
    "    return load_tweets(save_path)"
   ]
  },
  {
   "cell_type": "code",
   "execution_count": 380,
   "metadata": {
    "collapsed": true
   },
   "outputs": [],
   "source": [
    "clinton_tweets = get_tweets_with_cache(\"HillaryClinton\", \"keys.json\")"
   ]
  },
  {
   "cell_type": "code",
   "execution_count": 381,
   "metadata": {
    "scrolled": true
   },
   "outputs": [
    {
     "name": "stdout",
     "output_type": "stream",
     "text": [
      "{'_json': {'contributors': None,\n",
      "           'coordinates': None,\n",
      "           'created_at': 'Sun Aug 27 13:55:40 +0000 2017',\n",
      "           'entities': {'hashtags': [],\n",
      "                        'symbols': [],\n",
      "                        'urls': [{'display_url': 'm.huffpost.com/us/entry/us_59…',\n",
      "                                  'expanded_url': 'http://m.huffpost.com/us/entry/us_59a166dde4b0821444c37515',\n",
      "                                  'indices': [91, 114],\n",
      "                                  'url': 'https://t.co/RVReG1lRAd'}],\n",
      "                        'user_mentions': []},\n",
      "           'favorite_count': 62589,\n",
      "           'favorited': False,\n",
      "           'geo': None,\n",
      "           'id': 901805416887275520,\n",
      "           'id_str': '901805416887275520',\n",
      "           'in_reply_to_screen_name': None,\n",
      "           'in_reply_to_status_id': None,\n",
      "           'in_reply_to_status_id_str': None,\n",
      "           'in_reply_to_user_id': None,\n",
      "           'in_reply_to_user_id_str': None,\n",
      "           'is_quote_status': False,\n",
      "           'lang': 'en',\n",
      "           'place': None,\n",
      "           'possibly_sensitive': False,\n",
      "           'retweet_count': 25707,\n",
      "           'retweeted': False,\n",
      "           'source': '<a href=\"http://twitter.com\" rel=\"nofollow\">Twitter Web '\n",
      "                     'Client</a>',\n",
      "           'text': 'As we keep everyone affected by Hurricane Harvey in our '\n",
      "                   'thoughts, here’s how you can help:\\n'\n",
      "                   'https://t.co/RVReG1lRAd',\n",
      "           'truncated': False,\n",
      "           'user': {'contributors_enabled': False,\n",
      "                    'created_at': 'Tue Apr 09 18:04:35 +0000 2013',\n",
      "                    'default_profile': False,\n",
      "                    'default_profile_image': False,\n",
      "                    'description': 'Wife, mom, grandma, women+kids advocate, '\n",
      "                                   'FLOTUS, Senator, SecState, hair icon, '\n",
      "                                   'pantsuit aficionado, 2016 presidential '\n",
      "                                   'candidate.',\n",
      "                    'entities': {'description': {'urls': []},\n",
      "                                 'url': {'urls': [{'display_url': 'HillaryClinton.com',\n",
      "                                                   'expanded_url': 'http://HillaryClinton.com',\n",
      "                                                   'indices': [0, 23],\n",
      "                                                   'url': 'https://t.co/xhPHAcdCwE'}]}},\n",
      "                    'favourites_count': 1168,\n",
      "                    'follow_request_sent': False,\n",
      "                    'followers_count': 17757256,\n",
      "                    'following': False,\n",
      "                    'friends_count': 761,\n",
      "                    'geo_enabled': True,\n",
      "                    'has_extended_profile': True,\n",
      "                    'id': 1339835893,\n",
      "                    'id_str': '1339835893',\n",
      "                    'is_translation_enabled': False,\n",
      "                    'is_translator': False,\n",
      "                    'lang': 'en',\n",
      "                    'listed_count': 38077,\n",
      "                    'location': 'New York, NY',\n",
      "                    'name': 'Hillary Clinton',\n",
      "                    'notifications': False,\n",
      "                    'profile_background_color': '0057B8',\n",
      "                    'profile_background_image_url': 'http://abs.twimg.com/images/themes/theme1/bg.png',\n",
      "                    'profile_background_image_url_https': 'https://abs.twimg.com/images/themes/theme1/bg.png',\n",
      "                    'profile_background_tile': False,\n",
      "                    'profile_banner_url': 'https://pbs.twimg.com/profile_banners/1339835893/1476893928',\n",
      "                    'profile_image_url': 'http://pbs.twimg.com/profile_images/839938827837976576/leN1zJJx_normal.jpg',\n",
      "                    'profile_image_url_https': 'https://pbs.twimg.com/profile_images/839938827837976576/leN1zJJx_normal.jpg',\n",
      "                    'profile_link_color': '0057B8',\n",
      "                    'profile_sidebar_border_color': '000000',\n",
      "                    'profile_sidebar_fill_color': '000000',\n",
      "                    'profile_text_color': '000000',\n",
      "                    'profile_use_background_image': False,\n",
      "                    'protected': False,\n",
      "                    'screen_name': 'HillaryClinton',\n",
      "                    'statuses_count': 9903,\n",
      "                    'time_zone': 'Eastern Time (US & Canada)',\n",
      "                    'translator_type': 'none',\n",
      "                    'url': 'https://t.co/xhPHAcdCwE',\n",
      "                    'utc_offset': -14400,\n",
      "                    'verified': True}},\n",
      " 'author': User(_json={'id': 1339835893, 'id_str': '1339835893', 'name': 'Hillary Clinton', 'screen_name': 'HillaryClinton', 'location': 'New York, NY', 'description': 'Wife, mom, grandma, women+kids advocate, FLOTUS, Senator, SecState, hair icon, pantsuit aficionado, 2016 presidential candidate.', 'url': 'https://t.co/xhPHAcdCwE', 'entities': {'url': {'urls': [{'url': 'https://t.co/xhPHAcdCwE', 'expanded_url': 'http://HillaryClinton.com', 'display_url': 'HillaryClinton.com', 'indices': [0, 23]}]}, 'description': {'urls': []}}, 'protected': False, 'followers_count': 17757256, 'friends_count': 761, 'listed_count': 38077, 'created_at': 'Tue Apr 09 18:04:35 +0000 2013', 'favourites_count': 1168, 'utc_offset': -14400, 'time_zone': 'Eastern Time (US & Canada)', 'geo_enabled': True, 'verified': True, 'statuses_count': 9903, 'lang': 'en', 'contributors_enabled': False, 'is_translator': False, 'is_translation_enabled': False, 'profile_background_color': '0057B8', 'profile_background_image_url': 'http://abs.twimg.com/images/themes/theme1/bg.png', 'profile_background_image_url_https': 'https://abs.twimg.com/images/themes/theme1/bg.png', 'profile_background_tile': False, 'profile_image_url': 'http://pbs.twimg.com/profile_images/839938827837976576/leN1zJJx_normal.jpg', 'profile_image_url_https': 'https://pbs.twimg.com/profile_images/839938827837976576/leN1zJJx_normal.jpg', 'profile_banner_url': 'https://pbs.twimg.com/profile_banners/1339835893/1476893928', 'profile_link_color': '0057B8', 'profile_sidebar_border_color': '000000', 'profile_sidebar_fill_color': '000000', 'profile_text_color': '000000', 'profile_use_background_image': False, 'has_extended_profile': True, 'default_profile': False, 'default_profile_image': False, 'following': False, 'follow_request_sent': False, 'notifications': False, 'translator_type': 'none'}, id=1339835893, id_str='1339835893', name='Hillary Clinton', screen_name='HillaryClinton', location='New York, NY', description='Wife, mom, grandma, women+kids advocate, FLOTUS, Senator, SecState, hair icon, pantsuit aficionado, 2016 presidential candidate.', url='https://t.co/xhPHAcdCwE', entities={'url': {'urls': [{'url': 'https://t.co/xhPHAcdCwE', 'expanded_url': 'http://HillaryClinton.com', 'display_url': 'HillaryClinton.com', 'indices': [0, 23]}]}, 'description': {'urls': []}}, protected=False, followers_count=17757256, friends_count=761, listed_count=38077, created_at=datetime.datetime(2013, 4, 9, 18, 4, 35), favourites_count=1168, utc_offset=-14400, time_zone='Eastern Time (US & Canada)', geo_enabled=True, verified=True, statuses_count=9903, lang='en', contributors_enabled=False, is_translator=False, is_translation_enabled=False, profile_background_color='0057B8', profile_background_image_url='http://abs.twimg.com/images/themes/theme1/bg.png', profile_background_image_url_https='https://abs.twimg.com/images/themes/theme1/bg.png', profile_background_tile=False, profile_image_url='http://pbs.twimg.com/profile_images/839938827837976576/leN1zJJx_normal.jpg', profile_image_url_https='https://pbs.twimg.com/profile_images/839938827837976576/leN1zJJx_normal.jpg', profile_banner_url='https://pbs.twimg.com/profile_banners/1339835893/1476893928', profile_link_color='0057B8', profile_sidebar_border_color='000000', profile_sidebar_fill_color='000000', profile_text_color='000000', profile_use_background_image=False, has_extended_profile=True, default_profile=False, default_profile_image=False, following=False, follow_request_sent=False, notifications=False, translator_type='none'),\n",
      " 'contributors': None,\n",
      " 'coordinates': None,\n",
      " 'created_at': datetime.datetime(2017, 8, 27, 13, 55, 40),\n",
      " 'entities': {'hashtags': [],\n",
      "              'symbols': [],\n",
      "              'urls': [{'display_url': 'm.huffpost.com/us/entry/us_59…',\n",
      "                        'expanded_url': 'http://m.huffpost.com/us/entry/us_59a166dde4b0821444c37515',\n",
      "                        'indices': [91, 114],\n",
      "                        'url': 'https://t.co/RVReG1lRAd'}],\n",
      "              'user_mentions': []},\n",
      " 'favorite_count': 62589,\n",
      " 'favorited': False,\n",
      " 'geo': None,\n",
      " 'id': 901805416887275520,\n",
      " 'id_str': '901805416887275520',\n",
      " 'in_reply_to_screen_name': None,\n",
      " 'in_reply_to_status_id': None,\n",
      " 'in_reply_to_status_id_str': None,\n",
      " 'in_reply_to_user_id': None,\n",
      " 'in_reply_to_user_id_str': None,\n",
      " 'is_quote_status': False,\n",
      " 'lang': 'en',\n",
      " 'place': None,\n",
      " 'possibly_sensitive': False,\n",
      " 'retweet_count': 25707,\n",
      " 'retweeted': False,\n",
      " 'source': 'Twitter Web Client',\n",
      " 'source_url': 'http://twitter.com',\n",
      " 'text': 'As we keep everyone affected by Hurricane Harvey in our thoughts, '\n",
      "         'here’s how you can help:\\n'\n",
      "         'https://t.co/RVReG1lRAd',\n",
      " 'truncated': False,\n",
      " 'user': User(_json={'id': 1339835893, 'id_str': '1339835893', 'name': 'Hillary Clinton', 'screen_name': 'HillaryClinton', 'location': 'New York, NY', 'description': 'Wife, mom, grandma, women+kids advocate, FLOTUS, Senator, SecState, hair icon, pantsuit aficionado, 2016 presidential candidate.', 'url': 'https://t.co/xhPHAcdCwE', 'entities': {'url': {'urls': [{'url': 'https://t.co/xhPHAcdCwE', 'expanded_url': 'http://HillaryClinton.com', 'display_url': 'HillaryClinton.com', 'indices': [0, 23]}]}, 'description': {'urls': []}}, 'protected': False, 'followers_count': 17757256, 'friends_count': 761, 'listed_count': 38077, 'created_at': 'Tue Apr 09 18:04:35 +0000 2013', 'favourites_count': 1168, 'utc_offset': -14400, 'time_zone': 'Eastern Time (US & Canada)', 'geo_enabled': True, 'verified': True, 'statuses_count': 9903, 'lang': 'en', 'contributors_enabled': False, 'is_translator': False, 'is_translation_enabled': False, 'profile_background_color': '0057B8', 'profile_background_image_url': 'http://abs.twimg.com/images/themes/theme1/bg.png', 'profile_background_image_url_https': 'https://abs.twimg.com/images/themes/theme1/bg.png', 'profile_background_tile': False, 'profile_image_url': 'http://pbs.twimg.com/profile_images/839938827837976576/leN1zJJx_normal.jpg', 'profile_image_url_https': 'https://pbs.twimg.com/profile_images/839938827837976576/leN1zJJx_normal.jpg', 'profile_banner_url': 'https://pbs.twimg.com/profile_banners/1339835893/1476893928', 'profile_link_color': '0057B8', 'profile_sidebar_border_color': '000000', 'profile_sidebar_fill_color': '000000', 'profile_text_color': '000000', 'profile_use_background_image': False, 'has_extended_profile': True, 'default_profile': False, 'default_profile_image': False, 'following': False, 'follow_request_sent': False, 'notifications': False, 'translator_type': 'none'}, id=1339835893, id_str='1339835893', name='Hillary Clinton', screen_name='HillaryClinton', location='New York, NY', description='Wife, mom, grandma, women+kids advocate, FLOTUS, Senator, SecState, hair icon, pantsuit aficionado, 2016 presidential candidate.', url='https://t.co/xhPHAcdCwE', entities={'url': {'urls': [{'url': 'https://t.co/xhPHAcdCwE', 'expanded_url': 'http://HillaryClinton.com', 'display_url': 'HillaryClinton.com', 'indices': [0, 23]}]}, 'description': {'urls': []}}, protected=False, followers_count=17757256, friends_count=761, listed_count=38077, created_at=datetime.datetime(2013, 4, 9, 18, 4, 35), favourites_count=1168, utc_offset=-14400, time_zone='Eastern Time (US & Canada)', geo_enabled=True, verified=True, statuses_count=9903, lang='en', contributors_enabled=False, is_translator=False, is_translation_enabled=False, profile_background_color='0057B8', profile_background_image_url='http://abs.twimg.com/images/themes/theme1/bg.png', profile_background_image_url_https='https://abs.twimg.com/images/themes/theme1/bg.png', profile_background_tile=False, profile_image_url='http://pbs.twimg.com/profile_images/839938827837976576/leN1zJJx_normal.jpg', profile_image_url_https='https://pbs.twimg.com/profile_images/839938827837976576/leN1zJJx_normal.jpg', profile_banner_url='https://pbs.twimg.com/profile_banners/1339835893/1476893928', profile_link_color='0057B8', profile_sidebar_border_color='000000', profile_sidebar_fill_color='000000', profile_text_color='000000', profile_use_background_image=False, has_extended_profile=True, default_profile=False, default_profile_image=False, following=False, follow_request_sent=False, notifications=False, translator_type='none')}\n"
     ]
    }
   ],
   "source": [
    "# If everything is working properly, this should print out\n",
    "# a Status object (a single tweet).  clinton_tweets should\n",
    "# contain around 3000 tweets.\n",
    "def read_tweet(status_object):\n",
    "    import pprint\n",
    "    pprint.pprint(vars(status_object))\n",
    "\n",
    "read_tweet(clinton_tweets[0])"
   ]
  },
  {
   "cell_type": "code",
   "execution_count": 382,
   "metadata": {},
   "outputs": [
    {
     "name": "stdout",
     "output_type": "stream",
     "text": [
      "=====================================================================\n",
      "Assignment: Homework 2\n",
      "OK, version v1.12.10\n",
      "=====================================================================\n",
      "\n",
      "~~~~~~~~~~~~~~~~~~~~~~~~~~~~~~~~~~~~~~~~~~~~~~~~~~~~~~~~~~~~~~~~~~~~~\n",
      "Running tests\n",
      "\n",
      "---------------------------------------------------------------------\n",
      "Test summary\n",
      "    Passed: 2\n",
      "    Failed: 0\n",
      "[ooooooooook] 100.0% passed\n",
      "\n"
     ]
    }
   ],
   "source": [
    "from client.api.notebook import Notebook\n",
    "ok = Notebook('hw2.ok')\n",
    "_ = ok.grade('q02')"
   ]
  },
  {
   "cell_type": "markdown",
   "metadata": {},
   "source": [
    "### Exploring the dataset\n",
    "Twitter gives us a lot of information about each tweet, not just its text.  You can read the full documentation [here](https://dev.twitter.com/overview/api/tweets).  Look at one tweet to get a sense of the information we have available."
   ]
  },
  {
   "cell_type": "markdown",
   "metadata": {},
   "source": [
    "#### Question 3\n",
    "Which fields contain:\n",
    "1. the actual text of a tweet,\n",
    "2. the time when the tweet was posted, and\n",
    "3. the source (device and app) from which the tweet was posted?\n",
    "\n",
    "To answer the question, write functions that extract each field from a tweet.  (Each one should take a single Status object as its argument.)"
   ]
  },
  {
   "cell_type": "code",
   "execution_count": 383,
   "metadata": {
    "collapsed": true
   },
   "outputs": [],
   "source": [
    "def extract_text(status_object):\n",
    "    return vars(status_object)['text']\n",
    "\n",
    "def extract_time(status_object):\n",
    "    return vars(status_object)['created_at']\n",
    "\n",
    "def extract_source(status_object):\n",
    "    return vars(status_object)['source']"
   ]
  },
  {
   "cell_type": "code",
   "execution_count": 384,
   "metadata": {},
   "outputs": [
    {
     "name": "stdout",
     "output_type": "stream",
     "text": [
      "~~~~~~~~~~~~~~~~~~~~~~~~~~~~~~~~~~~~~~~~~~~~~~~~~~~~~~~~~~~~~~~~~~~~~\n",
      "Running tests\n",
      "\n",
      "---------------------------------------------------------------------\n",
      "Test summary\n",
      "    Passed: 1\n",
      "    Failed: 0\n",
      "[ooooooooook] 100.0% passed\n",
      "\n"
     ]
    }
   ],
   "source": [
    "_ = ok.grade('q03')"
   ]
  },
  {
   "cell_type": "markdown",
   "metadata": {},
   "source": [
    "#### Question 4\n",
    "Are there any other fields you think might be useful in identifying the true author of an @HillaryClinton tweet?  (If you're reading the documentation, consider whether fields are actually present often enough in the data to be useful.)"
   ]
  },
  {
   "cell_type": "markdown",
   "metadata": {},
   "source": [
    "- `language`, obviously if the user tweets in a different language she/he often uses, she/he might use a translator or ask someone to tweet.\n",
    "- `in_reply_to_screen_name`/`in_reply_to_status_id`/`in_reply_to_user_id`, to whom and what does the author reply may indicate if the author is true. Fake author may reply to more 'formal' tweets and use words more formally, real author may reply to 'personal' tweets and use words more personally."
   ]
  },
  {
   "cell_type": "markdown",
   "metadata": {},
   "source": [
    "## Building a Pandas table\n",
    "JSON (and the Status object, which is just Tweepy's translation of the JSON produced by the Twitter API to a Python object) is nice for transmitting data, but it's not ideal for analysis.  The data will be easier to work with if we put them in a table.\n",
    "\n",
    "To create an empty table in Pandas, write:"
   ]
  },
  {
   "cell_type": "code",
   "execution_count": 385,
   "metadata": {
    "collapsed": true
   },
   "outputs": [],
   "source": [
    "import pandas as pd\n",
    "df = pd.DataFrame()"
   ]
  },
  {
   "cell_type": "markdown",
   "metadata": {},
   "source": [
    "(`pd` is the standard abbrevation for Pandas.)\n",
    "\n",
    "Now let's make a table with useful information in it.  To add a column to a DataFrame called `df`, write:\n",
    "    \n",
    "    df['column_name'] = some_list_or_array\n",
    "\n",
    "([This page](http://pandas.pydata.org/pandas-docs/stable/10min.html) is a useful reference for many of the basic operations in Pandas.  You don't need to read it now, but it might be helpful if you get stuck.)"
   ]
  },
  {
   "cell_type": "markdown",
   "metadata": {},
   "source": [
    "#### Question 5\n",
    "Write a function called `make_dataframe`.  It should take as its argument a list of tweets like `clinton_tweets` and return a Pandas DataFrame.  The DataFrame should contain columns for all the fields in question 3 and any fields you listed in question 4.  **Use the field names as the names of the corresponding columns.**"
   ]
  },
  {
   "cell_type": "code",
   "execution_count": 386,
   "metadata": {
    "collapsed": true
   },
   "outputs": [],
   "source": [
    "def df_apply(df, i, col_name, f, tweet):\n",
    "        \"\"\"Apply f to col_name entry of the ith row of DataFrame.        \n",
    "        \"\"\"\n",
    "        df.loc[i, col_name] = f(tweet[i])\n",
    "        \n",
    "def make_dataframe(tweets):\n",
    "    \"\"\"Make a DataFrame from a list of tweets, with a few relevant fields.\n",
    "    \n",
    "    Args:\n",
    "        tweets (list): A list of tweets, each one a Status object.\n",
    "    \n",
    "    Returns:\n",
    "        DataFrame: A Pandas DataFrame containing one row for each element\n",
    "          of tweets and one column for each relevant field.\"\"\"\n",
    "    \n",
    "    df = pd.DataFrame(index = range(len(clinton_tweets)), columns=['created_at', 'source', 'text'])    \n",
    "    for i in range(len(clinton_tweets)):\n",
    "        df_apply(df, i, 'source', extract_source, clinton_tweets)\n",
    "        df_apply(df, i, 'created_at', extract_time, clinton_tweets)\n",
    "        df_apply(df, i, 'text', extract_text, clinton_tweets)\n",
    "    return df"
   ]
  },
  {
   "cell_type": "code",
   "execution_count": 387,
   "metadata": {
    "collapsed": true
   },
   "outputs": [],
   "source": [
    "clinton_df = make_dataframe(clinton_tweets)"
   ]
  },
  {
   "cell_type": "code",
   "execution_count": 388,
   "metadata": {},
   "outputs": [
    {
     "data": {
      "text/html": [
       "<div>\n",
       "<style>\n",
       "    .dataframe thead tr:only-child th {\n",
       "        text-align: right;\n",
       "    }\n",
       "\n",
       "    .dataframe thead th {\n",
       "        text-align: left;\n",
       "    }\n",
       "\n",
       "    .dataframe tbody tr th {\n",
       "        vertical-align: top;\n",
       "    }\n",
       "</style>\n",
       "<table border=\"1\" class=\"dataframe\">\n",
       "  <thead>\n",
       "    <tr style=\"text-align: right;\">\n",
       "      <th></th>\n",
       "      <th>created_at</th>\n",
       "      <th>source</th>\n",
       "      <th>text</th>\n",
       "    </tr>\n",
       "  </thead>\n",
       "  <tbody>\n",
       "    <tr>\n",
       "      <th>0</th>\n",
       "      <td>2017-08-27 13:55:40</td>\n",
       "      <td>Twitter Web Client</td>\n",
       "      <td>As we keep everyone affected by Hurricane Harvey in our thoughts, here’s how you can help:\\nhttp...</td>\n",
       "    </tr>\n",
       "    <tr>\n",
       "      <th>1</th>\n",
       "      <td>2017-08-24 15:08:28</td>\n",
       "      <td>Twitter for iPhone</td>\n",
       "      <td>Correct. https://t.co/AcOXbigpzi</td>\n",
       "    </tr>\n",
       "    <tr>\n",
       "      <th>2</th>\n",
       "      <td>2017-08-23 14:44:22</td>\n",
       "      <td>Twitter for iPhone</td>\n",
       "      <td>RT @SimonBooks: “Writing ‘What Happened’ was hard, so is what we see every day. I hope this help...</td>\n",
       "    </tr>\n",
       "    <tr>\n",
       "      <th>3</th>\n",
       "      <td>2017-08-21 11:42:15</td>\n",
       "      <td>Twitter for iPhone</td>\n",
       "      <td>Thinking of those who put their lives on the line to defend America. Let's keep these missing sa...</td>\n",
       "    </tr>\n",
       "    <tr>\n",
       "      <th>4</th>\n",
       "      <td>2017-08-17 21:41:17</td>\n",
       "      <td>Twitter for iPhone</td>\n",
       "      <td>Barcelona, you have our resolve and support in the face of this cowardly attack. We stand togeth...</td>\n",
       "    </tr>\n",
       "  </tbody>\n",
       "</table>\n",
       "</div>"
      ],
      "text/plain": [
       "            created_at              source  \\\n",
       "0  2017-08-27 13:55:40  Twitter Web Client   \n",
       "1  2017-08-24 15:08:28  Twitter for iPhone   \n",
       "2  2017-08-23 14:44:22  Twitter for iPhone   \n",
       "3  2017-08-21 11:42:15  Twitter for iPhone   \n",
       "4  2017-08-17 21:41:17  Twitter for iPhone   \n",
       "\n",
       "                                                                                                  text  \n",
       "0  As we keep everyone affected by Hurricane Harvey in our thoughts, here’s how you can help:\\nhttp...  \n",
       "1                                                                     Correct. https://t.co/AcOXbigpzi  \n",
       "2  RT @SimonBooks: “Writing ‘What Happened’ was hard, so is what we see every day. I hope this help...  \n",
       "3  Thinking of those who put their lives on the line to defend America. Let's keep these missing sa...  \n",
       "4  Barcelona, you have our resolve and support in the face of this cowardly attack. We stand togeth...  "
      ]
     },
     "execution_count": 388,
     "metadata": {},
     "output_type": "execute_result"
    }
   ],
   "source": [
    "# The next line causes Pandas to display all the characters\n",
    "# from each tweet when the table is printed, for more\n",
    "# convenient reading.  Comment it out if you don't want it.\n",
    "pd.set_option('display.max_colwidth', 100)\n",
    "clinton_df.head()"
   ]
  },
  {
   "cell_type": "code",
   "execution_count": 389,
   "metadata": {},
   "outputs": [
    {
     "name": "stdout",
     "output_type": "stream",
     "text": [
      "~~~~~~~~~~~~~~~~~~~~~~~~~~~~~~~~~~~~~~~~~~~~~~~~~~~~~~~~~~~~~~~~~~~~~\n",
      "Running tests\n",
      "\n",
      "---------------------------------------------------------------------\n",
      "Test summary\n",
      "    Passed: 1\n",
      "    Failed: 0\n",
      "[ooooooooook] 100.0% passed\n",
      "\n"
     ]
    }
   ],
   "source": [
    "_ = ok.grade('q05')"
   ]
  },
  {
   "cell_type": "markdown",
   "metadata": {},
   "source": [
    "## Tweetsourcing\n",
    "Now that the preliminaries are done, we can do what we set out to do: Try to distinguish between Clinton's own tweets and her aides'."
   ]
  },
  {
   "cell_type": "markdown",
   "metadata": {},
   "source": [
    "#### Question 6\n",
    "Create a plot showing how many tweets came from each kind of source.  For a real challenge, try using the Pandas documentation and Google to figure out how to do this.  Otherwise, hints are provided.\n",
    "\n",
    "*Hint:* Start by grouping the data by source.  `df['source'].value_counts()` will create an object called a Series (which is like a table that contains exactly 2 columns, where one column is called the *index*).  You can create a version of that Series that's sorted by source (in this case, in alphabetical order) by calling `sort_index()` on it.\n",
    "\n",
    "*Hint 2:* To generate a bar plot from a Series `s`, call `s.plot.barh()`.  You can also use `matplotlib`'s [`plt.barh`](http://matplotlib.org/api/pyplot_api.html#matplotlib.pyplot.barh), but it's a little bit complicated to use."
   ]
  },
  {
   "cell_type": "code",
   "execution_count": 390,
   "metadata": {},
   "outputs": [
    {
     "data": {
      "text/plain": [
       "<matplotlib.axes._subplots.AxesSubplot at 0x121457978>"
      ]
     },
     "execution_count": 390,
     "metadata": {},
     "output_type": "execute_result"
    },
    {
     "data": {
      "image/png": "[encoded data removed]",
      "text/plain": [
       "<matplotlib.figure.Figure at 0x113a107f0>"
      ]
     },
     "metadata": {},
     "output_type": "display_data"
    }
   ],
   "source": [
    "source_counts = clinton_df['source'].value_counts()\n",
    "sns.set_style(\"whitegrid\")\n",
    "sns.set_palette(\"deep\")\n",
    "source_counts.plot.barh()"
   ]
  },
  {
   "cell_type": "markdown",
   "metadata": {},
   "source": [
    "You should find that most tweets come from [TweetDeck](https://tweetdeck.twitter.com)."
   ]
  },
  {
   "cell_type": "markdown",
   "metadata": {},
   "source": [
    "#### Question 7\n",
    "Filter `clinton_df` to examine some tweets from TweetDeck and a few from the next-most-used platform.  From examining only a few tweets (say 10 from each category), can you tell whether Clinton's personal tweets are limited to one platform?\n",
    "\n",
    "*Hint:* If `df` is a DataFrame and `filter_array` is an array of booleans of the same length, then `df[filter_array]` is a new DataFrame containing only the rows in `df` corresponding to `True` values in `filter_array`."
   ]
  },
  {
   "cell_type": "code",
   "execution_count": 391,
   "metadata": {
    "for_assignment_type": "student"
   },
   "outputs": [
    {
     "data": {
      "text/html": [
       "<div>\n",
       "<style>\n",
       "    .dataframe thead tr:only-child th {\n",
       "        text-align: right;\n",
       "    }\n",
       "\n",
       "    .dataframe thead th {\n",
       "        text-align: left;\n",
       "    }\n",
       "\n",
       "    .dataframe tbody tr th {\n",
       "        vertical-align: top;\n",
       "    }\n",
       "</style>\n",
       "<table border=\"1\" class=\"dataframe\">\n",
       "  <thead>\n",
       "    <tr style=\"text-align: right;\">\n",
       "      <th></th>\n",
       "      <th>created_at</th>\n",
       "      <th>source</th>\n",
       "      <th>text</th>\n",
       "    </tr>\n",
       "  </thead>\n",
       "  <tbody>\n",
       "    <tr>\n",
       "      <th>121</th>\n",
       "      <td>2016-11-09 18:55:10</td>\n",
       "      <td>TweetDeck</td>\n",
       "      <td>Scripture tells us: Let us not grow weary in doing good, for in due season, we shall reap, if we...</td>\n",
       "    </tr>\n",
       "    <tr>\n",
       "      <th>122</th>\n",
       "      <td>2016-11-09 16:53:19</td>\n",
       "      <td>TweetDeck</td>\n",
       "      <td>“Let us have faith in each other. Let us not grow weary. Let us not lose heart. For there are mo...</td>\n",
       "    </tr>\n",
       "    <tr>\n",
       "      <th>123</th>\n",
       "      <td>2016-11-09 16:53:02</td>\n",
       "      <td>TweetDeck</td>\n",
       "      <td>“We are stronger together and will go forward together. And you should never, ever regret fighti...</td>\n",
       "    </tr>\n",
       "    <tr>\n",
       "      <th>124</th>\n",
       "      <td>2016-11-09 16:52:19</td>\n",
       "      <td>TweetDeck</td>\n",
       "      <td>“I am grateful to our country for all it has given me. I count my blessings every day that I am ...</td>\n",
       "    </tr>\n",
       "    <tr>\n",
       "      <th>125</th>\n",
       "      <td>2016-11-09 16:51:59</td>\n",
       "      <td>TweetDeck</td>\n",
       "      <td>\"To all the little girls watching...never doubt that you are valuable and powerful &amp;amp; deservi...</td>\n",
       "    </tr>\n",
       "  </tbody>\n",
       "</table>\n",
       "</div>"
      ],
      "text/plain": [
       "              created_at     source  \\\n",
       "121  2016-11-09 18:55:10  TweetDeck   \n",
       "122  2016-11-09 16:53:19  TweetDeck   \n",
       "123  2016-11-09 16:53:02  TweetDeck   \n",
       "124  2016-11-09 16:52:19  TweetDeck   \n",
       "125  2016-11-09 16:51:59  TweetDeck   \n",
       "\n",
       "                                                                                                    text  \n",
       "121  Scripture tells us: Let us not grow weary in doing good, for in due season, we shall reap, if we...  \n",
       "122  “Let us have faith in each other. Let us not grow weary. Let us not lose heart. For there are mo...  \n",
       "123  “We are stronger together and will go forward together. And you should never, ever regret fighti...  \n",
       "124  “I am grateful to our country for all it has given me. I count my blessings every day that I am ...  \n",
       "125  \"To all the little girls watching...never doubt that you are valuable and powerful &amp; deservi...  "
      ]
     },
     "execution_count": 391,
     "metadata": {},
     "output_type": "execute_result"
    }
   ],
   "source": [
    "clinton_deck = clinton_df[clinton_df['source'] == 'TweetDeck']\n",
    "clinton_deck.head()"
   ]
  },
  {
   "cell_type": "code",
   "execution_count": 392,
   "metadata": {},
   "outputs": [
    {
     "data": {
      "text/html": [
       "<div>\n",
       "<style>\n",
       "    .dataframe thead tr:only-child th {\n",
       "        text-align: right;\n",
       "    }\n",
       "\n",
       "    .dataframe thead th {\n",
       "        text-align: left;\n",
       "    }\n",
       "\n",
       "    .dataframe tbody tr th {\n",
       "        vertical-align: top;\n",
       "    }\n",
       "</style>\n",
       "<table border=\"1\" class=\"dataframe\">\n",
       "  <thead>\n",
       "    <tr style=\"text-align: right;\">\n",
       "      <th></th>\n",
       "      <th>created_at</th>\n",
       "      <th>source</th>\n",
       "      <th>text</th>\n",
       "    </tr>\n",
       "  </thead>\n",
       "  <tbody>\n",
       "    <tr>\n",
       "      <th>0</th>\n",
       "      <td>2017-08-27 13:55:40</td>\n",
       "      <td>Twitter Web Client</td>\n",
       "      <td>As we keep everyone affected by Hurricane Harvey in our thoughts, here’s how you can help:\\nhttp...</td>\n",
       "    </tr>\n",
       "    <tr>\n",
       "      <th>1</th>\n",
       "      <td>2017-08-24 15:08:28</td>\n",
       "      <td>Twitter for iPhone</td>\n",
       "      <td>Correct. https://t.co/AcOXbigpzi</td>\n",
       "    </tr>\n",
       "    <tr>\n",
       "      <th>2</th>\n",
       "      <td>2017-08-23 14:44:22</td>\n",
       "      <td>Twitter for iPhone</td>\n",
       "      <td>RT @SimonBooks: “Writing ‘What Happened’ was hard, so is what we see every day. I hope this help...</td>\n",
       "    </tr>\n",
       "    <tr>\n",
       "      <th>3</th>\n",
       "      <td>2017-08-21 11:42:15</td>\n",
       "      <td>Twitter for iPhone</td>\n",
       "      <td>Thinking of those who put their lives on the line to defend America. Let's keep these missing sa...</td>\n",
       "    </tr>\n",
       "    <tr>\n",
       "      <th>4</th>\n",
       "      <td>2017-08-17 21:41:17</td>\n",
       "      <td>Twitter for iPhone</td>\n",
       "      <td>Barcelona, you have our resolve and support in the face of this cowardly attack. We stand togeth...</td>\n",
       "    </tr>\n",
       "  </tbody>\n",
       "</table>\n",
       "</div>"
      ],
      "text/plain": [
       "            created_at              source  \\\n",
       "0  2017-08-27 13:55:40  Twitter Web Client   \n",
       "1  2017-08-24 15:08:28  Twitter for iPhone   \n",
       "2  2017-08-23 14:44:22  Twitter for iPhone   \n",
       "3  2017-08-21 11:42:15  Twitter for iPhone   \n",
       "4  2017-08-17 21:41:17  Twitter for iPhone   \n",
       "\n",
       "                                                                                                  text  \n",
       "0  As we keep everyone affected by Hurricane Harvey in our thoughts, here’s how you can help:\\nhttp...  \n",
       "1                                                                     Correct. https://t.co/AcOXbigpzi  \n",
       "2  RT @SimonBooks: “Writing ‘What Happened’ was hard, so is what we see every day. I hope this help...  \n",
       "3  Thinking of those who put their lives on the line to defend America. Let's keep these missing sa...  \n",
       "4  Barcelona, you have our resolve and support in the face of this cowardly attack. We stand togeth...  "
      ]
     },
     "execution_count": 392,
     "metadata": {},
     "output_type": "execute_result"
    }
   ],
   "source": [
    "clinton_client = clinton_df[(clinton_df['source'] == 'Twitter Web Client') | (clinton_df['source'] == 'Twitter for iPhone')]\n",
    "clinton_client.head()"
   ]
  },
  {
   "cell_type": "code",
   "execution_count": 393,
   "metadata": {
    "collapsed": true
   },
   "outputs": [],
   "source": [
    "# Conclusion\n",
    "\n",
    "# According to the data, tweets from Twitter Deck are created \n",
    "# from 2016-07-23 to 2016-11-09, \n",
    "# while tweets from Twitter Web Client or Twitter for iPhone are created\n",
    "# from 2016-07-23 to 2017-08-27. \n",
    "\n",
    "# This might imply that Clinton tweets by her self \n",
    "# using Twitter Web Client or iPhone client throughout her whole twitter period \n",
    "# and her aides tweets for her using Twitter Deck throughout her president compaign period."
   ]
  },
  {
   "cell_type": "markdown",
   "metadata": {},
   "source": [
    "## When in doubt, read...\n",
    "Check Hillary Clinton's [Twitter page](http://twitter.com/HillaryClinton).  It mentions an easy way to identify tweets by the candidate herself.  All other tweets are by her aides."
   ]
  },
  {
   "cell_type": "markdown",
   "metadata": {},
   "source": [
    "#### Question 8\n",
    "Write a function called `is_clinton` that takes a tweet (in JSON) as its argument and returns `True` for personal tweets by Clinton and `False` for tweets by her aides.  Use your function to create a column called `is_personal` in `clinton_df`.\n",
    "\n",
    "*Hint:* You might find the string method `endswith` helpful."
   ]
  },
  {
   "cell_type": "code",
   "execution_count": 394,
   "metadata": {
    "collapsed": true
   },
   "outputs": [],
   "source": [
    "def is_clinton(tweet):\n",
    "    \"\"\"Distinguishes between tweets by Clinton and tweets by her aides.\n",
    "    \n",
    "    Args:\n",
    "        tweet (Status): One tweet.\n",
    "    \n",
    "    Returns:\n",
    "        bool: True if the tweet is written by Clinton herself.\"\"\"\n",
    "    return extract_text(tweet).endswith(\"-H\")\n",
    "\n",
    "for i in range(len(clinton_tweets)):\n",
    "    df_apply(clinton_df, i, 'is_personal', is_clinton, clinton_tweets)"
   ]
  },
  {
   "cell_type": "markdown",
   "metadata": {},
   "source": [
    "Now we have identified Clinton's personal tweets.  Let us return to our analysis of sources and see if there was any pattern we could have found.\n",
    "\n",
    "You may recall that Tables from Data 8 have a method called `pivot`, which is useful for cross-classifying a dataset on two categorical attrbiutes.  DataFrames support a more complicated version of pivoting.  The cell below pivots `clinton_df` for you."
   ]
  },
  {
   "cell_type": "code",
   "execution_count": 396,
   "metadata": {},
   "outputs": [
    {
     "data": {
      "text/html": [
       "<div>\n",
       "<style>\n",
       "    .dataframe thead tr:only-child th {\n",
       "        text-align: right;\n",
       "    }\n",
       "\n",
       "    .dataframe thead th {\n",
       "        text-align: left;\n",
       "    }\n",
       "\n",
       "    .dataframe tbody tr th {\n",
       "        vertical-align: top;\n",
       "    }\n",
       "</style>\n",
       "<table border=\"1\" class=\"dataframe\">\n",
       "  <thead>\n",
       "    <tr style=\"text-align: right;\">\n",
       "      <th>is_personal</th>\n",
       "      <th>False</th>\n",
       "      <th>True</th>\n",
       "    </tr>\n",
       "    <tr>\n",
       "      <th>source</th>\n",
       "      <th></th>\n",
       "      <th></th>\n",
       "    </tr>\n",
       "  </thead>\n",
       "  <tbody>\n",
       "    <tr>\n",
       "      <th>Media Studio</th>\n",
       "      <td>207</td>\n",
       "      <td>0</td>\n",
       "    </tr>\n",
       "    <tr>\n",
       "      <th>TweetDeck</th>\n",
       "      <td>2330</td>\n",
       "      <td>29</td>\n",
       "    </tr>\n",
       "    <tr>\n",
       "      <th>Twitter Lite</th>\n",
       "      <td>5</td>\n",
       "      <td>0</td>\n",
       "    </tr>\n",
       "    <tr>\n",
       "      <th>Twitter Web Client</th>\n",
       "      <td>462</td>\n",
       "      <td>14</td>\n",
       "    </tr>\n",
       "    <tr>\n",
       "      <th>Twitter for iPhone</th>\n",
       "      <td>167</td>\n",
       "      <td>6</td>\n",
       "    </tr>\n",
       "  </tbody>\n",
       "</table>\n",
       "</div>"
      ],
      "text/plain": [
       "is_personal         False  True\n",
       "source                         \n",
       "Media Studio          207     0\n",
       "TweetDeck            2330    29\n",
       "Twitter Lite            5     0\n",
       "Twitter Web Client    462    14\n",
       "Twitter for iPhone    167     6"
      ]
     },
     "execution_count": 396,
     "metadata": {},
     "output_type": "execute_result"
    }
   ],
   "source": [
    "# This cell is filled in for you; just run it and examine the output.\n",
    "def pivot_count(df, vertical_column, horizontal_column):\n",
    "    \"\"\"Cross-classifies df on two columns.\"\"\"\n",
    "    pivoted = pd.pivot_table(df[[vertical_column, horizontal_column]], index=[vertical_column], columns=[horizontal_column], aggfunc=len, fill_value=0)\n",
    "    return pivoted.rename(columns={False: \"False\", True: \"True\"})\n",
    "\n",
    "clinton_pivoted = pivot_count(clinton_df, 'source', 'is_personal')\n",
    "clinton_pivoted"
   ]
  },
  {
   "cell_type": "markdown",
   "metadata": {},
   "source": [
    "Do Clinton and her aides have different \"signatures\" of tweet sources?  That is, for each tweet they send, does Clinton send tweets from each source with roughly the same frequency as her aides?  It's a little hard to tell from the pivoted table alone."
   ]
  },
  {
   "cell_type": "markdown",
   "metadata": {},
   "source": [
    "#### Question 9\n",
    "Create a visualization to facilitate that comparison.\n",
    "\n",
    "*Hint:* `df.plot.barh` works for DataFrames, too.  But think about what data you want to plot."
   ]
  },
  {
   "cell_type": "code",
   "execution_count": 511,
   "metadata": {},
   "outputs": [
    {
     "data": {
      "text/plain": [
       "<matplotlib.axes._subplots.AxesSubplot at 0x11a393048>"
      ]
     },
     "execution_count": 511,
     "metadata": {},
     "output_type": "execute_result"
    },
    {
     "data": {
      "image/png": "[encoded data removed]",
      "text/plain": [
       "<matplotlib.figure.Figure at 0x119107438>"
      ]
     },
     "metadata": {},
     "output_type": "display_data"
    }
   ],
   "source": [
    "def proportion(col):\n",
    "    return col / col.sum()\n",
    "clinton_pivoted['aides_proportion'] = proportion(clinton_pivoted['False'])\n",
    "clinton_pivoted['clinton_proportion'] = proportion(clinton_pivoted['True'])\n",
    "clinton_pivoted[['aides_proportion', 'clinton_proportion']].plot.barh()"
   ]
  },
  {
   "cell_type": "markdown",
   "metadata": {},
   "source": [
    "You should see that there are some differences, but they aren't large.  Do we need to worry that the differences (or lack thereof) are just \"due to chance\"?\n",
    "\n",
    "Statistician Ani argues as follows:\n",
    "\n",
    "> \"The tweets we see are not a random sample from anything.  We have simply gathered every tweet by @HillaryClinton from the last several months.  It is therefore meaningless to compute, for example, a confidence interval for the rate at which Clinton used TweetDeck.  We have calculated exactly that rate from the data we have.\"\n",
    "\n",
    "Statistician Belinda responds:\n",
    "\n",
    "> \"We are interested in whether Clinton and her aides *behave differently in general* with respect to Twitter client usage in a way that we could use to identify their tweets.  It's plausible to imagine that the tweets we see are a random sample from a huge unobserved population of all the tweets Clinton and her aides *might send*.  We must worry about error due to random chance when we draw conclusions about this population using only the data we have available.\""
   ]
  },
  {
   "cell_type": "markdown",
   "metadata": {},
   "source": [
    "#### Question 10\n",
    "What position would you take on this question?  Choose a side and give one (brief) argument for it, or argue for some third position."
   ]
  },
  {
   "cell_type": "markdown",
   "metadata": {},
   "source": [
    "I agree with Ani that we have gathered all the tweets and needn't worry about the data we collected are random sample. By following Occam's Razor, it is important that we assume as little as possible while we can not testify there are \"tweets Clinton and her aides might send\"."
   ]
  },
  {
   "cell_type": "markdown",
   "metadata": {},
   "source": [
    "#### Question 11\n",
    "Assume you are convinced by Belinda's argument.  Perform a statistical test of the null hypothesis that the Clinton and aide tweets' sources are all independent samples from the same distribution (that is, that the differences we observe are \"due to chance\").  Briefly describe the test methodology and report your results.\n",
    "\n",
    "*Hint:* If you need a refresher, [this section](https://www.inferentialthinking.com/chapters/16/1/two-categorical-distributions.html) of the Data 8 textbook from Fall 2016 covered this kind of hypothesis test.\n",
    "\n",
    "*Hint 2:* Feel free to use `datascience.Table` to answer this question.  However, it will be advantageous to learn how to do it with `numpy` alone.  In our solution, we used some `numpy` functions you might not be aware of: `np.append`, `np.random.permutation`, `np.bincount`, and `np.count_nonzero`.  We have provided the function `expand_counts`, which should help you solve a tricky problem that will arise."
   ]
  },
  {
   "cell_type": "code",
   "execution_count": 399,
   "metadata": {
    "for_assignment_type": "student"
   },
   "outputs": [],
   "source": [
    "def expand_counts(source_counts):\n",
    "    \"\"\"'Blow up' a list/array of counts of categories into an array of\n",
    "    individuals matching the counts.  This is the inverse of np.bincount\n",
    "    (with some technical caveats: only if the order of the individuals\n",
    "    doesn't matter and each category has at least one count).\n",
    "    \n",
    "    For example, we can generate a list of two individuals of type 0,\n",
    "    four of type 1, zero of type 2, and one of type 3 as follows:\n",
    "    \n",
    "    >>> expand_counts([2, 4, 0, 1])\n",
    "    array([0, 0, 1, 1, 1, 1, 3])\"\"\"\n",
    "    return np.repeat(np.arange(len(source_counts)), source_counts)"
   ]
  },
  {
   "cell_type": "code",
   "execution_count": 576,
   "metadata": {},
   "outputs": [
    {
     "data": {
      "text/plain": [
       "0.2098031265486327"
      ]
     },
     "execution_count": 576,
     "metadata": {},
     "output_type": "execute_result"
    },
    {
     "data": {
      "text/plain": [
       "0.081902959859440461"
      ]
     },
     "execution_count": 576,
     "metadata": {},
     "output_type": "execute_result"
    }
   ],
   "source": [
    "def tvd(col1, col2):\n",
    "    return 0.5*(np.sum(np.abs(col1 - col2)))\n",
    "\n",
    "observed_tvd = tvd(clinton_pivoted['aides_proportion'], clinton_pivoted['clinton_proportion'])\n",
    "observed_tvd"
   ]
  },
  {
   "cell_type": "code",
   "execution_count": 626,
   "metadata": {},
   "outputs": [
    {
     "data": {
      "text/plain": [
       "0.0023"
      ]
     },
     "execution_count": 626,
     "metadata": {},
     "output_type": "execute_result"
    }
   ],
   "source": [
    "def shuffle_tvd_process(df, prop_true, prop_false):\n",
    "    shuffled_source = np.random.permutation(df['source'])\n",
    "    shuffled_df_source = pd.DataFrame(shuffled_source, columns=['shuffled_source'])\n",
    "    shuffled_df_source['is_personal'] = df['is_personal']\n",
    "    shuffled_df_pivoted = pivot_count(shuffled_df_source, 'shuffled_source', 'is_personal')\n",
    "    shuffled_df_pivoted[prop_true] = proportion(shuffled_df_pivoted['True'])\n",
    "    shuffled_df_pivoted[prop_false] = proportion(shuffled_df_pivoted['False'])\n",
    "    shuffled_tvd = tvd(shuffled_df_pivoted[prop_true], shuffled_df_pivoted[prop_false])\n",
    "    return shuffled_tvd\n",
    "\n",
    "def p_value(df, prop_true, prop_false, num_trails, observed_tvd):\n",
    "    tvd_array = np.array([])\n",
    "    for _ in range(num_trails):\n",
    "        new_tvd = shuffle_tvd_process(df, prop_true, prop_false)\n",
    "        tvd_array = np.append(tvd_array, new_tvd)\n",
    "    return np.count_nonzero(tvd_array >= observed_tvd)/num_trails\n",
    "    \n",
    "p_value = p_value(clinton_df, 'clinton_proportion', 'aides_proportion', 10000, observed_tvd)\n",
    "p_value"
   ]
  },
  {
   "cell_type": "markdown",
   "metadata": {},
   "source": [
    "**conclusion:** \n",
    "the p-value is quite low, which suggests that we should reject the null hypothesis, the Clinton and aide tweets' sources are not independent samples from the same distribution."
   ]
  },
  {
   "cell_type": "markdown",
   "metadata": {},
   "source": [
    "#### Question 12\n",
    "Suppose you sample a random @HillaryClinton tweet and find that it is from the Twitter Web Client.  Your visualization in question 9 should show you that Clinton tweets from this source about twice as frequently as her aides do, so you might imagine it's reasonable to predict that the tweet is by Clinton.  But what is the probability that the tweet is by Clinton?  (You should find a relatively small number.  Clinton's aides tweet much more than she does.  So even though there is a difference in their tweet source usage, it would be difficult to classify tweets this way.)\n",
    "\n",
    "*Hint:* Bayes' rule is covered in [this section](https://www.inferentialthinking.com/chapters/17/1/more-likely-than-not-binary-classifier.html) of the Data 8 textbook."
   ]
  },
  {
   "cell_type": "code",
   "execution_count": 639,
   "metadata": {},
   "outputs": [
    {
     "data": {
      "text/html": [
       "<div>\n",
       "<style>\n",
       "    .dataframe thead tr:only-child th {\n",
       "        text-align: right;\n",
       "    }\n",
       "\n",
       "    .dataframe thead th {\n",
       "        text-align: left;\n",
       "    }\n",
       "\n",
       "    .dataframe tbody tr th {\n",
       "        vertical-align: top;\n",
       "    }\n",
       "</style>\n",
       "<table border=\"1\" class=\"dataframe\">\n",
       "  <thead>\n",
       "    <tr style=\"text-align: right;\">\n",
       "      <th>is_personal</th>\n",
       "      <th>False</th>\n",
       "      <th>True</th>\n",
       "      <th>aides_proportion</th>\n",
       "      <th>clinton_proportion</th>\n",
       "    </tr>\n",
       "    <tr>\n",
       "      <th>source</th>\n",
       "      <th></th>\n",
       "      <th></th>\n",
       "      <th></th>\n",
       "      <th></th>\n",
       "    </tr>\n",
       "  </thead>\n",
       "  <tbody>\n",
       "    <tr>\n",
       "      <th>Media Studio</th>\n",
       "      <td>207</td>\n",
       "      <td>0</td>\n",
       "      <td>0.065279</td>\n",
       "      <td>0.000000</td>\n",
       "    </tr>\n",
       "    <tr>\n",
       "      <th>TweetDeck</th>\n",
       "      <td>2330</td>\n",
       "      <td>29</td>\n",
       "      <td>0.734784</td>\n",
       "      <td>0.591837</td>\n",
       "    </tr>\n",
       "    <tr>\n",
       "      <th>Twitter Lite</th>\n",
       "      <td>5</td>\n",
       "      <td>0</td>\n",
       "      <td>0.001577</td>\n",
       "      <td>0.000000</td>\n",
       "    </tr>\n",
       "    <tr>\n",
       "      <th>Twitter Web Client</th>\n",
       "      <td>462</td>\n",
       "      <td>14</td>\n",
       "      <td>0.145695</td>\n",
       "      <td>0.285714</td>\n",
       "    </tr>\n",
       "    <tr>\n",
       "      <th>Twitter for iPhone</th>\n",
       "      <td>167</td>\n",
       "      <td>6</td>\n",
       "      <td>0.052665</td>\n",
       "      <td>0.122449</td>\n",
       "    </tr>\n",
       "  </tbody>\n",
       "</table>\n",
       "</div>"
      ],
      "text/plain": [
       "is_personal         False  True  aides_proportion  clinton_proportion\n",
       "source                                                               \n",
       "Media Studio          207     0          0.065279            0.000000\n",
       "TweetDeck            2330    29          0.734784            0.591837\n",
       "Twitter Lite            5     0          0.001577            0.000000\n",
       "Twitter Web Client    462    14          0.145695            0.285714\n",
       "Twitter for iPhone    167     6          0.052665            0.122449"
      ]
     },
     "execution_count": 639,
     "metadata": {},
     "output_type": "execute_result"
    },
    {
     "data": {
      "text/plain": [
       "476.0"
      ]
     },
     "execution_count": 639,
     "metadata": {},
     "output_type": "execute_result"
    }
   ],
   "source": [
    "clinton_pivoted\n",
    "clinton_pivoted.loc['Twitter Web Client', ['True', 'False']].sum()"
   ]
  },
  {
   "cell_type": "code",
   "execution_count": 640,
   "metadata": {},
   "outputs": [
    {
     "data": {
      "text/plain": [
       "0.029411764705882353"
      ]
     },
     "execution_count": 640,
     "metadata": {},
     "output_type": "execute_result"
    }
   ],
   "source": [
    "sum_tweets = clinton_df.index.size\n",
    "probability_clinton_web = clinton_pivoted.loc['Twitter Web Client', 'True'] / sum_tweets\n",
    "sum_web = clinton_pivoted.loc['Twitter Web Client', ['True', 'False']].sum()\n",
    "probability_web = sum_web / sum_tweets\n",
    "probability_clinton = probability_clinton_web / probability_web\n",
    "probability_clinton"
   ]
  },
  {
   "cell_type": "code",
   "execution_count": 641,
   "metadata": {},
   "outputs": [
    {
     "name": "stdout",
     "output_type": "stream",
     "text": [
      "~~~~~~~~~~~~~~~~~~~~~~~~~~~~~~~~~~~~~~~~~~~~~~~~~~~~~~~~~~~~~~~~~~~~~\n",
      "Running tests\n",
      "\n",
      "---------------------------------------------------------------------\n",
      "Test summary\n",
      "    Passed: 1\n",
      "    Failed: 0\n",
      "[ooooooooook] 100.0% passed\n",
      "\n"
     ]
    }
   ],
   "source": [
    "_ = ok.grade('q12')"
   ]
  },
  {
   "cell_type": "markdown",
   "metadata": {},
   "source": [
    "# Another candidate\n",
    "Our results so far aren't Earth-shattering.  Clinton uses different Twitter clients at slightly different rates than her aides.\n",
    "\n",
    "Now that we've categorized the tweets, we could of course investigate their contents.  A manual analysis (also known as \"reading\") might be interesting, but it is beyond the scope of this course.  And we'll have to wait a few more weeks before we can use a computer to help with such an analysis.\n",
    "\n",
    "Instead, let's repeat our analysis for Donald Trump."
   ]
  },
  {
   "cell_type": "markdown",
   "metadata": {},
   "source": [
    "#### Question 13\n",
    "Download the tweet data for Trump (@realDonaldTrump), and repeat the steps through question 6 to create a table called `trump_df`."
   ]
  },
  {
   "cell_type": "code",
   "execution_count": 642,
   "metadata": {
    "collapsed": true
   },
   "outputs": [],
   "source": [
    "trump_tweets = clinton_tweets = get_tweets_with_cache(\"realDonaldTrump\", \"keys.json\")\n",
    "trump_df = make_dataframe(trump_tweets)"
   ]
  },
  {
   "cell_type": "code",
   "execution_count": 643,
   "metadata": {},
   "outputs": [
    {
     "data": {
      "text/html": [
       "<div>\n",
       "<style>\n",
       "    .dataframe thead tr:only-child th {\n",
       "        text-align: right;\n",
       "    }\n",
       "\n",
       "    .dataframe thead th {\n",
       "        text-align: left;\n",
       "    }\n",
       "\n",
       "    .dataframe tbody tr th {\n",
       "        vertical-align: top;\n",
       "    }\n",
       "</style>\n",
       "<table border=\"1\" class=\"dataframe\">\n",
       "  <thead>\n",
       "    <tr style=\"text-align: right;\">\n",
       "      <th></th>\n",
       "      <th>created_at</th>\n",
       "      <th>source</th>\n",
       "      <th>text</th>\n",
       "    </tr>\n",
       "  </thead>\n",
       "  <tbody>\n",
       "    <tr>\n",
       "      <th>0</th>\n",
       "      <td>2017-09-03 05:17:04</td>\n",
       "      <td>Twitter for iPhone</td>\n",
       "      <td>So much SPIRIT in LA! Thank you to all of our HEREOS who saved many lives. An honor to spend tim...</td>\n",
       "    </tr>\n",
       "    <tr>\n",
       "      <th>1</th>\n",
       "      <td>2017-09-03 03:02:31</td>\n",
       "      <td>Twitter for iPhone</td>\n",
       "      <td>Remember, Sunday is National Prayer Day (by Presidential Proclamation)!</td>\n",
       "    </tr>\n",
       "    <tr>\n",
       "      <th>2</th>\n",
       "      <td>2017-09-03 02:57:43</td>\n",
       "      <td>Twitter for iPhone</td>\n",
       "      <td>Just got back to the White House from the Great States of Texas and Louisiana, where things are ...</td>\n",
       "    </tr>\n",
       "    <tr>\n",
       "      <th>3</th>\n",
       "      <td>2017-09-03 02:50:58</td>\n",
       "      <td>Twitter for iPhone</td>\n",
       "      <td>The Manufacturing Index rose to 59%, the highest level since early 2011 - and we can do much bet...</td>\n",
       "    </tr>\n",
       "    <tr>\n",
       "      <th>4</th>\n",
       "      <td>2017-09-03 02:42:36</td>\n",
       "      <td>Twitter for iPhone</td>\n",
       "      <td>RT @Team_Trump45: @realDonaldTrump  https://t.co/o1x6X2qQdM</td>\n",
       "    </tr>\n",
       "  </tbody>\n",
       "</table>\n",
       "</div>"
      ],
      "text/plain": [
       "            created_at              source  \\\n",
       "0  2017-09-03 05:17:04  Twitter for iPhone   \n",
       "1  2017-09-03 03:02:31  Twitter for iPhone   \n",
       "2  2017-09-03 02:57:43  Twitter for iPhone   \n",
       "3  2017-09-03 02:50:58  Twitter for iPhone   \n",
       "4  2017-09-03 02:42:36  Twitter for iPhone   \n",
       "\n",
       "                                                                                                  text  \n",
       "0  So much SPIRIT in LA! Thank you to all of our HEREOS who saved many lives. An honor to spend tim...  \n",
       "1                              Remember, Sunday is National Prayer Day (by Presidential Proclamation)!  \n",
       "2  Just got back to the White House from the Great States of Texas and Louisiana, where things are ...  \n",
       "3  The Manufacturing Index rose to 59%, the highest level since early 2011 - and we can do much bet...  \n",
       "4                                          RT @Team_Trump45: @realDonaldTrump  https://t.co/o1x6X2qQdM  "
      ]
     },
     "execution_count": 643,
     "metadata": {},
     "output_type": "execute_result"
    }
   ],
   "source": [
    "trump_df.head()"
   ]
  },
  {
   "cell_type": "markdown",
   "metadata": {},
   "source": [
    "#### Question 14\n",
    "Make a bar chart of the sources of Trump tweets."
   ]
  },
  {
   "cell_type": "code",
   "execution_count": 645,
   "metadata": {},
   "outputs": [
    {
     "data": {
      "text/plain": [
       "<matplotlib.axes._subplots.AxesSubplot at 0x133fa8b00>"
      ]
     },
     "execution_count": 645,
     "metadata": {},
     "output_type": "execute_result"
    },
    {
     "data": {
      "image/png": "[encoded data removed]",
      "text/plain": [
       "<matplotlib.figure.Figure at 0x133f96d30>"
      ]
     },
     "metadata": {},
     "output_type": "display_data"
    }
   ],
   "source": [
    "trump_source_counts = trump_df['source'].value_counts()\n",
    "trump_source_counts.plot.barh()"
   ]
  },
  {
   "cell_type": "markdown",
   "metadata": {},
   "source": [
    "You should find two major sources of tweets.\n",
    "\n",
    "It is reported (for example, in [this Gawker article](http://gawker.com/our-trump-twitter-bot-filters-out-donald-trumps-new-han-1783906386)) that Trump himself uses an Android phone (a Samsung Galaxy), while his aides use iPhones.  But Trump has not confirmed this.  Also, he has reportedly [switched phones](http://indiatoday.intoday.in/technology/story/which-phone-will-president-donald-trump-use-a-blackberry-that-cant-even-click-pics/1/862350.html) since his inauguration!  How might we verify whether this is a way to identify his tweets?\n",
    "\n",
    "A retweet is a tweet that replies to (or simply repeats) a tweet by another user.  Twitter provides several mechanisms for this, as explained in [this article](https://blog.hubspot.com/blog/tabid/6307/bid/27675/How-to-Retweet-the-Right-Way-in-4-Easy-Steps.aspx#sm.00001bz3cbt3sqe1kyf4eavc4lj9a).  However, Trump has an unusual way of retweeting: He simply adds the original sender's name to the original message, puts everything in quotes, and then adds his own comments at the end.\n",
    "\n",
    "For example, this is a tweet by user @melissa7889:\n",
    "\n",
    "        @realDonaldTrump @JRACKER33 you should run for president!\n",
    "\n",
    "Here is Trump's retweet of this, from 2013:\n",
    "\n",
    "        \"@melissa7889: @realDonaldTrump @JRACKER33 you should run for president!\"  Thanks,very nice!\n",
    "\n",
    "Since 2015, the usual way of retweeting this message, and the method used by Trump's aides (but not Trump himself), would have been:\n",
    "\n",
    "        Thanks,very nice! RT @melissa7889: @realDonaldTrump @JRACKER33 you should run for president!"
   ]
  },
  {
   "cell_type": "markdown",
   "metadata": {},
   "source": [
    "#### Question 15\n",
    "Write a function to identify Trump-style retweets, and another function to identify the aide-style retweets.  Then, use them to create a function called `tweet_type` that takes a tweet as its argument and returns values `\"Trump retweet\"`, `\"Aide retweet\"`, and `\"Not a retweet\"` as appropriate.  Use your function to add a `'tweet_type'` column to `trump_df`.\n",
    "\n",
    "*Hint:* Try the string method `startswith` and the Python keyword `in`."
   ]
  },
  {
   "cell_type": "code",
   "execution_count": 662,
   "metadata": {
    "for_assignment_type": "student"
   },
   "outputs": [],
   "source": [
    "def is_trump_style_retweet(tweet_text):\n",
    "    \"\"\"Returns True if tweet_text looks like a Trump-style retweet.\"\"\"\n",
    "    return tweet_text.startswith('\"') or tweet_text.startswith('“')\n",
    "    \n",
    "def is_aide_style_retweet(tweet_text):\n",
    "    \"\"\"Returns True if tweet_text looks like an aide-style retweet.\"\"\"\n",
    "    return 'RT' in tweet_text\n",
    "\n",
    "def tweet_type(tweet_text):\n",
    "    \"\"\"Returns \"Trump retweet\", \"Aide retweet\", or \"Not a retweet\"\n",
    "    as appropriate.\"\"\"\n",
    "    if is_trump_style_retweet(tweet_text):\n",
    "        return \"Trump retweet\"\n",
    "    elif is_aide_style_retweet(tweet_text):\n",
    "        return \"Aide retweet\"\n",
    "    else:\n",
    "        return \"Not a retweet\"\n",
    "trump_df['tweet_type'] = [tweet_type(trump_df.loc[i, 'text']) for i in trump_df.index]"
   ]
  },
  {
   "cell_type": "code",
   "execution_count": 663,
   "metadata": {},
   "outputs": [
    {
     "data": {
      "text/html": [
       "<div>\n",
       "<style>\n",
       "    .dataframe thead tr:only-child th {\n",
       "        text-align: right;\n",
       "    }\n",
       "\n",
       "    .dataframe thead th {\n",
       "        text-align: left;\n",
       "    }\n",
       "\n",
       "    .dataframe tbody tr th {\n",
       "        vertical-align: top;\n",
       "    }\n",
       "</style>\n",
       "<table border=\"1\" class=\"dataframe\">\n",
       "  <thead>\n",
       "    <tr style=\"text-align: right;\">\n",
       "      <th></th>\n",
       "      <th>created_at</th>\n",
       "      <th>source</th>\n",
       "      <th>text</th>\n",
       "      <th>tweet_type</th>\n",
       "    </tr>\n",
       "  </thead>\n",
       "  <tbody>\n",
       "    <tr>\n",
       "      <th>0</th>\n",
       "      <td>2017-09-03 05:17:04</td>\n",
       "      <td>Twitter for iPhone</td>\n",
       "      <td>So much SPIRIT in LA! Thank you to all of our HEREOS who saved many lives. An honor to spend tim...</td>\n",
       "      <td>Not a retweet</td>\n",
       "    </tr>\n",
       "    <tr>\n",
       "      <th>1</th>\n",
       "      <td>2017-09-03 03:02:31</td>\n",
       "      <td>Twitter for iPhone</td>\n",
       "      <td>Remember, Sunday is National Prayer Day (by Presidential Proclamation)!</td>\n",
       "      <td>Not a retweet</td>\n",
       "    </tr>\n",
       "    <tr>\n",
       "      <th>2</th>\n",
       "      <td>2017-09-03 02:57:43</td>\n",
       "      <td>Twitter for iPhone</td>\n",
       "      <td>Just got back to the White House from the Great States of Texas and Louisiana, where things are ...</td>\n",
       "      <td>Not a retweet</td>\n",
       "    </tr>\n",
       "    <tr>\n",
       "      <th>3</th>\n",
       "      <td>2017-09-03 02:50:58</td>\n",
       "      <td>Twitter for iPhone</td>\n",
       "      <td>The Manufacturing Index rose to 59%, the highest level since early 2011 - and we can do much bet...</td>\n",
       "      <td>Not a retweet</td>\n",
       "    </tr>\n",
       "    <tr>\n",
       "      <th>4</th>\n",
       "      <td>2017-09-03 02:42:36</td>\n",
       "      <td>Twitter for iPhone</td>\n",
       "      <td>RT @Team_Trump45: @realDonaldTrump  https://t.co/o1x6X2qQdM</td>\n",
       "      <td>Aide retweet</td>\n",
       "    </tr>\n",
       "    <tr>\n",
       "      <th>5</th>\n",
       "      <td>2017-09-03 02:41:40</td>\n",
       "      <td>Twitter for iPhone</td>\n",
       "      <td>RT @ColumbiaBugle: @realDonaldTrump @FLOTUS President Trump greeting families affected by Hurric...</td>\n",
       "      <td>Aide retweet</td>\n",
       "    </tr>\n",
       "    <tr>\n",
       "      <th>6</th>\n",
       "      <td>2017-09-03 02:40:24</td>\n",
       "      <td>Twitter for iPhone</td>\n",
       "      <td>RT @ColumbiaBugle: @realDonaldTrump Love our @FLOTUS! https://t.co/6LT9mLAJ86</td>\n",
       "      <td>Aide retweet</td>\n",
       "    </tr>\n",
       "    <tr>\n",
       "      <th>7</th>\n",
       "      <td>2017-09-03 01:55:30</td>\n",
       "      <td>Twitter for iPhone</td>\n",
       "      <td>Together, we will prevail in the GREAT state of Texas. We love you!\\n\\nGOD BLESS TEXAS &amp;amp; GOD...</td>\n",
       "      <td>Not a retweet</td>\n",
       "    </tr>\n",
       "    <tr>\n",
       "      <th>8</th>\n",
       "      <td>2017-09-02 16:56:51</td>\n",
       "      <td>Twitter for iPhone</td>\n",
       "      <td>TEXAS: We are with you today, we are with you tomorrow, and we will be with you EVERY SINGLE DAY...</td>\n",
       "      <td>Not a retweet</td>\n",
       "    </tr>\n",
       "    <tr>\n",
       "      <th>9</th>\n",
       "      <td>2017-09-02 13:58:37</td>\n",
       "      <td>Twitter for iPhone</td>\n",
       "      <td>Departing for Texas and Louisiana with @FLOTUS Melania right now @JBA_NAFW. We will see you soon...</td>\n",
       "      <td>Not a retweet</td>\n",
       "    </tr>\n",
       "    <tr>\n",
       "      <th>10</th>\n",
       "      <td>2017-09-02 00:34:32</td>\n",
       "      <td>Twitter for iPhone</td>\n",
       "      <td>On behalf of @FLOTUS Melania &amp;amp; myself, THANK YOU for today's update &amp;amp; GREAT WORK! #South...</td>\n",
       "      <td>Not a retweet</td>\n",
       "    </tr>\n",
       "    <tr>\n",
       "      <th>11</th>\n",
       "      <td>2017-09-02 00:03:00</td>\n",
       "      <td>Twitter for iPhone</td>\n",
       "      <td>I will be going to Texas and Louisiana tomorrow with First Lady. Great progress being made! Spen...</td>\n",
       "      <td>Not a retweet</td>\n",
       "    </tr>\n",
       "    <tr>\n",
       "      <th>12</th>\n",
       "      <td>2017-09-01 23:47:38</td>\n",
       "      <td>Twitter for iPhone</td>\n",
       "      <td>Stock Market up 5 months in a row!</td>\n",
       "      <td>Not a retweet</td>\n",
       "    </tr>\n",
       "    <tr>\n",
       "      <th>13</th>\n",
       "      <td>2017-09-01 19:47:23</td>\n",
       "      <td>Media Studio</td>\n",
       "      <td>'President Donald J. Trump Proclaims September 3, 2017, as a National Day of Prayer' #HurricaneH...</td>\n",
       "      <td>Not a retweet</td>\n",
       "    </tr>\n",
       "    <tr>\n",
       "      <th>14</th>\n",
       "      <td>2017-09-01 12:58:48</td>\n",
       "      <td>Twitter for iPhone</td>\n",
       "      <td>Texas is healing fast thanks to all of the great men &amp;amp; women who have been working so hard. ...</td>\n",
       "      <td>Not a retweet</td>\n",
       "    </tr>\n",
       "    <tr>\n",
       "      <th>15</th>\n",
       "      <td>2017-09-01 12:47:46</td>\n",
       "      <td>Twitter for iPhone</td>\n",
       "      <td>...get things done at a record clip. Many big decisions to be made over the coming days and week...</td>\n",
       "      <td>Not a retweet</td>\n",
       "    </tr>\n",
       "    <tr>\n",
       "      <th>16</th>\n",
       "      <td>2017-09-01 12:35:27</td>\n",
       "      <td>Twitter for iPhone</td>\n",
       "      <td>General John Kelly is doing a great job as Chief of Staff. I could not be happier or more impres...</td>\n",
       "      <td>Not a retweet</td>\n",
       "    </tr>\n",
       "    <tr>\n",
       "      <th>17</th>\n",
       "      <td>2017-09-01 11:56:45</td>\n",
       "      <td>Twitter for iPhone</td>\n",
       "      <td>Wow, looks like James Comey exonerated Hillary Clinton long before the investigation was over......</td>\n",
       "      <td>Not a retweet</td>\n",
       "    </tr>\n",
       "    <tr>\n",
       "      <th>18</th>\n",
       "      <td>2017-08-31 20:06:35</td>\n",
       "      <td>Twitter for iPhone</td>\n",
       "      <td>THANK YOU to all of the incredible HEROES in Texas. America is with you! #TexasStrong \\nhttps://...</td>\n",
       "      <td>Not a retweet</td>\n",
       "    </tr>\n",
       "    <tr>\n",
       "      <th>19</th>\n",
       "      <td>2017-08-31 12:35:50</td>\n",
       "      <td>Twitter for iPhone</td>\n",
       "      <td>RT @FoxNews: .@KellyannePolls on Harvey recovery: We hope when it comes to basic Hurricane Harve...</td>\n",
       "      <td>Aide retweet</td>\n",
       "    </tr>\n",
       "    <tr>\n",
       "      <th>20</th>\n",
       "      <td>2017-08-31 01:29:31</td>\n",
       "      <td>Twitter for iPhone</td>\n",
       "      <td>RT @SecShulkin: Our Mobile Vet Center set up and ready to help #Veterans impacted by #HurricaneH...</td>\n",
       "      <td>Aide retweet</td>\n",
       "    </tr>\n",
       "    <tr>\n",
       "      <th>21</th>\n",
       "      <td>2017-08-31 01:00:50</td>\n",
       "      <td>Media Studio</td>\n",
       "      <td>First responders have been doing heroic work. Their courage &amp;amp; devotion has saved countless l...</td>\n",
       "      <td>Not a retweet</td>\n",
       "    </tr>\n",
       "    <tr>\n",
       "      <th>22</th>\n",
       "      <td>2017-08-31 00:50:13</td>\n",
       "      <td>Twitter for iPhone</td>\n",
       "      <td>RT @IvankaTrump: We must reform our tax code so that all Americans can succeed in our modern eco...</td>\n",
       "      <td>Aide retweet</td>\n",
       "    </tr>\n",
       "    <tr>\n",
       "      <th>23</th>\n",
       "      <td>2017-08-30 19:38:41</td>\n",
       "      <td>Twitter for iPhone</td>\n",
       "      <td>Texas &amp;amp; Louisiana: We are w/ you today, we are w/ you tomorrow, &amp;amp; we will be w/ you EVER...</td>\n",
       "      <td>Not a retweet</td>\n",
       "    </tr>\n",
       "    <tr>\n",
       "      <th>24</th>\n",
       "      <td>2017-08-30 13:42:20</td>\n",
       "      <td>Twitter for iPhone</td>\n",
       "      <td>Will be leaving for Missouri soon for a speech on tax cuts and tax reform - so badly needed!</td>\n",
       "      <td>Not a retweet</td>\n",
       "    </tr>\n",
       "    <tr>\n",
       "      <th>25</th>\n",
       "      <td>2017-08-30 13:27:47</td>\n",
       "      <td>Twitter for iPhone</td>\n",
       "      <td>After reading the false reporting and even ferocious anger in some dying magazines, it makes me ...</td>\n",
       "      <td>Not a retweet</td>\n",
       "    </tr>\n",
       "    <tr>\n",
       "      <th>26</th>\n",
       "      <td>2017-08-30 13:12:29</td>\n",
       "      <td>Twitter for iPhone</td>\n",
       "      <td>After witnessing first hand the horror &amp;amp; devastation caused by Hurricane Harvey,my heart goe...</td>\n",
       "      <td>Not a retweet</td>\n",
       "    </tr>\n",
       "    <tr>\n",
       "      <th>27</th>\n",
       "      <td>2017-08-30 12:47:52</td>\n",
       "      <td>Twitter for iPhone</td>\n",
       "      <td>The U.S. has been talking to North Korea, and paying them extortion money, for 25 years. Talking...</td>\n",
       "      <td>Not a retweet</td>\n",
       "    </tr>\n",
       "    <tr>\n",
       "      <th>28</th>\n",
       "      <td>2017-08-29 16:06:57</td>\n",
       "      <td>Twitter for iPhone</td>\n",
       "      <td>RT @BrazoriaCounty: https://t.co/sUTyXBzer9</td>\n",
       "      <td>Aide retweet</td>\n",
       "    </tr>\n",
       "    <tr>\n",
       "      <th>29</th>\n",
       "      <td>2017-08-29 12:26:55</td>\n",
       "      <td>Twitter for iPhone</td>\n",
       "      <td>.@foxandfriends   We are not looking to fill all of those positions. Don't need many of them - r...</td>\n",
       "      <td>Not a retweet</td>\n",
       "    </tr>\n",
       "    <tr>\n",
       "      <th>...</th>\n",
       "      <td>...</td>\n",
       "      <td>...</td>\n",
       "      <td>...</td>\n",
       "      <td>...</td>\n",
       "    </tr>\n",
       "    <tr>\n",
       "      <th>3201</th>\n",
       "      <td>2016-07-13 22:28:44</td>\n",
       "      <td>Twitter for iPhone</td>\n",
       "      <td>If I win the Presidency, we will swamp Justice Ginsburg with real judges and real legal opinions!</td>\n",
       "      <td>Not a retweet</td>\n",
       "    </tr>\n",
       "    <tr>\n",
       "      <th>3202</th>\n",
       "      <td>2016-07-13 22:27:45</td>\n",
       "      <td>Twitter for iPhone</td>\n",
       "      <td>Even the @NYTimes and @WashingtonPost Editorial Boards condemned Justice Ginsburg for her ethica...</td>\n",
       "      <td>Not a retweet</td>\n",
       "    </tr>\n",
       "    <tr>\n",
       "      <th>3203</th>\n",
       "      <td>2016-07-13 22:26:20</td>\n",
       "      <td>Twitter for iPhone</td>\n",
       "      <td>Is Supreme Court Justice Ruth Bader Ginsburg going to apologize to me for her misconduct? Big mi...</td>\n",
       "      <td>Not a retweet</td>\n",
       "    </tr>\n",
       "    <tr>\n",
       "      <th>3204</th>\n",
       "      <td>2016-07-13 22:23:40</td>\n",
       "      <td>Twitter for iPhone</td>\n",
       "      <td>On my way to San Diego to raise money for the Republican Party. I am spending a lot myself and a...</td>\n",
       "      <td>Not a retweet</td>\n",
       "    </tr>\n",
       "    <tr>\n",
       "      <th>3205</th>\n",
       "      <td>2016-07-13 22:22:20</td>\n",
       "      <td>Twitter for iPhone</td>\n",
       "      <td>Voters understand that Crooked Hillary's negative ads are not true- just like her email lies and...</td>\n",
       "      <td>Not a retweet</td>\n",
       "    </tr>\n",
       "    <tr>\n",
       "      <th>3206</th>\n",
       "      <td>2016-07-13 22:19:48</td>\n",
       "      <td>Twitter for iPhone</td>\n",
       "      <td>Despite spending $500k a day on TV ads alone #CrookedHillary falls flat in nationwide @Quinnipia...</td>\n",
       "      <td>Not a retweet</td>\n",
       "    </tr>\n",
       "    <tr>\n",
       "      <th>3207</th>\n",
       "      <td>2016-07-13 22:11:04</td>\n",
       "      <td>Twitter for iPhone</td>\n",
       "      <td>Lyin' Crooked Hillary's email stories all have one thing in common. https://t.co/teoVCYXKOR</td>\n",
       "      <td>Not a retweet</td>\n",
       "    </tr>\n",
       "    <tr>\n",
       "      <th>3208</th>\n",
       "      <td>2016-07-13 22:06:30</td>\n",
       "      <td>Twitter for iPhone</td>\n",
       "      <td>Is President Obama trying to destroy Israel with all his bad moves? Think about it and let me know!</td>\n",
       "      <td>Not a retweet</td>\n",
       "    </tr>\n",
       "    <tr>\n",
       "      <th>3209</th>\n",
       "      <td>2016-07-13 22:05:22</td>\n",
       "      <td>Twitter for iPhone</td>\n",
       "      <td>The Republican platform is most \\npro-Israel of all time!</td>\n",
       "      <td>Not a retweet</td>\n",
       "    </tr>\n",
       "    <tr>\n",
       "      <th>3210</th>\n",
       "      <td>2016-07-13 21:56:42</td>\n",
       "      <td>Twitter for iPhone</td>\n",
       "      <td>New GOP platform now includes language that supports the border wall. We will build the wall and...</td>\n",
       "      <td>Not a retweet</td>\n",
       "    </tr>\n",
       "    <tr>\n",
       "      <th>3211</th>\n",
       "      <td>2016-07-13 21:22:44</td>\n",
       "      <td>Twitter for iPhone</td>\n",
       "      <td>#CrookedHillary is outspending me by a combined 31 to 1 in Florida, Ohio, &amp;amp; Pennsylvania. I ...</td>\n",
       "      <td>Not a retweet</td>\n",
       "    </tr>\n",
       "    <tr>\n",
       "      <th>3212</th>\n",
       "      <td>2016-07-13 12:50:04</td>\n",
       "      <td>Twitter for iPhone</td>\n",
       "      <td>Thank you Florida, Ohio, and Pennsylvania! #CrookedHillary is not qualified. #ImWithYou https://...</td>\n",
       "      <td>Not a retweet</td>\n",
       "    </tr>\n",
       "    <tr>\n",
       "      <th>3213</th>\n",
       "      <td>2016-07-13 12:33:15</td>\n",
       "      <td>Twitter for iPhone</td>\n",
       "      <td>Thank you! #ImWithYou https://t.co/6XkUQ0W4QS</td>\n",
       "      <td>Not a retweet</td>\n",
       "    </tr>\n",
       "    <tr>\n",
       "      <th>3214</th>\n",
       "      <td>2016-07-13 04:54:40</td>\n",
       "      <td>Twitter for Android</td>\n",
       "      <td>Justice Ginsburg of the U.S. Supreme Court has embarrassed all by making very dumb political sta...</td>\n",
       "      <td>Not a retweet</td>\n",
       "    </tr>\n",
       "    <tr>\n",
       "      <th>3215</th>\n",
       "      <td>2016-07-13 03:08:58</td>\n",
       "      <td>Twitter for iPhone</td>\n",
       "      <td>THANK YOU INDIANA! #Trump2016 https://t.co/Jmkah9wGaA</td>\n",
       "      <td>Not a retweet</td>\n",
       "    </tr>\n",
       "    <tr>\n",
       "      <th>3216</th>\n",
       "      <td>2016-07-12 22:19:52</td>\n",
       "      <td>Twitter for iPhone</td>\n",
       "      <td>Thank you Iowa- see you soon!\\n#Trump2016 #ImWithYou \\nhttps://t.co/gva0MbgnuO https://t.co/PE1j...</td>\n",
       "      <td>Not a retweet</td>\n",
       "    </tr>\n",
       "    <tr>\n",
       "      <th>3217</th>\n",
       "      <td>2016-07-12 21:59:45</td>\n",
       "      <td>Twitter for iPhone</td>\n",
       "      <td>I will be interviewed by @oreillyfactor tonight on @FoxNews at 8pm. Enjoy!</td>\n",
       "      <td>Not a retweet</td>\n",
       "    </tr>\n",
       "    <tr>\n",
       "      <th>3218</th>\n",
       "      <td>2016-07-12 21:10:03</td>\n",
       "      <td>Twitter for iPhone</td>\n",
       "      <td>The American people agree. No free pass for #CrookedHillary! https://t.co/lTjLVKkzh1</td>\n",
       "      <td>Not a retweet</td>\n",
       "    </tr>\n",
       "    <tr>\n",
       "      <th>3219</th>\n",
       "      <td>2016-07-12 17:04:19</td>\n",
       "      <td>Twitter for iPhone</td>\n",
       "      <td>To all the Bernie voters who want to stop bad trade deals &amp;amp; global special interests, we wel...</td>\n",
       "      <td>Not a retweet</td>\n",
       "    </tr>\n",
       "    <tr>\n",
       "      <th>3220</th>\n",
       "      <td>2016-07-12 17:03:44</td>\n",
       "      <td>Twitter for iPhone</td>\n",
       "      <td>Bernie sanders has abandoned his supporters by endorsing pro-war pro-TPP pro-Wall Street Crooked...</td>\n",
       "      <td>Not a retweet</td>\n",
       "    </tr>\n",
       "    <tr>\n",
       "      <th>3221</th>\n",
       "      <td>2016-07-12 17:01:51</td>\n",
       "      <td>Twitter for iPhone</td>\n",
       "      <td>Bernie Sanders endorsing Crooked Hillary Clinton is like Occupy Wall Street endorsing Goldman Sa...</td>\n",
       "      <td>Not a retweet</td>\n",
       "    </tr>\n",
       "    <tr>\n",
       "      <th>3222</th>\n",
       "      <td>2016-07-12 16:45:45</td>\n",
       "      <td>Twitter for iPhone</td>\n",
       "      <td>#CrookedHillary is not qualified!\\nhttps://t.co/6qi7KTW43O</td>\n",
       "      <td>Not a retweet</td>\n",
       "    </tr>\n",
       "    <tr>\n",
       "      <th>3223</th>\n",
       "      <td>2016-07-12 13:39:56</td>\n",
       "      <td>Twitter for Android</td>\n",
       "      <td>I am somewhat surprised that Bernie Sanders was not true to himself and his supporters. They are...</td>\n",
       "      <td>Not a retweet</td>\n",
       "    </tr>\n",
       "    <tr>\n",
       "      <th>3224</th>\n",
       "      <td>2016-07-12 13:36:47</td>\n",
       "      <td>Twitter for Android</td>\n",
       "      <td>Bernie Sanders, who has lost most of his leverage, has totally sold out to Crooked Hillary Clint...</td>\n",
       "      <td>Not a retweet</td>\n",
       "    </tr>\n",
       "    <tr>\n",
       "      <th>3225</th>\n",
       "      <td>2016-07-12 12:57:18</td>\n",
       "      <td>Twitter for iPhone</td>\n",
       "      <td>This election is a choice between law, order &amp;amp; safety - or chaos, crime &amp;amp; violence. I wi...</td>\n",
       "      <td>Not a retweet</td>\n",
       "    </tr>\n",
       "    <tr>\n",
       "      <th>3226</th>\n",
       "      <td>2016-07-12 12:55:29</td>\n",
       "      <td>Twitter for iPhone</td>\n",
       "      <td>For too many years, our inner cities have been left behind. I am going to deliver jobs, safety a...</td>\n",
       "      <td>Not a retweet</td>\n",
       "    </tr>\n",
       "    <tr>\n",
       "      <th>3227</th>\n",
       "      <td>2016-07-12 11:58:58</td>\n",
       "      <td>Twitter for Android</td>\n",
       "      <td>Crime is out of control, and rapidly getting worse. Look what is going on in Chicago and our inn...</td>\n",
       "      <td>Not a retweet</td>\n",
       "    </tr>\n",
       "    <tr>\n",
       "      <th>3228</th>\n",
       "      <td>2016-07-12 02:12:19</td>\n",
       "      <td>Twitter for iPhone</td>\n",
       "      <td>#MakeAmericaGreatAgain #ImWithYou\\nhttps://t.co/lb5ViCDH0g https://t.co/roVn7pAVfy</td>\n",
       "      <td>Not a retweet</td>\n",
       "    </tr>\n",
       "    <tr>\n",
       "      <th>3229</th>\n",
       "      <td>2016-07-12 00:56:29</td>\n",
       "      <td>Twitter for iPhone</td>\n",
       "      <td>Senior United States District Judge Robert E. Payne today ruled in favor of Trump campaign deleg...</td>\n",
       "      <td>Not a retweet</td>\n",
       "    </tr>\n",
       "    <tr>\n",
       "      <th>3230</th>\n",
       "      <td>2016-07-11 22:18:22</td>\n",
       "      <td>Twitter for iPhone</td>\n",
       "      <td>Speech on Veterans' Reform:\\nhttps://t.co/XB7RMwesMK</td>\n",
       "      <td>Not a retweet</td>\n",
       "    </tr>\n",
       "  </tbody>\n",
       "</table>\n",
       "<p>3231 rows × 4 columns</p>\n",
       "</div>"
      ],
      "text/plain": [
       "               created_at               source  \\\n",
       "0     2017-09-03 05:17:04   Twitter for iPhone   \n",
       "1     2017-09-03 03:02:31   Twitter for iPhone   \n",
       "2     2017-09-03 02:57:43   Twitter for iPhone   \n",
       "3     2017-09-03 02:50:58   Twitter for iPhone   \n",
       "4     2017-09-03 02:42:36   Twitter for iPhone   \n",
       "5     2017-09-03 02:41:40   Twitter for iPhone   \n",
       "6     2017-09-03 02:40:24   Twitter for iPhone   \n",
       "7     2017-09-03 01:55:30   Twitter for iPhone   \n",
       "8     2017-09-02 16:56:51   Twitter for iPhone   \n",
       "9     2017-09-02 13:58:37   Twitter for iPhone   \n",
       "10    2017-09-02 00:34:32   Twitter for iPhone   \n",
       "11    2017-09-02 00:03:00   Twitter for iPhone   \n",
       "12    2017-09-01 23:47:38   Twitter for iPhone   \n",
       "13    2017-09-01 19:47:23         Media Studio   \n",
       "14    2017-09-01 12:58:48   Twitter for iPhone   \n",
       "15    2017-09-01 12:47:46   Twitter for iPhone   \n",
       "16    2017-09-01 12:35:27   Twitter for iPhone   \n",
       "17    2017-09-01 11:56:45   Twitter for iPhone   \n",
       "18    2017-08-31 20:06:35   Twitter for iPhone   \n",
       "19    2017-08-31 12:35:50   Twitter for iPhone   \n",
       "20    2017-08-31 01:29:31   Twitter for iPhone   \n",
       "21    2017-08-31 01:00:50         Media Studio   \n",
       "22    2017-08-31 00:50:13   Twitter for iPhone   \n",
       "23    2017-08-30 19:38:41   Twitter for iPhone   \n",
       "24    2017-08-30 13:42:20   Twitter for iPhone   \n",
       "25    2017-08-30 13:27:47   Twitter for iPhone   \n",
       "26    2017-08-30 13:12:29   Twitter for iPhone   \n",
       "27    2017-08-30 12:47:52   Twitter for iPhone   \n",
       "28    2017-08-29 16:06:57   Twitter for iPhone   \n",
       "29    2017-08-29 12:26:55   Twitter for iPhone   \n",
       "...                   ...                  ...   \n",
       "3201  2016-07-13 22:28:44   Twitter for iPhone   \n",
       "3202  2016-07-13 22:27:45   Twitter for iPhone   \n",
       "3203  2016-07-13 22:26:20   Twitter for iPhone   \n",
       "3204  2016-07-13 22:23:40   Twitter for iPhone   \n",
       "3205  2016-07-13 22:22:20   Twitter for iPhone   \n",
       "3206  2016-07-13 22:19:48   Twitter for iPhone   \n",
       "3207  2016-07-13 22:11:04   Twitter for iPhone   \n",
       "3208  2016-07-13 22:06:30   Twitter for iPhone   \n",
       "3209  2016-07-13 22:05:22   Twitter for iPhone   \n",
       "3210  2016-07-13 21:56:42   Twitter for iPhone   \n",
       "3211  2016-07-13 21:22:44   Twitter for iPhone   \n",
       "3212  2016-07-13 12:50:04   Twitter for iPhone   \n",
       "3213  2016-07-13 12:33:15   Twitter for iPhone   \n",
       "3214  2016-07-13 04:54:40  Twitter for Android   \n",
       "3215  2016-07-13 03:08:58   Twitter for iPhone   \n",
       "3216  2016-07-12 22:19:52   Twitter for iPhone   \n",
       "3217  2016-07-12 21:59:45   Twitter for iPhone   \n",
       "3218  2016-07-12 21:10:03   Twitter for iPhone   \n",
       "3219  2016-07-12 17:04:19   Twitter for iPhone   \n",
       "3220  2016-07-12 17:03:44   Twitter for iPhone   \n",
       "3221  2016-07-12 17:01:51   Twitter for iPhone   \n",
       "3222  2016-07-12 16:45:45   Twitter for iPhone   \n",
       "3223  2016-07-12 13:39:56  Twitter for Android   \n",
       "3224  2016-07-12 13:36:47  Twitter for Android   \n",
       "3225  2016-07-12 12:57:18   Twitter for iPhone   \n",
       "3226  2016-07-12 12:55:29   Twitter for iPhone   \n",
       "3227  2016-07-12 11:58:58  Twitter for Android   \n",
       "3228  2016-07-12 02:12:19   Twitter for iPhone   \n",
       "3229  2016-07-12 00:56:29   Twitter for iPhone   \n",
       "3230  2016-07-11 22:18:22   Twitter for iPhone   \n",
       "\n",
       "                                                                                                     text  \\\n",
       "0     So much SPIRIT in LA! Thank you to all of our HEREOS who saved many lives. An honor to spend tim...   \n",
       "1                                 Remember, Sunday is National Prayer Day (by Presidential Proclamation)!   \n",
       "2     Just got back to the White House from the Great States of Texas and Louisiana, where things are ...   \n",
       "3     The Manufacturing Index rose to 59%, the highest level since early 2011 - and we can do much bet...   \n",
       "4                                             RT @Team_Trump45: @realDonaldTrump  https://t.co/o1x6X2qQdM   \n",
       "5     RT @ColumbiaBugle: @realDonaldTrump @FLOTUS President Trump greeting families affected by Hurric...   \n",
       "6                           RT @ColumbiaBugle: @realDonaldTrump Love our @FLOTUS! https://t.co/6LT9mLAJ86   \n",
       "7     Together, we will prevail in the GREAT state of Texas. We love you!\\n\\nGOD BLESS TEXAS &amp; GOD...   \n",
       "8     TEXAS: We are with you today, we are with you tomorrow, and we will be with you EVERY SINGLE DAY...   \n",
       "9     Departing for Texas and Louisiana with @FLOTUS Melania right now @JBA_NAFW. We will see you soon...   \n",
       "10    On behalf of @FLOTUS Melania &amp; myself, THANK YOU for today's update &amp; GREAT WORK! #South...   \n",
       "11    I will be going to Texas and Louisiana tomorrow with First Lady. Great progress being made! Spen...   \n",
       "12                                                                     Stock Market up 5 months in a row!   \n",
       "13    'President Donald J. Trump Proclaims September 3, 2017, as a National Day of Prayer' #HurricaneH...   \n",
       "14    Texas is healing fast thanks to all of the great men &amp; women who have been working so hard. ...   \n",
       "15    ...get things done at a record clip. Many big decisions to be made over the coming days and week...   \n",
       "16    General John Kelly is doing a great job as Chief of Staff. I could not be happier or more impres...   \n",
       "17    Wow, looks like James Comey exonerated Hillary Clinton long before the investigation was over......   \n",
       "18    THANK YOU to all of the incredible HEROES in Texas. America is with you! #TexasStrong \\nhttps://...   \n",
       "19    RT @FoxNews: .@KellyannePolls on Harvey recovery: We hope when it comes to basic Hurricane Harve...   \n",
       "20    RT @SecShulkin: Our Mobile Vet Center set up and ready to help #Veterans impacted by #HurricaneH...   \n",
       "21    First responders have been doing heroic work. Their courage &amp; devotion has saved countless l...   \n",
       "22    RT @IvankaTrump: We must reform our tax code so that all Americans can succeed in our modern eco...   \n",
       "23    Texas &amp; Louisiana: We are w/ you today, we are w/ you tomorrow, &amp; we will be w/ you EVER...   \n",
       "24           Will be leaving for Missouri soon for a speech on tax cuts and tax reform - so badly needed!   \n",
       "25    After reading the false reporting and even ferocious anger in some dying magazines, it makes me ...   \n",
       "26    After witnessing first hand the horror &amp; devastation caused by Hurricane Harvey,my heart goe...   \n",
       "27    The U.S. has been talking to North Korea, and paying them extortion money, for 25 years. Talking...   \n",
       "28                                                            RT @BrazoriaCounty: https://t.co/sUTyXBzer9   \n",
       "29    .@foxandfriends   We are not looking to fill all of those positions. Don't need many of them - r...   \n",
       "...                                                                                                   ...   \n",
       "3201    If I win the Presidency, we will swamp Justice Ginsburg with real judges and real legal opinions!   \n",
       "3202  Even the @NYTimes and @WashingtonPost Editorial Boards condemned Justice Ginsburg for her ethica...   \n",
       "3203  Is Supreme Court Justice Ruth Bader Ginsburg going to apologize to me for her misconduct? Big mi...   \n",
       "3204  On my way to San Diego to raise money for the Republican Party. I am spending a lot myself and a...   \n",
       "3205  Voters understand that Crooked Hillary's negative ads are not true- just like her email lies and...   \n",
       "3206  Despite spending $500k a day on TV ads alone #CrookedHillary falls flat in nationwide @Quinnipia...   \n",
       "3207          Lyin' Crooked Hillary's email stories all have one thing in common. https://t.co/teoVCYXKOR   \n",
       "3208  Is President Obama trying to destroy Israel with all his bad moves? Think about it and let me know!   \n",
       "3209                                            The Republican platform is most \\npro-Israel of all time!   \n",
       "3210  New GOP platform now includes language that supports the border wall. We will build the wall and...   \n",
       "3211  #CrookedHillary is outspending me by a combined 31 to 1 in Florida, Ohio, &amp; Pennsylvania. I ...   \n",
       "3212  Thank you Florida, Ohio, and Pennsylvania! #CrookedHillary is not qualified. #ImWithYou https://...   \n",
       "3213                                                        Thank you! #ImWithYou https://t.co/6XkUQ0W4QS   \n",
       "3214  Justice Ginsburg of the U.S. Supreme Court has embarrassed all by making very dumb political sta...   \n",
       "3215                                                THANK YOU INDIANA! #Trump2016 https://t.co/Jmkah9wGaA   \n",
       "3216  Thank you Iowa- see you soon!\\n#Trump2016 #ImWithYou \\nhttps://t.co/gva0MbgnuO https://t.co/PE1j...   \n",
       "3217                           I will be interviewed by @oreillyfactor tonight on @FoxNews at 8pm. Enjoy!   \n",
       "3218                 The American people agree. No free pass for #CrookedHillary! https://t.co/lTjLVKkzh1   \n",
       "3219  To all the Bernie voters who want to stop bad trade deals &amp; global special interests, we wel...   \n",
       "3220  Bernie sanders has abandoned his supporters by endorsing pro-war pro-TPP pro-Wall Street Crooked...   \n",
       "3221  Bernie Sanders endorsing Crooked Hillary Clinton is like Occupy Wall Street endorsing Goldman Sa...   \n",
       "3222                                           #CrookedHillary is not qualified!\\nhttps://t.co/6qi7KTW43O   \n",
       "3223  I am somewhat surprised that Bernie Sanders was not true to himself and his supporters. They are...   \n",
       "3224  Bernie Sanders, who has lost most of his leverage, has totally sold out to Crooked Hillary Clint...   \n",
       "3225  This election is a choice between law, order &amp; safety - or chaos, crime &amp; violence. I wi...   \n",
       "3226  For too many years, our inner cities have been left behind. I am going to deliver jobs, safety a...   \n",
       "3227  Crime is out of control, and rapidly getting worse. Look what is going on in Chicago and our inn...   \n",
       "3228                   #MakeAmericaGreatAgain #ImWithYou\\nhttps://t.co/lb5ViCDH0g https://t.co/roVn7pAVfy   \n",
       "3229  Senior United States District Judge Robert E. Payne today ruled in favor of Trump campaign deleg...   \n",
       "3230                                                 Speech on Veterans' Reform:\\nhttps://t.co/XB7RMwesMK   \n",
       "\n",
       "         tweet_type  \n",
       "0     Not a retweet  \n",
       "1     Not a retweet  \n",
       "2     Not a retweet  \n",
       "3     Not a retweet  \n",
       "4      Aide retweet  \n",
       "5      Aide retweet  \n",
       "6      Aide retweet  \n",
       "7     Not a retweet  \n",
       "8     Not a retweet  \n",
       "9     Not a retweet  \n",
       "10    Not a retweet  \n",
       "11    Not a retweet  \n",
       "12    Not a retweet  \n",
       "13    Not a retweet  \n",
       "14    Not a retweet  \n",
       "15    Not a retweet  \n",
       "16    Not a retweet  \n",
       "17    Not a retweet  \n",
       "18    Not a retweet  \n",
       "19     Aide retweet  \n",
       "20     Aide retweet  \n",
       "21    Not a retweet  \n",
       "22     Aide retweet  \n",
       "23    Not a retweet  \n",
       "24    Not a retweet  \n",
       "25    Not a retweet  \n",
       "26    Not a retweet  \n",
       "27    Not a retweet  \n",
       "28     Aide retweet  \n",
       "29    Not a retweet  \n",
       "...             ...  \n",
       "3201  Not a retweet  \n",
       "3202  Not a retweet  \n",
       "3203  Not a retweet  \n",
       "3204  Not a retweet  \n",
       "3205  Not a retweet  \n",
       "3206  Not a retweet  \n",
       "3207  Not a retweet  \n",
       "3208  Not a retweet  \n",
       "3209  Not a retweet  \n",
       "3210  Not a retweet  \n",
       "3211  Not a retweet  \n",
       "3212  Not a retweet  \n",
       "3213  Not a retweet  \n",
       "3214  Not a retweet  \n",
       "3215  Not a retweet  \n",
       "3216  Not a retweet  \n",
       "3217  Not a retweet  \n",
       "3218  Not a retweet  \n",
       "3219  Not a retweet  \n",
       "3220  Not a retweet  \n",
       "3221  Not a retweet  \n",
       "3222  Not a retweet  \n",
       "3223  Not a retweet  \n",
       "3224  Not a retweet  \n",
       "3225  Not a retweet  \n",
       "3226  Not a retweet  \n",
       "3227  Not a retweet  \n",
       "3228  Not a retweet  \n",
       "3229  Not a retweet  \n",
       "3230  Not a retweet  \n",
       "\n",
       "[3231 rows x 4 columns]"
      ]
     },
     "execution_count": 663,
     "metadata": {},
     "output_type": "execute_result"
    }
   ],
   "source": [
    "trump_df"
   ]
  },
  {
   "cell_type": "code",
   "execution_count": 664,
   "metadata": {},
   "outputs": [
    {
     "name": "stdout",
     "output_type": "stream",
     "text": [
      "~~~~~~~~~~~~~~~~~~~~~~~~~~~~~~~~~~~~~~~~~~~~~~~~~~~~~~~~~~~~~~~~~~~~~\n",
      "Running tests\n",
      "\n",
      "---------------------------------------------------------------------\n",
      "Test summary\n",
      "    Passed: 1\n",
      "    Failed: 0\n",
      "[ooooooooook] 100.0% passed\n",
      "\n"
     ]
    }
   ],
   "source": [
    "_ = ok.grade('q15')"
   ]
  },
  {
   "cell_type": "markdown",
   "metadata": {},
   "source": [
    "#### Question 16\n",
    "Cross-classify @realDonaldTrump tweets by `source` and by `tweet_type` into a table called `trump_pivoted`.\n",
    "\n",
    "*Hint:* We did something very similar after question 7.  You don't need to write much new code for this."
   ]
  },
  {
   "cell_type": "code",
   "execution_count": 665,
   "metadata": {},
   "outputs": [
    {
     "data": {
      "text/html": [
       "<div>\n",
       "<style>\n",
       "    .dataframe thead tr:only-child th {\n",
       "        text-align: right;\n",
       "    }\n",
       "\n",
       "    .dataframe thead th {\n",
       "        text-align: left;\n",
       "    }\n",
       "\n",
       "    .dataframe tbody tr th {\n",
       "        vertical-align: top;\n",
       "    }\n",
       "</style>\n",
       "<table border=\"1\" class=\"dataframe\">\n",
       "  <thead>\n",
       "    <tr style=\"text-align: right;\">\n",
       "      <th>tweet_type</th>\n",
       "      <th>Aide retweet</th>\n",
       "      <th>Not a retweet</th>\n",
       "      <th>Trump retweet</th>\n",
       "    </tr>\n",
       "    <tr>\n",
       "      <th>source</th>\n",
       "      <th></th>\n",
       "      <th></th>\n",
       "      <th></th>\n",
       "    </tr>\n",
       "  </thead>\n",
       "  <tbody>\n",
       "    <tr>\n",
       "      <th>Media Studio</th>\n",
       "      <td>0</td>\n",
       "      <td>55</td>\n",
       "      <td>2</td>\n",
       "    </tr>\n",
       "    <tr>\n",
       "      <th>Periscope</th>\n",
       "      <td>0</td>\n",
       "      <td>1</td>\n",
       "      <td>0</td>\n",
       "    </tr>\n",
       "    <tr>\n",
       "      <th>Twitter Ads</th>\n",
       "      <td>0</td>\n",
       "      <td>34</td>\n",
       "      <td>0</td>\n",
       "    </tr>\n",
       "    <tr>\n",
       "      <th>Twitter Web Client</th>\n",
       "      <td>31</td>\n",
       "      <td>123</td>\n",
       "      <td>2</td>\n",
       "    </tr>\n",
       "    <tr>\n",
       "      <th>Twitter for Android</th>\n",
       "      <td>10</td>\n",
       "      <td>756</td>\n",
       "      <td>118</td>\n",
       "    </tr>\n",
       "    <tr>\n",
       "      <th>Twitter for iPad</th>\n",
       "      <td>3</td>\n",
       "      <td>19</td>\n",
       "      <td>0</td>\n",
       "    </tr>\n",
       "    <tr>\n",
       "      <th>Twitter for iPhone</th>\n",
       "      <td>268</td>\n",
       "      <td>1777</td>\n",
       "      <td>32</td>\n",
       "    </tr>\n",
       "  </tbody>\n",
       "</table>\n",
       "</div>"
      ],
      "text/plain": [
       "tweet_type           Aide retweet  Not a retweet  Trump retweet\n",
       "source                                                         \n",
       "Media Studio                    0             55              2\n",
       "Periscope                       0              1              0\n",
       "Twitter Ads                     0             34              0\n",
       "Twitter Web Client             31            123              2\n",
       "Twitter for Android            10            756            118\n",
       "Twitter for iPad                3             19              0\n",
       "Twitter for iPhone            268           1777             32"
      ]
     },
     "execution_count": 665,
     "metadata": {},
     "output_type": "execute_result"
    }
   ],
   "source": [
    "trump_pivoted = pivot_count(trump_df, 'source', 'tweet_type')\n",
    "trump_pivoted"
   ]
  },
  {
   "cell_type": "code",
   "execution_count": 666,
   "metadata": {},
   "outputs": [
    {
     "name": "stdout",
     "output_type": "stream",
     "text": [
      "~~~~~~~~~~~~~~~~~~~~~~~~~~~~~~~~~~~~~~~~~~~~~~~~~~~~~~~~~~~~~~~~~~~~~\n",
      "Running tests\n",
      "\n",
      "---------------------------------------------------------------------\n",
      "Test summary\n",
      "    Passed: 1\n",
      "    Failed: 0\n",
      "[ooooooooook] 100.0% passed\n",
      "\n"
     ]
    }
   ],
   "source": [
    "_ = ok.grade('q16')"
   ]
  },
  {
   "cell_type": "markdown",
   "metadata": {},
   "source": [
    "#### Question 17\n",
    "Does the cross-classified table show evidence against the hypothesis that Trump and his advisors tweet from roughly the same sources?  Again assuming you agree with Statistician Belinda, run an hypothesis test in the next cell to verify that there is a difference in the relevant distributions.  Then use the subsequent cell to describe your methodology and results.  Are there any important caveats?"
   ]
  },
  {
   "cell_type": "code",
   "execution_count": 690,
   "metadata": {},
   "outputs": [
    {
     "data": {
      "text/plain": [
       "0.7471694971694971"
      ]
     },
     "execution_count": 690,
     "metadata": {},
     "output_type": "execute_result"
    }
   ],
   "source": [
    "def shuffle_tvd_trump_process(df, prop_aide='aides_proportion', prop_trump='trump_proportion'):\n",
    "    shuffled_source = np.random.permutation(df['source'])\n",
    "    shuffled_df_source = pd.DataFrame(shuffled_source, columns=['shuffled_source'])\n",
    "    shuffled_df_source['tweet_type'] = df['tweet_type']\n",
    "    shuffled_df_pivoted = pivot_count(shuffled_df_source, 'shuffled_source', 'tweet_type')\n",
    "    shuffled_df_pivoted[prop_aide] = proportion(shuffled_df_pivoted['Aide retweet'])\n",
    "    shuffled_df_pivoted[prop_trump] = proportion(shuffled_df_pivoted['Trump retweet'])\n",
    "    shuffled_tvd = tvd(shuffled_df_pivoted[prop_aide], shuffled_df_pivoted[prop_trump])\n",
    "    return shuffled_tvd\n",
    "\n",
    "trump_pivoted['aides_proportion'] = proportion(trump_pivoted['Aide retweet'])\n",
    "trump_pivoted['trump_proportion'] = proportion(trump_pivoted['Trump retweet'])\n",
    "observed_trump_tvd = tvd(trump_pivoted['aides_proportion'], trump_pivoted['trump_proportion'])\n",
    "observed_trump_tvd"
   ]
  },
  {
   "cell_type": "code",
   "execution_count": 692,
   "metadata": {},
   "outputs": [
    {
     "data": {
      "text/plain": [
       "0.0"
      ]
     },
     "execution_count": 692,
     "metadata": {},
     "output_type": "execute_result"
    }
   ],
   "source": [
    "def trump_p_value(df, num_trails, observed_tvd):\n",
    "    tvd_array = np.array([])\n",
    "    for _ in range(num_trails):\n",
    "        new_tvd = shuffle_tvd_trump_process(df)\n",
    "        tvd_array = np.append(tvd_array, new_tvd)\n",
    "    return np.count_nonzero(tvd_array >= observed_tvd)/num_trails\n",
    "\n",
    "trump_p_value = trump_p_value(trump_df, 10000, observed_trump_tvd)\n",
    "trump_p_value"
   ]
  },
  {
   "cell_type": "markdown",
   "metadata": {},
   "source": [
    "**conclusion:** the p-value is extremely low, which suggests that we should reject the null hypothesis, Trump and aide tweets' sources are not independent samples from the same distribution."
   ]
  },
  {
   "cell_type": "markdown",
   "metadata": {},
   "source": [
    "We are really interested in knowing whether we can classify @realDonaldTrump tweets on the basis of the source.  Just knowing that there is a difference in source distributions isn't nearly enough.  Instead, we would like to claim something like this: \"@realDonaldTrump tweets from Twitter for Android are generally authored by Trump himself.  Other tweets are generally authored by his aides.\"\n",
    "\n",
    "#### Question 18\n",
    "If you use bootstrap methods to compute a confidence interval for the proportion of Trump aide retweets from Android phones in \"the population of all @realDonaldTrump retweets,\" you will find that the interval is [0, 0].  That's because there are no retweets from Android phones by Trump aides in our dataset.  Is it reasonable to conclude from this that Trump aides definitely never tweet from Android phones?"
   ]
  },
  {
   "cell_type": "markdown",
   "metadata": {},
   "source": [
    "Not reasonable, Trump aides may tweet from Android phones, but don't retweet using Android phones."
   ]
  },
  {
   "cell_type": "markdown",
   "metadata": {},
   "source": [
    "# Submitting your assignment\n",
    "First, run the next cell to run all the tests at once."
   ]
  },
  {
   "cell_type": "code",
   "execution_count": 693,
   "metadata": {},
   "outputs": [
    {
     "name": "stdout",
     "output_type": "stream",
     "text": [
      "~~~~~~~~~~~~~~~~~~~~~~~~~~~~~~~~~~~~~~~~~~~~~~~~~~~~~~~~~~~~~~~~~~~~~\n",
      "Running tests\n",
      "\n",
      "---------------------------------------------------------------------\n",
      "Test summary\n",
      "    Passed: 2\n",
      "    Failed: 0\n",
      "[ooooooooook] 100.0% passed\n",
      "\n",
      "~~~~~~~~~~~~~~~~~~~~~~~~~~~~~~~~~~~~~~~~~~~~~~~~~~~~~~~~~~~~~~~~~~~~~\n",
      "Running tests\n",
      "\n",
      "---------------------------------------------------------------------\n",
      "Test summary\n",
      "    Passed: 1\n",
      "    Failed: 0\n",
      "[ooooooooook] 100.0% passed\n",
      "\n",
      "~~~~~~~~~~~~~~~~~~~~~~~~~~~~~~~~~~~~~~~~~~~~~~~~~~~~~~~~~~~~~~~~~~~~~\n",
      "Running tests\n",
      "\n",
      "---------------------------------------------------------------------\n",
      "Test summary\n",
      "    Passed: 1\n",
      "    Failed: 0\n",
      "[ooooooooook] 100.0% passed\n",
      "\n",
      "~~~~~~~~~~~~~~~~~~~~~~~~~~~~~~~~~~~~~~~~~~~~~~~~~~~~~~~~~~~~~~~~~~~~~\n",
      "Running tests\n",
      "\n",
      "---------------------------------------------------------------------\n",
      "Test summary\n",
      "    Passed: 1\n",
      "    Failed: 0\n",
      "[ooooooooook] 100.0% passed\n",
      "\n",
      "~~~~~~~~~~~~~~~~~~~~~~~~~~~~~~~~~~~~~~~~~~~~~~~~~~~~~~~~~~~~~~~~~~~~~\n",
      "Running tests\n",
      "\n",
      "---------------------------------------------------------------------\n",
      "Test summary\n",
      "    Passed: 1\n",
      "    Failed: 0\n",
      "[ooooooooook] 100.0% passed\n",
      "\n",
      "~~~~~~~~~~~~~~~~~~~~~~~~~~~~~~~~~~~~~~~~~~~~~~~~~~~~~~~~~~~~~~~~~~~~~\n",
      "Running tests\n",
      "\n",
      "---------------------------------------------------------------------\n",
      "Test summary\n",
      "    Passed: 1\n",
      "    Failed: 0\n",
      "[ooooooooook] 100.0% passed\n",
      "\n"
     ]
    }
   ],
   "source": [
    "_ = ok.grade_all()"
   ]
  },
  {
   "cell_type": "markdown",
   "metadata": {},
   "source": [
    "Congratulations, you're done!\n",
    "\n",
    "We've only scratched the surface of this dataset.  Twitter is a rich source of data about language and social interaction, and not only for political figures.  Now you know how to access it!"
   ]
  }
 ],
 "metadata": {
  "anaconda-cloud": {},
  "kernelspec": {
   "display_name": "Python 3",
   "language": "python",
   "name": "python3"
  },
  "language_info": {
   "codemirror_mode": {
    "name": "ipython",
    "version": 3
   },
   "file_extension": ".py",
   "mimetype": "text/x-python",
   "name": "python",
   "nbconvert_exporter": "python",
   "pygments_lexer": "ipython3",
   "version": "3.6.1"
  }
 },
 "nbformat": 4,
 "nbformat_minor": 1
}
