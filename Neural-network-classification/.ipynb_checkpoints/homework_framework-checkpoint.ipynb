{
 "cells": [
  {
   "cell_type": "markdown",
   "metadata": {
    "deletable": true,
    "editable": true
   },
   "source": [
    "这里提供 Tensorflow 完成作业的框架代码。作业在最后部分已给出"
   ]
  },
  {
   "cell_type": "markdown",
   "metadata": {
    "deletable": true,
    "editable": true
   },
   "source": [
    "## 运行环境"
   ]
  },
  {
   "cell_type": "code",
   "execution_count": 1,
   "metadata": {
    "collapsed": false,
    "deletable": true,
    "editable": true
   },
   "outputs": [
    {
     "name": "stdout",
     "output_type": "stream",
     "text": [
      "2017-05-15T13:20:20\n",
      "\n",
      "CPython 2.7.6\n",
      "IPython 5.3.0\n",
      "\n",
      "compiler   : GCC 4.8.4\n",
      "system     : Linux\n",
      "release    : 4.9.27-moby\n",
      "machine    : x86_64\n",
      "processor  : x86_64\n",
      "CPU cores  : 4\n",
      "interpreter: 64bit\n"
     ]
    }
   ],
   "source": [
    "%load_ext watermark\n",
    "%watermark"
   ]
  },
  {
   "cell_type": "code",
   "execution_count": 2,
   "metadata": {
    "collapsed": false,
    "deletable": true,
    "editable": true
   },
   "outputs": [
    {
     "name": "stdout",
     "output_type": "stream",
     "text": [
      "1.1.0\n"
     ]
    }
   ],
   "source": [
    "import tensorflow as tf\n",
    "print(tf.__version__)"
   ]
  },
  {
   "cell_type": "code",
   "execution_count": 11,
   "metadata": {
    "collapsed": false,
    "deletable": true,
    "editable": true
   },
   "outputs": [
    {
     "name": "stdout",
     "output_type": "stream",
     "text": [
      "Populating the interactive namespace from numpy and matplotlib\n"
     ]
    }
   ],
   "source": [
    "import tensorflow as tf\n",
    "import matplotlib.pyplot as plt\n",
    "import numpy as np\n",
    "%pylab inline"
   ]
  },
  {
   "cell_type": "code",
   "execution_count": 5,
   "metadata": {
    "collapsed": true,
    "deletable": true,
    "editable": true
   },
   "outputs": [],
   "source": [
    "def generate_weight_and_bias(input_dim):\n",
    "    # 1 x input_dim 行向量，相当于课程中的 w^T\n",
    "    w = tf.Variable(tf.random_uniform([1, input_dim], -1, 1))\n",
    "    # b, 1 * 1\n",
    "    bias = tf.Variable(tf.zeros([1, 1]))\n",
    "    return (w, bias)"
   ]
  },
  {
   "cell_type": "markdown",
   "metadata": {
    "deletable": true,
    "editable": true
   },
   "source": [
    "**此处生成一些随机数据，只是为演示所用。最后一个作业的数据请参考 ch3/code/README.md**\n",
    "\n",
    "这里随机生成两类容易分隔的数据"
   ]
  },
  {
   "cell_type": "code",
   "execution_count": 17,
   "metadata": {
    "collapsed": false,
    "deletable": true,
    "editable": true
   },
   "outputs": [
    {
     "data": {
      "text/plain": [
       "[<matplotlib.lines.Line2D at 0x7f9cd9f973d0>]"
      ]
     },
     "execution_count": 17,
     "metadata": {},
     "output_type": "execute_result"
    },
    {
     "data": {
      "image/png": "[encoded data removed]",
      "text/plain": [
       "<matplotlib.figure.Figure at 0x7f9cd9ff4dd0>"
      ]
     },
     "metadata": {},
     "output_type": "display_data"
    }
   ],
   "source": [
    "X = np.concatenate((np.random.rand(2, 50), np.random.rand(2, 50) + 1), axis=1)\n",
    "# 注意这里要转换成 float32，否则默认可能是精度更高的 float64，和后面 W, b 的类型对应，Tensorflow 的矩阵乘法不会自己做类型转化。\n",
    "# 也可以在矩阵乘法中使用 tf.cast(x, tf.float32) 来转换类型\n",
    "X = X.astype(np.float32)\n",
    "y = np.asarray([0] * 50 + [1] * 50)\n",
    "plt.plot(X[0], X[1], '.')"
   ]
  },
  {
   "cell_type": "markdown",
   "metadata": {
    "deletable": true,
    "editable": true
   },
   "source": [
    "## 逻辑回归 (Sigmoid + Cross entropy)"
   ]
  },
  {
   "cell_type": "code",
   "execution_count": 18,
   "metadata": {
    "collapsed": false,
    "deletable": true,
    "editable": true
   },
   "outputs": [
    {
     "name": "stdout",
     "output_type": "stream",
     "text": [
      "<tf.Variable 'Variable:0' shape=(1, 2) dtype=float32_ref> <tf.Variable 'Variable_1:0' shape=(1, 1) dtype=float32_ref>\n"
     ]
    }
   ],
   "source": [
    "W, b = generate_weight_and_bias(2)\n",
    "print W, b\n",
    "nn_output = tf.sigmoid(tf.add(tf.matmul(W, X), b))"
   ]
  },
  {
   "cell_type": "code",
   "execution_count": 19,
   "metadata": {
    "collapsed": false,
    "deletable": true,
    "editable": true
   },
   "outputs": [],
   "source": [
    "with tf.Session() as sess:\n",
    "    sess.run(tf.global_variables_initializer())\n",
    "    res = sess.run(nn_output)"
   ]
  },
  {
   "cell_type": "code",
   "execution_count": 21,
   "metadata": {
    "collapsed": false,
    "deletable": true,
    "editable": true
   },
   "outputs": [
    {
     "name": "stdout",
     "output_type": "stream",
     "text": [
      "[[ 0.52124619  0.67190367  0.6526801   0.58793253  0.58424979  0.59279567\n",
      "   0.58536726  0.56719893  0.67670703  0.61336249  0.59010667  0.57378674\n",
      "   0.61213201  0.56148416  0.64443767  0.51080197  0.65812528  0.59610158\n",
      "   0.55885023  0.63201487  0.5381549   0.57531333  0.62760556  0.57523108\n",
      "   0.58854848  0.57998455  0.60898906  0.58635396  0.61824441  0.58201897\n",
      "   0.62100798  0.65267158  0.65434831  0.67144811  0.61029166  0.64173907\n",
      "   0.63605356  0.65565187  0.63676518  0.63303334  0.55065572  0.51610976\n",
      "   0.62903684  0.59033275  0.62229699  0.65218925  0.61323398  0.50549495\n",
      "   0.61220706  0.56696647  0.755817    0.78299254  0.79971969  0.79766691\n",
      "   0.79262066  0.77144921  0.80336899  0.81900966  0.79862207  0.82292461\n",
      "   0.79101908  0.78023285  0.78480268  0.83703613  0.76758987  0.80076152\n",
      "   0.79015213  0.74641544  0.81730026  0.78999013  0.76070613  0.77087027\n",
      "   0.73796737  0.75634319  0.73979259  0.78323513  0.80062491  0.73216754\n",
      "   0.79337323  0.80426365  0.71835935  0.75019991  0.7714203   0.75950527\n",
      "   0.79315621  0.827923    0.77466285  0.72627234  0.77857339  0.73587656\n",
      "   0.83085603  0.79336959  0.76808339  0.77153164  0.82183129  0.83676839\n",
      "   0.79047441  0.81510812  0.82873881  0.7705943 ]]\n"
     ]
    }
   ],
   "source": [
    "res.shape\n",
    "print res"
   ]
  },
  {
   "cell_type": "markdown",
   "metadata": {
    "deletable": true,
    "editable": true
   },
   "source": [
    "### 利用 numpy 中的操作理解矩阵乘法"
   ]
  },
  {
   "cell_type": "markdown",
   "metadata": {
    "deletable": true,
    "editable": true
   },
   "source": [
    "因为我们的输入 X 是 100 个样本，每一列是一个样本（样本表示为列向量，和课程中的表示一致）。这里看到网络随机初始化之后，输出的结果是一个 (1, 100) 的结果。\n",
    "\n",
    "因为 Tensorflow 中矩阵操作和 numpy 很类似，如果一时不容易理解，可以先用 numpy 的操作来辅助理解"
   ]
  },
  {
   "cell_type": "code",
   "execution_count": 9,
   "metadata": {
    "collapsed": true,
    "deletable": true,
    "editable": true
   },
   "outputs": [],
   "source": [
    "W_np = np.random.uniform(-1, 1, (1, 2))\n",
    "b_np = np.zeros((1, 1))"
   ]
  },
  {
   "cell_type": "code",
   "execution_count": 10,
   "metadata": {
    "collapsed": false,
    "deletable": true,
    "editable": true
   },
   "outputs": [
    {
     "data": {
      "text/plain": [
       "array([[-0.29825738, -0.28873677]])"
      ]
     },
     "execution_count": 10,
     "metadata": {},
     "output_type": "execute_result"
    }
   ],
   "source": [
    "W_np # 1 * 2 矩阵"
   ]
  },
  {
   "cell_type": "code",
   "execution_count": 11,
   "metadata": {
    "collapsed": false,
    "deletable": true,
    "editable": true
   },
   "outputs": [
    {
     "data": {
      "text/plain": [
       "array([[ 0.]])"
      ]
     },
     "execution_count": 11,
     "metadata": {},
     "output_type": "execute_result"
    }
   ],
   "source": [
    "b_np # 1 * 1 矩阵（列向量）"
   ]
  },
  {
   "cell_type": "code",
   "execution_count": 12,
   "metadata": {
    "collapsed": false,
    "deletable": true,
    "editable": true
   },
   "outputs": [
    {
     "data": {
      "text/plain": [
       "(1, 100)"
      ]
     },
     "execution_count": 12,
     "metadata": {},
     "output_type": "execute_result"
    }
   ],
   "source": [
    "X[np.newaxis, 0].shape"
   ]
  },
  {
   "cell_type": "code",
   "execution_count": 13,
   "metadata": {
    "collapsed": false,
    "deletable": true,
    "editable": true
   },
   "outputs": [],
   "source": [
    "# numpy 中矩阵乘法调用的是 dot，而 tensorflow 中调用的是 tf.matmul\n",
    "raw_output = W_np.dot(X) + b_np"
   ]
  },
  {
   "cell_type": "code",
   "execution_count": 14,
   "metadata": {
    "collapsed": false,
    "deletable": true,
    "editable": true
   },
   "outputs": [
    {
     "data": {
      "text/plain": [
       "(1, 100)"
      ]
     },
     "execution_count": 14,
     "metadata": {},
     "output_type": "execute_result"
    }
   ],
   "source": [
    "raw_output.shape"
   ]
  },
  {
   "cell_type": "code",
   "execution_count": 15,
   "metadata": {
    "collapsed": false,
    "deletable": true,
    "editable": true
   },
   "outputs": [
    {
     "ename": "ValueError",
     "evalue": "shapes (1,2) and (1,2) not aligned: 2 (dim 1) != 1 (dim 0)",
     "output_type": "error",
     "traceback": [
      "\u001b[0;31m---------------------------------------------------------------------------\u001b[0m",
      "\u001b[0;31mValueError\u001b[0m                                Traceback (most recent call last)",
      "\u001b[0;32m<ipython-input-15-48c723fad6da>\u001b[0m in \u001b[0;36m<module>\u001b[0;34m()\u001b[0m\n\u001b[1;32m      1\u001b[0m \u001b[0;31m# 我们可以只取样本的一列（一个样本），来更好地观察\u001b[0m\u001b[0;34m\u001b[0m\u001b[0;34m\u001b[0m\u001b[0m\n\u001b[0;32m----> 2\u001b[0;31m \u001b[0mraw_output\u001b[0m \u001b[0;34m=\u001b[0m \u001b[0mW_np\u001b[0m\u001b[0;34m.\u001b[0m\u001b[0mdot\u001b[0m\u001b[0;34m(\u001b[0m\u001b[0mX\u001b[0m\u001b[0;34m[\u001b[0m\u001b[0;34m:\u001b[0m\u001b[0;34m,\u001b[0m \u001b[0;36m0\u001b[0m\u001b[0;34m]\u001b[0m \u001b[0;34m+\u001b[0m \u001b[0mb_np\u001b[0m\u001b[0;34m)\u001b[0m\u001b[0;34m\u001b[0m\u001b[0m\n\u001b[0m\u001b[1;32m      3\u001b[0m \u001b[0;34m\u001b[0m\u001b[0m\n\u001b[1;32m      4\u001b[0m \u001b[0;31m## 上面这个语句会出错，因为 X[0] 在 numpy 里得到的是一个行向量\u001b[0m\u001b[0;34m\u001b[0m\u001b[0;34m\u001b[0m\u001b[0m\n",
      "\u001b[0;31mValueError\u001b[0m: shapes (1,2) and (1,2) not aligned: 2 (dim 1) != 1 (dim 0)"
     ]
    }
   ],
   "source": [
    "# 我们可以只取样本的一列（一个样本），来更好地观察\n",
    "raw_output = W_np.dot(X[:, 0] + b_np)\n",
    "\n",
    "## 上面这个语句会出错，因为 X[0] 在 numpy 里得到的是一个行向量"
   ]
  },
  {
   "cell_type": "code",
   "execution_count": 16,
   "metadata": {
    "collapsed": false,
    "deletable": true,
    "editable": true
   },
   "outputs": [
    {
     "name": "stdout",
     "output_type": "stream",
     "text": [
      "[ 0.63340271  0.27566573]\n",
      "[[ 0.63340271]\n",
      " [ 0.27566573]]\n",
      "[[ 0.63340271]\n",
      " [ 0.27566573]]\n"
     ]
    }
   ],
   "source": [
    "# 我们需要把输入表示成列向量，比较\n",
    "print(X[:, 0])\n",
    "# 以下两种方法都可以变成列向量\n",
    "print(X[:, [0]])\n",
    "print(X[:, 0].reshape(2, 1))"
   ]
  },
  {
   "cell_type": "code",
   "execution_count": 17,
   "metadata": {
    "collapsed": false,
    "deletable": true,
    "editable": true
   },
   "outputs": [],
   "source": [
    "raw_output = W_np.dot(X[:, [0]] + b_np)"
   ]
  },
  {
   "cell_type": "code",
   "execution_count": 18,
   "metadata": {
    "collapsed": false,
    "deletable": true,
    "editable": true
   },
   "outputs": [
    {
     "name": "stdout",
     "output_type": "stream",
     "text": [
      "[[-0.26851186]]\n"
     ]
    }
   ],
   "source": [
    "print(raw_output)"
   ]
  },
  {
   "cell_type": "markdown",
   "metadata": {
    "deletable": true,
    "editable": true
   },
   "source": [
    "而之前得到的 (1, 100) 结果不过是把 100 个样本按列进行拼接，一次性得到 100 个样本的结果而已。"
   ]
  },
  {
   "cell_type": "markdown",
   "metadata": {
    "deletable": true,
    "editable": true
   },
   "source": [
    "### Tensorflow 中的 sigmoid + cross entropy"
   ]
  },
  {
   "cell_type": "markdown",
   "metadata": {
    "deletable": true,
    "editable": true
   },
   "source": [
    "如果看过作业中 \"Neural Network and Deep Learning\" Simgoid + cross entropy 相关章节的话，应该能理解，sigmoid + cross entropy 在求导数的时候，可以把分母进行约简，少做一些计算。\n",
    "\n",
    "Tensorflow 利用了这一特性进行计算约简，因此其有一个专门的 cost 层，叫 `tf.nn.sigmoid_cross_entropy_with_logits`\n",
    "\n",
    "所谓的 logit，其实是 sigmoid 的反函数，也就是说这个 cost 函数，需要的输入是 sigmoid 变换之后的结果，再取其反函数 logit。\n",
    "\n",
    "这么这个结果，其实就是我们神经网络输出节点的原始结果，即在 sigmoid 变换之前的结果。\n",
    "\n",
    "\n",
    "为了配合这个 cost 层进行计算约简，我们需要先准备一个 sigmoid 激活之前的结果，在训练时使用激活之前的结果即可，在『预测』时才使用 sigmoid 激活之后的结果"
   ]
  },
  {
   "cell_type": "code",
   "execution_count": 22,
   "metadata": {
    "collapsed": true,
    "deletable": true,
    "editable": true
   },
   "outputs": [],
   "source": [
    "tf.reset_default_graph()"
   ]
  },
  {
   "cell_type": "code",
   "execution_count": 23,
   "metadata": {
    "collapsed": true,
    "deletable": true,
    "editable": true
   },
   "outputs": [],
   "source": [
    "W, b = generate_weight_and_bias(2)\n",
    "# X, y 这里是用 numpy array 的方式， Tensorflow 会将他们变成 Constant tensor 放入 graph 当中\n",
    "# **请尝试将 X, y 改成 tensorflow 的 placeholder 形式**\n",
    "nn_raw_output = tf.add(tf.matmul(W, X), b)\n",
    "final_output = tf.sigmoid(nn_raw_output)"
   ]
  },
  {
   "cell_type": "code",
   "execution_count": 27,
   "metadata": {
    "collapsed": false,
    "deletable": true,
    "editable": true
   },
   "outputs": [],
   "source": [
    "cost = tf.reduce_mean(\n",
    "    tf.nn.sigmoid_cross_entropy_with_logits(logits=nn_raw_output, labels=y.reshape(1, 100).astype(np.float32))\n",
    ")"
   ]
  },
  {
   "cell_type": "code",
   "execution_count": 25,
   "metadata": {
    "collapsed": true,
    "deletable": true,
    "editable": true
   },
   "outputs": [],
   "source": [
    "def accuracy(preds, labels):\n",
    "    return ((preds > 0.5) == labels).sum() / float(len(labels))"
   ]
  },
  {
   "cell_type": "code",
   "execution_count": 26,
   "metadata": {
    "collapsed": false,
    "deletable": true,
    "editable": true
   },
   "outputs": [
    {
     "name": "stdout",
     "output_type": "stream",
     "text": [
      "0.67\n",
      "0.8\n",
      "0.88\n",
      "0.92\n",
      "0.96\n",
      "0.98\n",
      "1.0\n",
      "1.0\n",
      "1.0\n",
      "1.0\n",
      "1.0\n",
      "1.0\n",
      "1.0\n",
      "1.0\n",
      "1.0\n",
      "1.0\n",
      "1.0\n",
      "1.0\n",
      "1.0\n",
      "1.0\n"
     ]
    }
   ],
   "source": [
    "train_step = tf.train.GradientDescentOptimizer(0.1).minimize(cost)\n",
    "with tf.Session() as sess:\n",
    "    sess.run(tf.global_variables_initializer())\n",
    "    for i in range(1000):\n",
    "        sess.run(train_step)\n",
    "        if i % 50== 0:\n",
    "            preds = sess.run(final_output)\n",
    "            print(accuracy(preds, y))"
   ]
  },
  {
   "cell_type": "markdown",
   "metadata": {
    "deletable": true,
    "editable": true
   },
   "source": [
    "**请通过改动框架代码，来实现作业剩余的部分**\n",
    "- X, y 这里是用 numpy array 的方式， Tensorflow 会将他们变成 Constant tensor 放入 graph 当中。**请尝试将 X, y 改成 tensorflow 的 placeholder 形式**\n",
    "- 实现随机梯度下降的线性回归\n",
    "- 针对给定二分类数据，实现无隐层神经网络，单隐层神经网络。比较准确率并绘制分界面\n",
    "\n"
   ]
  }
 ],
 "metadata": {
  "kernelspec": {
   "display_name": "Python 2",
   "language": "python",
   "name": "python2"
  },
  "language_info": {
   "codemirror_mode": {
    "name": "ipython",
    "version": 2
   },
   "file_extension": ".py",
   "mimetype": "text/x-python",
   "name": "python",
   "nbconvert_exporter": "python",
   "pygments_lexer": "ipython2",
   "version": "2.7.6"
  }
 },
 "nbformat": 4,
 "nbformat_minor": 2
}
