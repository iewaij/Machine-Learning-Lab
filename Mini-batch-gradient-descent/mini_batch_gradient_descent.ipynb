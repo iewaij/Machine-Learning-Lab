{
 "cells": [
  {
   "cell_type": "code",
   "execution_count": 1,
   "metadata": {
    "collapsed": false,
    "deletable": true,
    "editable": true
   },
   "outputs": [
    {
     "name": "stdout",
     "output_type": "stream",
     "text": [
      "CPython 2.7.6\n",
      "IPython 5.3.0\n",
      "\n",
      "tensorflow 1.1.0\n",
      "\n",
      "compiler   : GCC 4.8.4\n",
      "system     : Linux\n",
      "release    : 4.9.27-moby\n",
      "machine    : x86_64\n",
      "processor  : x86_64\n",
      "CPU cores  : 4\n",
      "interpreter: 64bit\n"
     ]
    }
   ],
   "source": [
    "%load_ext watermark\n",
    "%watermark -v -m -p tensorflow"
   ]
  },
  {
   "cell_type": "code",
   "execution_count": 1,
   "metadata": {
    "collapsed": false,
    "deletable": true,
    "editable": true
   },
   "outputs": [
    {
     "name": "stdout",
     "output_type": "stream",
     "text": [
      "Populating the interactive namespace from numpy and matplotlib\n"
     ]
    }
   ],
   "source": [
    "import tensorflow as tf\n",
    "import matplotlib.pyplot as plt\n",
    "import numpy as np\n",
    "from __future__ import division\n",
    "import seaborn as sns\n",
    "%pylab inline"
   ]
  },
  {
   "cell_type": "code",
   "execution_count": 8,
   "metadata": {
    "collapsed": false,
    "deletable": true,
    "editable": true
   },
   "outputs": [
    {
     "data": {
      "image/png": "[encoded data removed]",
      "text/plain": [
       "<matplotlib.figure.Figure at 0x7fb34823df10>"
      ]
     },
     "metadata": {},
     "output_type": "display_data"
    }
   ],
   "source": [
    "# training size\n",
    "m = 81\n",
    "x = np.linspace(0, m-1, m)\n",
    "y_ori = 10 - 2 * x\n",
    "\n",
    "# add noise\n",
    "y = y_ori + np.random.normal(scale=5, size=m)\n",
    "\n",
    "plt.plot(x, y_ori, 'k', lw=1)\n",
    "plt.plot(x, y, '.', lw=1)\n",
    "plt.show()"
   ]
  },
  {
   "cell_type": "code",
   "execution_count": 9,
   "metadata": {
    "collapsed": false,
    "deletable": true,
    "editable": true
   },
   "outputs": [],
   "source": [
    "#Sample\n",
    "def sample(k):\n",
    "    index = np.random.randint(m, size = k)\n",
    "    x_random = x[index]\n",
    "    y_random = y[index]\n",
    "    return x_random, y_random"
   ]
  },
  {
   "cell_type": "code",
   "execution_count": 19,
   "metadata": {
    "collapsed": false,
    "deletable": true,
    "editable": true
   },
   "outputs": [],
   "source": [
    "tf.reset_default_graph()\n",
    "w = tf.Variable(tf.random_uniform([1], -1.0, 1.0), name = 'W')\n",
    "b = tf.Variable(tf.zeros([1]), name = 'b')\n",
    "x_ph = tf.placeholder('float')\n",
    "y_ph = tf.placeholder('float')\n",
    "y_bar = w * x_ph + b\n",
    "cost = tf.reduce_mean(tf.square(y_bar-y_ph))"
   ]
  },
  {
   "cell_type": "code",
   "execution_count": 26,
   "metadata": {
    "collapsed": false,
    "deletable": true,
    "editable": true
   },
   "outputs": [
    {
     "name": "stdout",
     "output_type": "stream",
     "text": [
      "5271.87 [array([-0.28772604], dtype=float32), array([-0.02084358], dtype=float32)]\n",
      "1703.46 [array([-0.67073071], dtype=float32), array([-0.0303199], dtype=float32)]\n",
      "835.912 [array([-1.25391626], dtype=float32), array([-0.04005023], dtype=float32)]\n",
      "280.807 [array([-1.49267972], dtype=float32), array([-0.04338592], dtype=float32)]\n",
      "97.7183 [array([-1.61289322], dtype=float32), array([-0.04512046], dtype=float32)]\n",
      "81.215 [array([-1.66192698], dtype=float32), array([-0.04565758], dtype=float32)]\n",
      "44.164 [array([-1.77011836], dtype=float32), array([-0.04734623], dtype=float32)]\n",
      "75.4912 [array([-1.75888515], dtype=float32), array([-0.04640585], dtype=float32)]\n",
      "11.5505 [array([-1.76131392], dtype=float32), array([-0.04617105], dtype=float32)]\n",
      "87.2831 [array([-1.77931488], dtype=float32), array([-0.04564122], dtype=float32)]\n",
      "54.0252 [array([-1.7820375], dtype=float32), array([-0.04512456], dtype=float32)]\n",
      "40.1976 [array([-1.77370942], dtype=float32), array([-0.04441246], dtype=float32)]\n",
      "47.8795 [array([-1.80835295], dtype=float32), array([-0.04464028], dtype=float32)]\n",
      "30.4811 [array([-1.83552766], dtype=float32), array([-0.04474479], dtype=float32)]\n",
      "55.4669 [array([-1.8110882], dtype=float32), array([-0.04357557], dtype=float32)]\n",
      "55.4156 [array([-1.81534314], dtype=float32), array([-0.04299611], dtype=float32)]\n",
      "34.4005 [array([-1.84030557], dtype=float32), array([-0.04308684], dtype=float32)]\n",
      "24.6843 [array([-1.84920251], dtype=float32), array([-0.04301407], dtype=float32)]\n",
      "49.9265 [array([-1.83289826], dtype=float32), array([-0.0420456], dtype=float32)]\n",
      "15.7324 [array([-1.85222697], dtype=float32), array([-0.04234707], dtype=float32)]\n",
      "28.3383 [array([-1.85159099], dtype=float32), array([-0.04205198], dtype=float32)]\n",
      "29.7195 [array([-1.84813547], dtype=float32), array([-0.04161583], dtype=float32)]\n",
      "28.7562 [array([-1.83397782], dtype=float32), array([-0.04123605], dtype=float32)]\n",
      "39.9863 [array([-1.82633603], dtype=float32), array([-0.04065188], dtype=float32)]\n",
      "9.93642 [array([-1.86042786], dtype=float32), array([-0.04109298], dtype=float32)]\n",
      "61.8808 [array([-1.82949889], dtype=float32), array([-0.040131], dtype=float32)]\n",
      "23.0974 [array([-1.83416581], dtype=float32), array([-0.03999433], dtype=float32)]\n",
      "26.1822 [array([-1.83250237], dtype=float32), array([-0.03974814], dtype=float32)]\n",
      "42.0426 [array([-1.83729327], dtype=float32), array([-0.03929577], dtype=float32)]\n",
      "30.5063 [array([-1.82136655], dtype=float32), array([-0.03885401], dtype=float32)]\n",
      "38.9273 [array([-1.82398355], dtype=float32), array([-0.03864199], dtype=float32)]\n",
      "12.0787 [array([-1.82000887], dtype=float32), array([-0.03850917], dtype=float32)]\n",
      "27.452 [array([-1.80426073], dtype=float32), array([-0.03807778], dtype=float32)]\n",
      "36.2398 [array([-1.79991007], dtype=float32), array([-0.03764988], dtype=float32)]\n",
      "17.252 [array([-1.81611633], dtype=float32), array([-0.03768968], dtype=float32)]\n",
      "70.0506 [array([-1.84032881], dtype=float32), array([-0.03769109], dtype=float32)]\n",
      "27.6086 [array([-1.81880593], dtype=float32), array([-0.03705134], dtype=float32)]\n",
      "48.3625 [array([-1.79605079], dtype=float32), array([-0.03605339], dtype=float32)]\n",
      "33.6874 [array([-1.8191365], dtype=float32), array([-0.03618448], dtype=float32)]\n",
      "29.4992 [array([-1.81961286], dtype=float32), array([-0.03596951], dtype=float32)]\n",
      "37.801 [array([-1.83459508], dtype=float32), array([-0.03565349], dtype=float32)]\n",
      "46.368 [array([-1.82711101], dtype=float32), array([-0.03488841], dtype=float32)]\n",
      "33.0369 [array([-1.81207669], dtype=float32), array([-0.03429216], dtype=float32)]\n",
      "41.7751 [array([-1.79785252], dtype=float32), array([-0.03362366], dtype=float32)]\n",
      "25.1353 [array([-1.80981028], dtype=float32), array([-0.03357115], dtype=float32)]\n",
      "43.6858 [array([-1.80700958], dtype=float32), array([-0.03305325], dtype=float32)]\n",
      "45.3411 [array([-1.80802178], dtype=float32), array([-0.0325476], dtype=float32)]\n",
      "21.7219 [array([-1.83914924], dtype=float32), array([-0.03293642], dtype=float32)]\n",
      "29.6582 [array([-1.81985235], dtype=float32), array([-0.03225517], dtype=float32)]\n",
      "49.4646 [array([-1.83848429], dtype=float32), array([-0.03225192], dtype=float32)]\n",
      "76.1025 [array([-1.8481518], dtype=float32), array([-0.03151619], dtype=float32)]\n",
      "57.8444 [array([-1.82989311], dtype=float32), array([-0.03038758], dtype=float32)]\n",
      "31.9152 [array([-1.81319594], dtype=float32), array([-0.02951274], dtype=float32)]\n",
      "50.8032 [array([-1.7965132], dtype=float32), array([-0.0286832], dtype=float32)]\n",
      "31.51 [array([-1.80415595], dtype=float32), array([-0.02845848], dtype=float32)]\n",
      "29.9788 [array([-1.78375006], dtype=float32), array([-0.02763203], dtype=float32)]\n",
      "21.2176 [array([-1.80749249], dtype=float32), array([-0.02779342], dtype=float32)]\n",
      "59.8347 [array([-1.85086739], dtype=float32), array([-0.02831382], dtype=float32)]\n",
      "43.0822 [array([-1.83738458], dtype=float32), array([-0.02760299], dtype=float32)]\n",
      "37.7386 [array([-1.82631254], dtype=float32), array([-0.02698274], dtype=float32)]\n",
      "97.8935 [array([-1.82734895], dtype=float32), array([-0.02575187], dtype=float32)]\n",
      "77.0614 [array([-1.82350671], dtype=float32), array([-0.02481668], dtype=float32)]\n",
      "15.4759 [array([-1.82679772], dtype=float32), array([-0.02493742], dtype=float32)]\n",
      "51.8985 [array([-1.80714703], dtype=float32), array([-0.02414654], dtype=float32)]\n",
      "26.099 [array([-1.83303487], dtype=float32), array([-0.02438386], dtype=float32)]\n",
      "41.2388 [array([-1.81688225], dtype=float32), array([-0.02359319], dtype=float32)]\n",
      "33.6323 [array([-1.80885506], dtype=float32), array([-0.02323392], dtype=float32)]\n",
      "57.1564 [array([-1.83135641], dtype=float32), array([-0.02313902], dtype=float32)]\n",
      "23.0925 [array([-1.81955719], dtype=float32), array([-0.02270262], dtype=float32)]\n",
      "21.2278 [array([-1.82235563], dtype=float32), array([-0.0224118], dtype=float32)]\n",
      "43.8169 [array([-1.80876207], dtype=float32), array([-0.02163372], dtype=float32)]\n",
      "29.9201 [array([-1.80948389], dtype=float32), array([-0.02133719], dtype=float32)]\n",
      "56.3818 [array([-1.82885015], dtype=float32), array([-0.02102], dtype=float32)]\n",
      "14.9357 [array([-1.82295382], dtype=float32), array([-0.02081034], dtype=float32)]\n",
      "26.9511 [array([-1.83362019], dtype=float32), array([-0.02059871], dtype=float32)]\n",
      "53.2625 [array([-1.82982635], dtype=float32), array([-0.01999376], dtype=float32)]\n",
      "50.9701 [array([-1.81248903], dtype=float32), array([-0.0191846], dtype=float32)]\n",
      "20.6296 [array([-1.83590257], dtype=float32), array([-0.01950505], dtype=float32)]\n",
      "60.9211 [array([-1.8028394], dtype=float32), array([-0.01835059], dtype=float32)]\n",
      "47.6892 [array([-1.79777515], dtype=float32), array([-0.01773154], dtype=float32)]\n",
      "77.4906 [array([-1.790995], dtype=float32), array([-0.01660175], dtype=float32)]\n",
      "41.9336 [array([-1.81220937], dtype=float32), array([-0.01665278], dtype=float32)]\n",
      "84.3614 [array([-1.81666958], dtype=float32), array([-0.01555109], dtype=float32)]\n",
      "39.873 [array([-1.79948449], dtype=float32), array([-0.01487511], dtype=float32)]\n",
      "29.2913 [array([-1.83286178], dtype=float32), array([-0.01518494], dtype=float32)]\n",
      "43.7545 [array([-1.83588755], dtype=float32), array([-0.01445469], dtype=float32)]\n",
      "57.9526 [array([-1.83137262], dtype=float32), array([-0.01387332], dtype=float32)]\n",
      "29.0728 [array([-1.81298673], dtype=float32), array([-0.01331026], dtype=float32)]\n",
      "39.4228 [array([-1.83811474], dtype=float32), array([-0.01334019], dtype=float32)]\n",
      "60.6181 [array([-1.81937277], dtype=float32), array([-0.01222991], dtype=float32)]\n",
      "28.7863 [array([-1.84779465], dtype=float32), array([-0.01234192], dtype=float32)]\n",
      "31.3302 [array([-1.83552063], dtype=float32), array([-0.01165634], dtype=float32)]\n",
      "30.2317 [array([-1.82748473], dtype=float32), array([-0.01119472], dtype=float32)]\n",
      "15.0596 [array([-1.80442095], dtype=float32), array([-0.01066615], dtype=float32)]\n",
      "58.706 [array([-1.82903433], dtype=float32), array([-0.01046923], dtype=float32)]\n",
      "30.9335 [array([-1.80666852], dtype=float32), array([-0.00963362], dtype=float32)]\n",
      "43.1018 [array([-1.81645417], dtype=float32), array([-0.00936725], dtype=float32)]\n",
      "37.8993 [array([-1.81478107], dtype=float32), array([-0.00885097], dtype=float32)]\n",
      "35.9814 [array([-1.81557298], dtype=float32), array([-0.0084966], dtype=float32)]\n",
      "30.1069 [array([-1.84463167], dtype=float32), array([-0.00866617], dtype=float32)]\n"
     ]
    },
    {
     "data": {
      "text/plain": [
       "[<matplotlib.lines.Line2D at 0x7fb332df7e50>]"
      ]
     },
     "execution_count": 26,
     "metadata": {},
     "output_type": "execute_result"
    },
    {
     "data": {
      "image/png": "[encoded data removed]",
      "text/plain": [
       "<matplotlib.figure.Figure at 0x7fb348051a10>"
      ]
     },
     "metadata": {},
     "output_type": "display_data"
    }
   ],
   "source": [
    "train_step = tf.train.GradientDescentOptimizer(0.0001).minimize(cost)\n",
    "costs = []\n",
    "\n",
    "with tf.Session() as sess:\n",
    "    init = tf.global_variables_initializer()\n",
    "    sess.run(init)\n",
    "    for i in range(100):\n",
    "        x_random, y_random = sample(10)\n",
    "        feed_dict = {x_ph:x_random,y_ph:y_random}\n",
    "        sess.run(train_step, feed_dict = feed_dict)\n",
    "        cost_value = sess.run(cost, feed_dict = feed_dict)\n",
    "        costs.append(cost_value)\n",
    "        print cost_value, sess.run([w, b])\n",
    "\n",
    "plt.plot(costs)"
   ]
  },
  {
   "cell_type": "code",
   "execution_count": 22,
   "metadata": {
    "collapsed": false
   },
   "outputs": [
    {
     "name": "stdout",
     "output_type": "stream",
     "text": [
      "3486.69 [array([-0.55070347], dtype=float32), array([-0.01728971], dtype=float32)]\n",
      "1164.64 [array([-1.09440517], dtype=float32), array([-0.02695203], dtype=float32)]\n",
      "408.832 [array([-1.40460026], dtype=float32), array([-0.03226281], dtype=float32)]\n",
      "162.823 [array([-1.58157587], dtype=float32), array([-0.03509096], dtype=float32)]\n",
      "82.7478 [array([-1.68254733], dtype=float32), array([-0.03650275], dtype=float32)]\n",
      "56.6826 [array([-1.74015701], dtype=float32), array([-0.03710648], dtype=float32)]\n",
      "48.1972 [array([-1.77302814], dtype=float32), array([-0.03724921], dtype=float32)]\n",
      "45.4338 [array([-1.79178548], dtype=float32), array([-0.03712895], dtype=float32)]\n",
      "44.5328 [array([-1.80249059], dtype=float32), array([-0.03685865], dtype=float32)]\n",
      "44.2381 [array([-1.80860174], dtype=float32), array([-0.03650276], dtype=float32)]\n",
      "44.1407 [array([-1.81209207], dtype=float32), array([-0.03609806], dtype=float32)]\n",
      "44.1075 [array([-1.81408715], dtype=float32), array([-0.03566551], dtype=float32)]\n",
      "44.0952 [array([-1.81522918], dtype=float32), array([-0.03521709], dtype=float32)]\n",
      "44.0897 [array([-1.81588447], dtype=float32), array([-0.03475962], dtype=float32)]\n",
      "44.0864 [array([-1.81626201], dtype=float32), array([-0.034297], dtype=float32)]\n",
      "44.0839 [array([-1.81648123], dtype=float32), array([-0.03383146], dtype=float32)]\n",
      "44.0816 [array([-1.81660998], dtype=float32), array([-0.03336425], dtype=float32)]\n",
      "44.0793 [array([-1.81668723], dtype=float32), array([-0.03289611], dtype=float32)]\n",
      "44.0771 [array([-1.81673503], dtype=float32), array([-0.03242744], dtype=float32)]\n",
      "44.0749 [array([-1.81676614], dtype=float32), array([-0.03195849], dtype=float32)]\n",
      "44.0727 [array([-1.8167876], dtype=float32), array([-0.03148938], dtype=float32)]\n",
      "44.0705 [array([-1.81680357], dtype=float32), array([-0.03102019], dtype=float32)]\n",
      "44.0683 [array([-1.81681645], dtype=float32), array([-0.03055096], dtype=float32)]\n",
      "44.0661 [array([-1.81682754], dtype=float32), array([-0.03008173], dtype=float32)]\n",
      "44.0639 [array([-1.81683767], dtype=float32), array([-0.02961251], dtype=float32)]\n",
      "44.0617 [array([-1.81684721], dtype=float32), array([-0.02914329], dtype=float32)]\n",
      "44.0595 [array([-1.81685638], dtype=float32), array([-0.0286741], dtype=float32)]\n",
      "44.0573 [array([-1.81686532], dtype=float32), array([-0.02820492], dtype=float32)]\n",
      "44.0551 [array([-1.81687427], dtype=float32), array([-0.02773577], dtype=float32)]\n",
      "44.0529 [array([-1.81688309], dtype=float32), array([-0.02726663], dtype=float32)]\n",
      "44.0507 [array([-1.81689179], dtype=float32), array([-0.02679753], dtype=float32)]\n",
      "44.0485 [array([-1.81690061], dtype=float32), array([-0.02632844], dtype=float32)]\n",
      "44.0463 [array([-1.81690931], dtype=float32), array([-0.02585938], dtype=float32)]\n",
      "44.0441 [array([-1.81691802], dtype=float32), array([-0.02539034], dtype=float32)]\n",
      "44.0419 [array([-1.81692684], dtype=float32), array([-0.02492133], dtype=float32)]\n",
      "44.0397 [array([-1.81693566], dtype=float32), array([-0.02445234], dtype=float32)]\n",
      "44.0375 [array([-1.81694436], dtype=float32), array([-0.02398338], dtype=float32)]\n",
      "44.0353 [array([-1.81695306], dtype=float32), array([-0.02351443], dtype=float32)]\n",
      "44.0331 [array([-1.81696177], dtype=float32), array([-0.02304552], dtype=float32)]\n",
      "44.0309 [array([-1.81697047], dtype=float32), array([-0.02257662], dtype=float32)]\n",
      "44.0287 [array([-1.81697929], dtype=float32), array([-0.02210775], dtype=float32)]\n",
      "44.0265 [array([-1.81698799], dtype=float32), array([-0.02163891], dtype=float32)]\n",
      "44.0243 [array([-1.81699669], dtype=float32), array([-0.02117009], dtype=float32)]\n",
      "44.0221 [array([-1.81700552], dtype=float32), array([-0.02070129], dtype=float32)]\n",
      "44.0199 [array([-1.81701422], dtype=float32), array([-0.02023251], dtype=float32)]\n",
      "44.0177 [array([-1.81702292], dtype=float32), array([-0.01976376], dtype=float32)]\n",
      "44.0155 [array([-1.81703174], dtype=float32), array([-0.01929503], dtype=float32)]\n",
      "44.0133 [array([-1.81704044], dtype=float32), array([-0.01882633], dtype=float32)]\n",
      "44.0111 [array([-1.81704915], dtype=float32), array([-0.01835765], dtype=float32)]\n",
      "44.0089 [array([-1.81705785], dtype=float32), array([-0.017889], dtype=float32)]\n",
      "44.0067 [array([-1.81706655], dtype=float32), array([-0.01742037], dtype=float32)]\n",
      "44.0045 [array([-1.81707537], dtype=float32), array([-0.01695176], dtype=float32)]\n",
      "44.0023 [array([-1.81708407], dtype=float32), array([-0.01648318], dtype=float32)]\n",
      "44.0001 [array([-1.8170929], dtype=float32), array([-0.01601462], dtype=float32)]\n",
      "43.9979 [array([-1.8171016], dtype=float32), array([-0.01554608], dtype=float32)]\n",
      "43.9957 [array([-1.8171103], dtype=float32), array([-0.01507757], dtype=float32)]\n",
      "43.9935 [array([-1.817119], dtype=float32), array([-0.01460908], dtype=float32)]\n",
      "43.9913 [array([-1.8171277], dtype=float32), array([-0.01414062], dtype=float32)]\n",
      "43.9891 [array([-1.81713641], dtype=float32), array([-0.01367218], dtype=float32)]\n",
      "43.9869 [array([-1.81714523], dtype=float32), array([-0.01320376], dtype=float32)]\n",
      "43.9847 [array([-1.81715393], dtype=float32), array([-0.01273537], dtype=float32)]\n",
      "43.9825 [array([-1.81716263], dtype=float32), array([-0.012267], dtype=float32)]\n",
      "43.9804 [array([-1.81717134], dtype=float32), array([-0.01179865], dtype=float32)]\n",
      "43.9782 [array([-1.81718016], dtype=float32), array([-0.01133033], dtype=float32)]\n",
      "43.976 [array([-1.81718886], dtype=float32), array([-0.01086203], dtype=float32)]\n",
      "43.9738 [array([-1.81719756], dtype=float32), array([-0.01039376], dtype=float32)]\n",
      "43.9716 [array([-1.81720626], dtype=float32), array([-0.00992551], dtype=float32)]\n",
      "43.9694 [array([-1.81721497], dtype=float32), array([-0.00945729], dtype=float32)]\n",
      "43.9672 [array([-1.81722367], dtype=float32), array([-0.00898908], dtype=float32)]\n",
      "43.965 [array([-1.81723249], dtype=float32), array([-0.00852091], dtype=float32)]\n",
      "43.9628 [array([-1.81724119], dtype=float32), array([-0.00805275], dtype=float32)]\n",
      "43.9606 [array([-1.81724989], dtype=float32), array([-0.00758462], dtype=float32)]\n",
      "43.9584 [array([-1.8172586], dtype=float32), array([-0.00711652], dtype=float32)]\n",
      "43.9562 [array([-1.8172673], dtype=float32), array([-0.00664843], dtype=float32)]\n",
      "43.954 [array([-1.817276], dtype=float32), array([-0.00618037], dtype=float32)]\n",
      "43.9518 [array([-1.81728482], dtype=float32), array([-0.00571234], dtype=float32)]\n",
      "43.9497 [array([-1.81729352], dtype=float32), array([-0.00524433], dtype=float32)]\n",
      "43.9475 [array([-1.81730223], dtype=float32), array([-0.00477634], dtype=float32)]\n",
      "43.9453 [array([-1.81731093], dtype=float32), array([-0.00430838], dtype=float32)]\n",
      "43.9431 [array([-1.81731963], dtype=float32), array([-0.00384044], dtype=float32)]\n",
      "43.9409 [array([-1.81732833], dtype=float32), array([-0.00337252], dtype=float32)]\n",
      "43.9387 [array([-1.81733704], dtype=float32), array([-0.00290463], dtype=float32)]\n",
      "43.9365 [array([-1.81734586], dtype=float32), array([-0.00243676], dtype=float32)]\n",
      "43.9343 [array([-1.81735456], dtype=float32), array([-0.00196892], dtype=float32)]\n",
      "43.9321 [array([-1.81736326], dtype=float32), array([-0.0015011], dtype=float32)]\n",
      "43.93 [array([-1.81737196], dtype=float32), array([-0.0010333], dtype=float32)]\n",
      "43.9278 [array([-1.81738067], dtype=float32), array([-0.00056553], dtype=float32)]\n",
      "43.9256 [array([-1.81738937], dtype=float32), array([ -9.77785094e-05], dtype=float32)]\n",
      "43.9234 [array([-1.81739807], dtype=float32), array([ 0.00036995], dtype=float32)]\n",
      "43.9212 [array([-1.81740677], dtype=float32), array([ 0.00083765], dtype=float32)]\n",
      "43.919 [array([-1.8174156], dtype=float32), array([ 0.00130532], dtype=float32)]\n",
      "43.9168 [array([-1.8174243], dtype=float32), array([ 0.00177298], dtype=float32)]\n",
      "43.9146 [array([-1.817433], dtype=float32), array([ 0.00224061], dtype=float32)]\n",
      "43.9124 [array([-1.8174417], dtype=float32), array([ 0.00270822], dtype=float32)]\n",
      "43.9103 [array([-1.8174504], dtype=float32), array([ 0.0031758], dtype=float32)]\n",
      "43.9081 [array([-1.81745911], dtype=float32), array([ 0.00364336], dtype=float32)]\n",
      "43.9059 [array([-1.81746793], dtype=float32), array([ 0.00411089], dtype=float32)]\n",
      "43.9037 [array([-1.81747663], dtype=float32), array([ 0.0045784], dtype=float32)]\n",
      "43.9015 [array([-1.81748533], dtype=float32), array([ 0.00504589], dtype=float32)]\n",
      "43.8993 [array([-1.81749403], dtype=float32), array([ 0.00551336], dtype=float32)]\n"
     ]
    },
    {
     "data": {
      "text/plain": [
       "[<matplotlib.lines.Line2D at 0x7fb3480cad50>]"
      ]
     },
     "execution_count": 22,
     "metadata": {},
     "output_type": "execute_result"
    },
    {
     "data": {
      "image/png": "[encoded data removed]",
      "text/plain": [
       "<matplotlib.figure.Figure at 0x7fb3482a4ed0>"
      ]
     },
     "metadata": {},
     "output_type": "display_data"
    }
   ],
   "source": [
    "train_step = tf.train.GradientDescentOptimizer(0.0001).minimize(cost)\n",
    "costs = []\n",
    "\n",
    "with tf.Session() as sess:\n",
    "    init = tf.global_variables_initializer()\n",
    "    sess.run(init)\n",
    "    for i in range(100):\n",
    "        feed_dict = {x_ph:x,y_ph:y}\n",
    "        sess.run(train_step, feed_dict = feed_dict)\n",
    "        cost_value = sess.run(cost, feed_dict = feed_dict)\n",
    "        costs.append(cost_value)\n",
    "        print cost_value, sess.run([w, b])\n",
    "plt.plot(costs)"
   ]
  }
 ],
 "metadata": {
  "kernelspec": {
   "display_name": "Python 2",
   "language": "python",
   "name": "python2"
  },
  "language_info": {
   "codemirror_mode": {
    "name": "ipython",
    "version": 2
   },
   "file_extension": ".py",
   "mimetype": "text/x-python",
   "name": "python",
   "nbconvert_exporter": "python",
   "pygments_lexer": "ipython2",
   "version": "2.7.6"
  }
 },
 "nbformat": 4,
 "nbformat_minor": 2
}
